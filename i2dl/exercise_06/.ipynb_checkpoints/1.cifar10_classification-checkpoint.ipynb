{
 "cells": [
  {
   "cell_type": "markdown",
   "metadata": {
    "id": "g6vUCiE_N5eU"
   },
   "source": [
    "# Cifar10 Classification"
   ]
  },
  {
   "cell_type": "markdown",
   "metadata": {
    "id": "X9ridWdTN5eY"
   },
   "source": [
    "Until now, we have implemented several pieces of a deep learning pipeline and trained a two-layer neural network, but all hyperparameters were pre-set to values yielding resonable results. However, in real problems a large part of the work will be geared towards finding the best hyperparameter settings for a certain problem. In this notebook we will explore some good practices for network debugging and hyperparameters search, as well as extending our binary classification neural network to a multi-class one.\n",
    "\n",
    "Let's go!"
   ]
  },
  {
   "cell_type": "markdown",
   "metadata": {
    "id": "4sTNILP7OCzb"
   },
   "source": [
    "## (Optional) Mount folder in Colab\n",
    "\n",
    "Uncomment the following cell to mount your gdrive if you are using the notebook in google colab:"
   ]
  },
  {
   "cell_type": "code",
   "execution_count": 1,
   "metadata": {
    "colab": {
     "base_uri": "https://localhost:8080/"
    },
    "executionInfo": {
     "elapsed": 35664,
     "status": "ok",
     "timestamp": 1650011700447,
     "user": {
      "displayName": "Weber Anna",
      "userId": "18154618360144454414"
     },
     "user_tz": -120
    },
    "id": "PoG-5okpOPht",
    "outputId": "a670ffa3-ee59-4ef5-e323-3f3fec373486"
   },
   "outputs": [
    {
     "data": {
      "text/plain": [
       "'\"\"\\nfrom google.colab import drive\\nimport os\\n\\ngdrive_path=\\'/content/gdrive/MyDrive/i2dl/exercise_06\\'\\n\\n# This will mount your google drive under \\'MyDrive\\'\\ndrive.mount(\\'/content/gdrive\\', force_remount=True)\\n# In order to access the files in this notebook we have to navigate to the correct folder\\nos.chdir(gdrive_path)\\n# Check manually if all files are present\\nprint(sorted(os.listdir()))\\n'"
      ]
     },
     "execution_count": 1,
     "metadata": {},
     "output_type": "execute_result"
    }
   ],
   "source": [
    "\"\"\"\"\"\n",
    "from google.colab import drive\n",
    "import os\n",
    "\n",
    "gdrive_path='/content/gdrive/MyDrive/i2dl/exercise_06'\n",
    "\n",
    "# This will mount your google drive under 'MyDrive'\n",
    "drive.mount('/content/gdrive', force_remount=True)\n",
    "# In order to access the files in this notebook we have to navigate to the correct folder\n",
    "os.chdir(gdrive_path)\n",
    "# Check manually if all files are present\n",
    "print(sorted(os.listdir()))\n",
    "\"\"\"\"\""
   ]
  },
  {
   "cell_type": "code",
   "execution_count": 2,
   "metadata": {
    "id": "JZmN1ATIN5eY"
   },
   "outputs": [],
   "source": [
    "# Some lengthy setup.\n",
    "import matplotlib.pyplot as plt\n",
    "import numpy as np\n",
    "import os\n",
    "import urllib.request\n",
    "\n",
    "from exercise_code.networks.layer import (\n",
    "    Sigmoid, \n",
    "    Relu, \n",
    "    LeakyRelu, \n",
    "    Tanh,\n",
    ")\n",
    "from exercise_code.data import (\n",
    "    DataLoader,\n",
    "    ImageFolderDataset,\n",
    "    MemoryImageFolderDataset,\n",
    "    RescaleTransform,\n",
    "    NormalizeTransform,\n",
    "    FlattenTransform,\n",
    "    ComposeTransform,\n",
    ")\n",
    "from exercise_code.data.image_folder_dataset import RandomHorizontalFlip\n",
    "from exercise_code.networks import (\n",
    "    ClassificationNet,\n",
    "    BCE,\n",
    "    CrossEntropyFromLogits\n",
    ")\n",
    "\n",
    "%load_ext autoreload\n",
    "%autoreload 2\n",
    "%matplotlib inline\n",
    "\n",
    "plt.rcParams['figure.figsize'] = (10.0, 8.0) # set default size of plots\n",
    "plt.rcParams['image.interpolation'] = 'nearest'\n",
    "plt.rcParams['image.cmap'] = 'gray'"
   ]
  },
  {
   "cell_type": "markdown",
   "metadata": {
    "id": "tRdaBwnMN5ea"
   },
   "source": [
    "# 1. Quick recap (and some new things)"
   ]
  },
  {
   "cell_type": "markdown",
   "metadata": {
    "id": "zsNrBTkyN5eb"
   },
   "source": [
    "Until now, in the previous exercises, we focused on building and understanding all the necessary modules for training a simple model. We followed the Pytorch implementations closely, as this is the framework we will use later and we wanted you to have a smoother transition to its APIs. \n",
    "\n",
    "In the figure below you can see the main components in Pytorch. Let's start with a quick recap of **our implementation** of these components. \n",
    "\n",
    "<div class=\"alert alert-success\">\n",
    "    <h3>Task: Check Code</h3>\n",
    "    <p>Everything is already implemented for this part, but we <b>strongly</b> encourage you to check  the respective source files in order to have a better understanding. </p>\n",
    "</div>"
   ]
  },
  {
   "cell_type": "markdown",
   "metadata": {
    "id": "reTr9-VRN5ec"
   },
   "source": [
    "<img src=\"https://cdn-images-1.medium.com/max/800/1*uZrS4KjAuSJQIJPgOiaJUg.png\" style=\"width: 500px;\">"
   ]
  },
  {
   "cell_type": "markdown",
   "metadata": {
    "id": "4fZoL6hvN5ec"
   },
   "source": [
    "## 1.1 Dataset and Dataloader"
   ]
  },
  {
   "cell_type": "markdown",
   "metadata": {
    "id": "jvv1QqmJN5ed"
   },
   "source": [
    "Data preparation is an important part of deep learning projects. Because the data can come in different formats and from different sources, it must be prepared in a certain way, which depends on the application. One part, however, is uniform: since an entire dataset is usually too large to handle at once, we train our models on smaller batches of data. \n",
    "\n",
    "The goal of the ```Dataset``` class is to encapsulate all the 'dirty' data processing: loading and cleaning the data, storing features (or names of files where features can be found) and labels, as well as providing the means for accessing individual (transformed) items of the data using the ```__getitem__()``` function and an index. You already implemented an ```ImageFolderDataset``` (in ```exercise_code/data/image_folder_dataset.py```) class in Exercise 3. We we will reuse this class here.\n",
    "\n",
    "For processing the data, you implemented several transforms in Exercise 3 (```RescaleTransform```, ```NormalizeTransform```, ```ComposeTransform```). In this exercise we are working with images, which are multidimensional arrays, but we are using a simple feedforward neural network which takes an one dimensional array as an input, so it is necessary to reshape the images before feeding them into the model. \n",
    "\n",
    "<div class=\"alert alert-success\">\n",
    "    <h3>Task: Check Code</h3>\n",
    "    <p>Please check the implementation of the reshape operation in the <code>FlattenTransform</code> class, which can be found in <code>../exercise_06/exercise_code/data/image_folder_dataset.py</code>. </p>\n",
    "</div>"
   ]
  },
  {
   "cell_type": "code",
   "execution_count": 3,
   "metadata": {},
   "outputs": [],
   "source": [
    "download_url = \"https://i2dl.dvl.in.tum.de/downloads/cifar10.zip\"\n",
    "i2dl_exercises_path = os.path.dirname(os.path.abspath(os.getcwd()))\n",
    "cifar_root = os.path.join(i2dl_exercises_path, \"datasets\", \"cifar10\")"
   ]
  },
  {
   "cell_type": "markdown",
   "metadata": {},
   "source": [
    "## The usual memory vs local data warning\n",
    "If you are using google colab or store your files on a local HDD, iterating over dataset takes quite some time and blablabla. You know the drill by now ;).\n",
    "\n",
    "<div class=\"alert alert-danger\">\n",
    "    <h3>Warning</h3>\n",
    "    <p>Loading the whole dataset into memory will not work if you are using a machine with 4GB of RAM or less (depending on your other programs such as memory hungry web browsers). Consider closing some open programs or simply use the local on-demand ImageFolderDataset.</p>\n",
    "    <p>In addition we want to warn you that everytime you execute a cell like \"dataset2 = MemoryImageFolderDataset...\" you are loading a 1.2GB matrix into your memory. If you do this often enough this notebook will crash on every machine. Therefore, we make sure to always use a single variable \"dataset\" which will be overwritten by future cells to avoid straining your memory too much.</p>\n",
    "</div>"
   ]
  },
  {
   "cell_type": "code",
   "execution_count": 4,
   "metadata": {},
   "outputs": [],
   "source": [
    "# Choose your preferred dataset here\n",
    "\n",
    "DATASET = ImageFolderDataset\n",
    "#DATASET = MemoryImageFolderDataset"
   ]
  },
  {
   "cell_type": "markdown",
   "metadata": {},
   "source": [
    "Now that that is taken care of, back to the actual loading."
   ]
  },
  {
   "cell_type": "code",
   "execution_count": 5,
   "metadata": {
    "id": "2fHY8xTPN5ee"
   },
   "outputs": [],
   "source": [
    "# Use the Cifar10 mean and standard deviation computed in Exercise 3.\n",
    "cifar_mean = np.array([0.49191375, 0.48235852, 0.44673872])\n",
    "cifar_std  = np.array([0.24706447, 0.24346213, 0.26147554])\n",
    "\n",
    "# Define all the transforms we will apply on the images when \n",
    "# retrieving them.\n",
    "rescale_transform = RescaleTransform()\n",
    "normalize_transform = NormalizeTransform(\n",
    "    mean=cifar_mean,\n",
    "    std=cifar_std\n",
    ")\n",
    "flatten_transform = FlattenTransform()\n",
    "compose_transform = ComposeTransform([rescale_transform, \n",
    "                                      normalize_transform,\n",
    "                                      flatten_transform])\n",
    "\n",
    "# Create a train, validation and test dataset.\n",
    "datasets = {}\n",
    "for mode in ['train', 'val', 'test']:\n",
    "    crt_dataset = DATASET(\n",
    "        mode=mode,\n",
    "        root=cifar_root, \n",
    "        transform=compose_transform,\n",
    "        split={'train': 0.6, 'val': 0.2, 'test': 0.2}\n",
    "    )\n",
    "    datasets[mode] = crt_dataset"
   ]
  },
  {
   "cell_type": "markdown",
   "metadata": {
    "id": "FsR4dM2kN5ee"
   },
   "source": [
    "Then, based on this ```Dataset``` object, we can construct a ```Dataloader``` object which samples a random mini-batch of data at once. "
   ]
  },
  {
   "cell_type": "code",
   "execution_count": 6,
   "metadata": {
    "id": "3t4Xj_n3N5ef"
   },
   "outputs": [],
   "source": [
    "# Create a dataloader for each split.\n",
    "dataloaders = {}\n",
    "for mode in ['train', 'val', 'test']:\n",
    "    crt_dataloader = DataLoader(\n",
    "        dataset=datasets[mode],\n",
    "        batch_size=256,\n",
    "        shuffle=True,\n",
    "        drop_last=True,\n",
    "    )\n",
    "    dataloaders[mode] = crt_dataloader"
   ]
  },
  {
   "cell_type": "markdown",
   "metadata": {
    "id": "CpruSFLkN5ef"
   },
   "source": [
    "Because the ```Dataloader``` has the ```__iter__()``` method, we can simply iterate through the batches it produces, like this:\n",
    "\n",
    "```python\n",
    "for batch in dataloader['train']:\n",
    "    do_something(batch)\n",
    "```"
   ]
  },
  {
   "cell_type": "markdown",
   "metadata": {
    "id": "L81EGyslN5eg"
   },
   "source": [
    "## 1.2 Data Augmentation\n",
    "\n",
    "After the preprocessing steps, our data is in a good shape and ready to be fed into our network. As explained in the chapter above, we used the transformation functions `RescaleTransform`, `NormalizeTransform` and `FlattenTransform` to achieve this shape. These are the general steps that you need to perform on the data before you can start training. Of course, all these steps have to be applied to our three dataset splits (train, val and test split). In other words, preprocessing involves preparing the data before is can be used for training and inference. \n",
    "\n",
    "Besides these basic transformations, there are many other transformation methods that you can apply to the images. For example, you can <b>flip the images horizontally</b> or <b>blur the images</b> and use these new images to enlarge the dataset. This idea is called Data Augmentation and it involves methods that alter the training images to generate a synthetic dataset that is larger than your original dataset. This will hopefully improve the performance of your model. There is one important difference between data augmentation and data preprocessing: The transformation methods used to enlarge your dataset should only be applied to the training data. The validation and test data should not be affected by these methods.\n",
    "\n",
    "<div class=\"alert alert-success\">\n",
    "    <h3>Task: Check Code</h3>\n",
    "    <p>The choice of transformation methods for data augmentation can be seen as a hyperparameter of your model. You can try to include these to enlarge your training data and obtain better results for your model. In <code>exercise_code/data/image_folder_dataset.py</code> we implemented the function <code>RandomHorizontalFlip</code> for you, which is randomly flipping an image. Check out the implementation.</p>\n",
    "    <p> Later, we will perform hyperparameter tuning. In order to improve your model's performance, you can include some other data augmentation methods. Feel free to play around and to implement other methods as for example Gaussian Blur or Rotation. </p>       \n",
    "</div>\n",
    "\n",
    "Let us quickly check the `RandomHorizontalFlip` method with an image of the Cifar10 dataset in the following cell."
   ]
  },
  {
   "cell_type": "code",
   "execution_count": 7,
   "metadata": {
    "colab": {
     "base_uri": "https://localhost:8080/",
     "height": 98
    },
    "executionInfo": {
     "elapsed": 962,
     "status": "ok",
     "timestamp": 1650011739465,
     "user": {
      "displayName": "Weber Anna",
      "userId": "18154618360144454414"
     },
     "user_tz": -120
    },
    "id": "3BEjmTGHN5eg",
    "outputId": "a6adee5b-1dd4-436c-e811-952f4ae12e5f"
   },
   "outputs": [
    {
     "data": {
      "image/png": "[encoded data removed]",
      "text/plain": [
       "<Figure size 144x144 with 2 Axes>"
      ]
     },
     "metadata": {
      "needs_background": "light"
     },
     "output_type": "display_data"
    }
   ],
   "source": [
    "#Load the data in a dataset without any transformation \n",
    "dataset = DATASET(\n",
    "        mode=mode,\n",
    "        root=cifar_root, \n",
    "        download_url=download_url,\n",
    "        split={'train': 0.6, 'val': 0.2, 'test': 0.2},\n",
    "    )\n",
    "\n",
    "#Retrieve an image from the dataset and flip it\n",
    "image = dataset[1]['image']\n",
    "transform = RandomHorizontalFlip(1)\n",
    "image_flipped = transform(image)\n",
    "\n",
    "#Show the two images\n",
    "plt.figure(figsize = (2,2))\n",
    "plt.subplot(1, 2, 1)\n",
    "plt.imshow(image.astype('uint8'))\n",
    "plt.axis('off')\n",
    "plt.subplot(1, 2, 2)\n",
    "plt.imshow(image_flipped.astype('uint8'))\n",
    "plt.axis('off')\n",
    "plt.title(\"Left: Original Image, Right: Flipped image\")\n",
    "plt.show()"
   ]
  },
  {
   "cell_type": "markdown",
   "metadata": {
    "id": "WKNRU4BWN5eg"
   },
   "source": [
    "## 1.3 Layers\n",
    "\n",
    "Now, that the data is prepared, we can take a look at the model we are using. In our case it will be a neural network. \n",
    "\n",
    "In Exercise 5, you implemented a simple 2-layer neural network that had a hidden size as a parameter:\n",
    "\n",
    "$$ \n",
    "{\\hat{y}} = \\sigma(\\sigma({x W_1} + {b_1}) {W_2} + {b_2}) \n",
    "$$\n",
    "\n",
    "where $ \\sigma({x}) $ was the sigmoid function, $ {x} $ was the input, $ {W_1}, {W_2} $ the weight matrices and $ {b_1}, {b_2}$ the biases for the two layers.\n",
    "\n",
    "This is how we used this network:"
   ]
  },
  {
   "cell_type": "code",
   "execution_count": 8,
   "metadata": {
    "id": "6zta7tzkN5eg"
   },
   "outputs": [],
   "source": [
    "input_size = datasets['train'][0]['image'].shape[0]\n",
    "model = ClassificationNet(input_size=input_size, \n",
    "                          hidden_size=512)"
   ]
  },
  {
   "cell_type": "markdown",
   "metadata": {
    "id": "UpAoXE7nN5eh"
   },
   "source": [
    "Note that we updated the ```ClassificationNet``` from the previous exercise. Now you can customize the number of outputs, the choice of activation function, the hidden size etc. We encourage you to check the implementation in ```exercise_code/networks/classification_net.py``` "
   ]
  },
  {
   "cell_type": "code",
   "execution_count": 9,
   "metadata": {
    "id": "7wzEaw66N5eh"
   },
   "outputs": [],
   "source": [
    "num_layer = 2\n",
    "reg = 0.1\n",
    "\n",
    "model = ClassificationNet(activation=Sigmoid(), \n",
    "                          num_layer=num_layer, \n",
    "                          reg=reg,\n",
    "                          num_classes=10)"
   ]
  },
  {
   "cell_type": "markdown",
   "metadata": {
    "id": "x70gjgkDN5eh"
   },
   "source": [
    "Performing the forward and backward passes through the model was quite simple:\n",
    "\n",
    "```python\n",
    "\n",
    "# X is a batch of training features \n",
    "# X.shape = (batch_size, features_size)\n",
    "y_out = model.forward(X)\n",
    "\n",
    "# dout is the gradient of the loss function w.r.t the output of the network.\n",
    "# dout.shape = (batch_size, )\n",
    "model.backward(dout)\n",
    "```"
   ]
  },
  {
   "cell_type": "markdown",
   "metadata": {
    "id": "dlwNcT2RN5eh"
   },
   "source": [
    "Just as the learning rate or the number of epochs we want to train for, the number of hidden layers and the number of units in each hidden layer are also hyperparameters that we can tune. In this notebook you can play with networks of different sizes to see the impact that the network capacity has.\n",
    "\n",
    "Before we move on to the loss functions, let's have a look at the activation functions. The choice of an activation function can have a huge impact on the performance of the network you are designing. So far, you have implemented the `Sigmoid` and the `Relu` activation functions in Exercise 5. \n",
    "\n",
    "<div class=\"alert alert-success\">\n",
    "    <h3>Task: Check Code</h3>\n",
    "    <p>Take a look at the <code>Sigmoid</code> and the <code>Relu</code> class in <code>exercise_code/networks/layer.py</code> and the implementation of the respective forward and backward passes. Make sure to understand why we used <b>element-wise product</b> instead of dot product in the backward pass of the <code>Sigmoid</code> class to compute the gradient $dx$. That will be helpful for your later implementation of other activation functions.</p>\n",
    "    <p> <b>Note:</b> The <code>cache</code> variable is used to store information from the forward pass and then pass this information in the backward pass to make use of it there. The implementation of both classes shows that this variable can be used differently - depending on which information is needed in the backward pass. </p>\n",
    "</div>\n",
    "\n",
    "Now, we want to have a look at two other, very common activation functions that you have already seen in the lecture: Leaky ReLU activation function and Tanh activation function. \n",
    "\n",
    "**Leaky Relus** are one attempt to fix the “dying ReLU” problem. Instead of the function being zero when $x<0$, a leaky ReLU has a small negative slope (for example, 0.01).  The function computes $f(x) = \\mathbb{1}(x < 0) (\\alpha x) + \\mathbb{1}(x>=0) (x)$ where $\\alpha$ is a small constant. Some people report success with this form of activation function, but the results are not always consistent.\n",
    "\n",
    "The **tanh non-linearity** squashes a real-valued number into the range [-1, 1]. Like the sigmoid neuron, its activations saturate, but unlike the sigmoid neuron its output is zero-centered. Therefore, in practice the tanh non-linearity is always preferred to the sigmoid non-linearity. Also note that the tanh neuron is simply a scaled sigmoid neuron, in particular the following holds: $\\tanh(x) = 2 \\cdot \\sigma(2x) -1$.\n",
    "\n",
    "<img class=left src=https://pytorch.org/docs/stable/_images/LeakyReLU.png alt=\"Figure3\" width=\"350\" align='left'/> \n",
    "<img class=right src=https://pytorch.org/docs/stable/_images/Tanh.png alt=\"Figure4\" width=\"350\"/>\n",
    "\n",
    "<div class=\"alert alert-info\">\n",
    "    <h3>Task: Implement Activation Layers</h3>\n",
    "    <p> Now, it is your turn to implement the <code>LeakyRelu</code> and the <code>Tanh</code> class in <code>exercise_code/networks/layer.py</code> by completing the <code>forward</code> and the <code>backward</code> functions. You can test your implementation in the following two cells. </p>\n",
    "    <p> <b>Note:</b> Always remember to return a cache in <code>forward</code> for later backpropagation in <code>backward</code>. As we have seen above, the <code>cache</code> variable can be used differently for two activation functions.</p>\n",
    "</div>\n",
    "\n",
    "Use this cell to test your implementation of the `LeakyRelu` class:"
   ]
  },
  {
   "cell_type": "code",
   "execution_count": 10,
   "metadata": {
    "colab": {
     "base_uri": "https://localhost:8080/"
    },
    "executionInfo": {
     "elapsed": 854,
     "status": "ok",
     "timestamp": 1650011740634,
     "user": {
      "displayName": "Weber Anna",
      "userId": "18154618360144454414"
     },
     "user_tz": -120
    },
    "id": "v0LYvwHmN5ei",
    "outputId": "e124210f-f387-45b4-cd23-b0444c894b10"
   },
   "outputs": [
    {
     "name": "stdout",
     "output_type": "stream",
     "text": [
      "LeakyReluForwardTest passed.\n",
      "LeakyReluBackwardTest passed.\n",
      "Congratulations you have passed all the unit tests!!! Tests passed: 2/2\n",
      "Score: 100/100\n",
      "You secured a score of :100\n"
     ]
    }
   ],
   "source": [
    "from exercise_code.tests.layer_tests import *\n",
    "print(LeakyReluTestWrapper()())"
   ]
  },
  {
   "cell_type": "markdown",
   "metadata": {
    "id": "kOkiYhe_N5ei"
   },
   "source": [
    "And this cell to test your implementation of the `Tanh` class:"
   ]
  },
  {
   "cell_type": "code",
   "execution_count": 11,
   "metadata": {
    "colab": {
     "base_uri": "https://localhost:8080/"
    },
    "executionInfo": {
     "elapsed": 11,
     "status": "ok",
     "timestamp": 1650011740635,
     "user": {
      "displayName": "Weber Anna",
      "userId": "18154618360144454414"
     },
     "user_tz": -120
    },
    "id": "Do-AHImrN5ei",
    "outputId": "b4c5a743-2ae6-4700-e052-4c9c4a220d08"
   },
   "outputs": [
    {
     "name": "stdout",
     "output_type": "stream",
     "text": [
      "TanhForwardTest passed.\n",
      "TanhBackwardTest passed.\n",
      "Congratulations you have passed all the unit tests!!! Tests passed: 2/2\n",
      "Score: 100/100\n",
      "You secured a score of :100\n"
     ]
    }
   ],
   "source": [
    "print(TanhTestWrapper()())"
   ]
  },
  {
   "cell_type": "markdown",
   "metadata": {
    "id": "Mw_iJW4dN5ej"
   },
   "source": [
    "Congratulations, you implemented four different activation functions! These activation layers are now ready to be used when you start building your own network."
   ]
  },
  {
   "cell_type": "markdown",
   "metadata": {
    "id": "3MhxqP2LN5ej"
   },
   "source": [
    "## 1.4 Loss\n",
    "\n",
    "In order to measure how well a network is performing, we implemented several ```Loss``` classes (```L1```, ```MSE```, ```BCE```, each preferred for a certain type of problems) in ```exercise_code/networks/loss.py```.\n",
    "\n",
    "Each contains a ```forward()``` method, which outputs a number we can use as a measure for our network's performance. \n",
    "\n",
    "Since our goal is to change the weights of the network in a way that this loss measure decreases, we are also interested in the gradients of the loss w.r.t the outputs of the network, $ \\nabla_{\\hat{y}} L({\\hat{y}}, {y}) $. This was implemented in ```backward()```. \n",
    "\n",
    "In previous exercises, we worked on binary classification problems and therefore used binary cross entropy (```BCE```) as a loss function.\n",
    "\n",
    "$$ BCE(\\hat{y}, y) = \\frac{1}{N} \\sum_{i=1}^N \\Big [-y_i \\log(\\hat{y_i}) - (1-y_i) \\log(1 - \\hat{y_i}) \\Big] $$ \n",
    "\n",
    "where\n",
    "- $ N $ was the number of samples we were considering\n",
    "- $\\hat{y}_i$ was the network's prediction for sample $i$. Note that this was a valid probability $\\in [0, 1]$, because we applied a [sigmoid](https://en.wikipedia.org/wiki/Sigmoid_function) activation on the last layer. \n",
    "- $ y_i $ was the ground truth label (0 or 1, depending on the class)\n",
    "\n",
    "Since we have 10 classes in the CIFAR10 dataset, we need a generalization of the binary cross entropy loss to multiple classes. This generalization is called the cross entropy loss and is defined as:\n",
    "$$ CE(\\hat{y}, y) = \\frac{1}{N} \\sum_{i=1}^N \\sum_{k=1}^{C} \\Big[ -y_{ik} \\log(\\hat{y}_{ik}) \\Big] $$\n",
    "\n",
    "where:\n",
    "- $ N $ is the number of samples\n",
    "- $ C $ is the number of classes\n",
    "- $ \\hat{y}_{ik} $ is the probability that the model assigns for the $k$th class when the $i$th sample is the input. **Because we don't apply any activation function on the last layer of our network, its outputs for each sample will not be a valid probability distribution over the classes. We call these the raw outputs of the network '[logits](https://datascience.stackexchange.com/questions/31041/what-does-logits-in-machine-learning-mean/31045)' and we will apply a [softmax](https://en.wikipedia.org/wiki/Softmax_function) activation in order to obtain a valid probability distribution.** \n",
    "- $y_{ik} = 1 $ iff the true label of the $i$th sample is $k$ and 0 otherwise. This is called a [one-hot encoding](https://machinelearningmastery.com/why-one-hot-encode-data-in-machine-learning/).\n",
    "\n",
    "You can check for yourself that if the number of classes $ C $ is 2, the binary cross entropy is actually equivalent to the cross entropy.\n",
    "\n",
    "<div class=\"alert alert-success\">\n",
    "    <h3>Task: Check Code</h3>\n",
    "    <p>Please check the implementation of the <code>CrossEntropyFromLogits</code> class, which can be found in <code>../exercise_06/exercise_code/networks/loss.py</code>. </p>\n",
    "</div>"
   ]
  },
  {
   "cell_type": "code",
   "execution_count": 12,
   "metadata": {
    "id": "EBPuFF0BN5ej"
   },
   "outputs": [],
   "source": [
    "loss = CrossEntropyFromLogits()"
   ]
  },
  {
   "cell_type": "markdown",
   "metadata": {
    "id": "y1HcQs25N5ek"
   },
   "source": [
    "We can simply get the results of the forward and backward passes as follows:"
   ]
  },
  {
   "cell_type": "markdown",
   "metadata": {
    "id": "Jv2aujOvN5ek"
   },
   "source": [
    "```python\n",
    "# y_out is the output of the neural network\n",
    "# y_truth is the actual label from the dataset\n",
    "loss.forward(y_out, y_truth)\n",
    "loss.backward(y_out, y_truth)\n",
    "```"
   ]
  },
  {
   "cell_type": "markdown",
   "metadata": {
    "id": "dbFSP4z9N5ek"
   },
   "source": [
    "## 1.5 Optimizer\n",
    "\n",
    "Now that we know the gradient of the loss w.r.t the ouputs of the network, as well as the local gradient for each layer of the network, we can use the chain rule to compute all gradients. \n",
    "\n",
    "<div class=\"alert alert-success\">\n",
    "    <h3>Task: Check Code</h3>\n",
    "    <p>We implemented several optimizer classes <code>SGD</code>, <code>Adam</code>, <code>sgd_momentum</code> that use different first-order parameter update rules. Those can be found in <code>../exercise_06/exercise_code/networks/optimizer.py</code>. </p>\n",
    "    <p>The <code>step()</code> method used, iterates through all the parameters of the model and updates them using the gradient information.</p>\n",
    "</div>\n",
    "\n",
    "What the optimizer is doing, in pseudocode, is the following:\n",
    "\n",
    "```python\n",
    "for param in model:\n",
    "    # Use the gradient to update the weights.\n",
    "    update(param)\n",
    "    \n",
    "    # Reset the gradient after each update.\n",
    "    param.gradient = 0\n",
    "```\n",
    "\n",
    "```SGD``` had the simplest update rule:\n",
    "```python\n",
    "def update(param):\n",
    "    param = param - learning_rate * param.gradient\n",
    "```\n",
    "\n",
    "For the more complicated update rules, see ```exercise_code/networks/optimizer.py```"
   ]
  },
  {
   "cell_type": "markdown",
   "metadata": {
    "id": "0TE2PxMBN5ek"
   },
   "source": [
    "## 1.6 Solver\n",
    "\n",
    "The ```Solver``` is where all the above elements come together: Given a train and a validation dataloader, a model, a loss and an optimizer, it uses the training data to optimize a model in order to get better predictions. We simply call ```train()``` and it does its 'magic' for us!\n",
    "```python\n",
    "solver = Solver(model, \n",
    "                dataloaders['train'], \n",
    "                dataloaders['val'], \n",
    "                learning_rate=0.001, \n",
    "                loss_func=MSE(), \n",
    "                optimizer=SGD)\n",
    "\n",
    "solver.train(epochs=epochs)\n",
    "```\n",
    "\n",
    "<div class=\"alert alert-success\">\n",
    "    <h3>Task: Check Code</h3>\n",
    "    <p>Please check out the implementation of <code>train()</code> in <code>../exercise_06/exercise_code/solver.py</code>. </p>\n",
    "</div>"
   ]
  },
  {
   "cell_type": "markdown",
   "metadata": {
    "id": "QUFotyERN5ek"
   },
   "source": [
    "## 1.7 Weight Regularization\n",
    "\n",
    "Before finishing the recap, we want to take a look at some regularization methods that have been introduced in the lecture. Those can be helpful to improve the robustness of our model. In this chapter, we're talking about weight regularization methods.\n",
    "\n",
    "Weight regularization has been introduced to you as a method preventing the model from overfitting to the training data. The weight regularization term is added to the final loss and therefore encodes some preference for a certain set of weights $W$ over others. In the lecture, we compared two weight regularization methods and their respective preference for weight vectors. We made the following observations: \n",
    "\n",
    "1. L1 regularization: Enforces sparsity \n",
    "2. L2 regularization: Enforces that weights have similar values\n",
    "\n",
    "The most common weight regularization method is the L2 regularization. The L2 regularization prefers smaller and more diffuse weight vectors. Therefore, the model is encouraged to take all input dimensions into account rather than focusing strongly on a small number of input dimensions.\n",
    "\n",
    "When using weight regularization, the loss function is a composition of two parts:\n",
    "$$L = \\underbrace{\\frac{1}{N} \\sum_{i} L_i}_{\\text{data loss}}  + \\underbrace{\\lambda R(W)}_{\\text{regularization loss}}$$\n",
    "The first being the data loss, which is calculated using Cross Entropy loss in our model. The second part is called the regularization loss $R(W)$ and is computed in the L2 case as follows:\n",
    "$$R(W) = \\sum_{k} \\sum_{l} w_{k,l}^2$$"
   ]
  },
  {
   "cell_type": "markdown",
   "metadata": {
    "id": "DxExi4hQN5el"
   },
   "source": [
    "# 2. An overview of hyperparameters"
   ]
  },
  {
   "cell_type": "markdown",
   "metadata": {
    "collapsed": true,
    "id": "OdQde3JEN5el"
   },
   "source": [
    "\n",
    "<img src=https://images.deepai.org/glossary-terms/05c646fe1676490aa0b8cab0732a02b2/hyperparams.png alt=hyperparameter width=700>\n",
    "\n",
    "A **hyperparameter** is a parameter that is set before the learning process begins. Recall that the parameters of the weight matrix and the bias vector are learned during the learning process.\n",
    "\n",
    "The hyperparameter settings are essential, since they control and affect the whole training and therefore have a great impact on the model's performance. \n",
    "\n",
    "Some hyperparameters we have covered in lectures are:\n",
    "* Network architecture\n",
    "    * Choice of activation function\n",
    "    * Number of layers\n",
    "    * ...\n",
    "* Learning rate\n",
    "* Number of epochs\n",
    "* Batch size\n",
    "* Regularization strength\n",
    "* Momentum\n",
    "* ..."
   ]
  },
  {
   "cell_type": "markdown",
   "metadata": {
    "id": "Rn6g8Zw1N5el"
   },
   "source": [
    "## 2.1 Start debugging your own network!"
   ]
  },
  {
   "cell_type": "markdown",
   "metadata": {
    "id": "hUoj3OgzN5el"
   },
   "source": [
    "As already suggested in the lectures, you should always start from small and simple architectures, to make sure you are going the right way. \n",
    "\n",
    "As a first step you should try to overfit to a single training sample, then to a few batches of training samples and finally go deeper with larger neural networks and the whole training data.\n",
    "\n",
    "We provide a default neural network (i.e. ClassificationNet) with arbitrary number of layers, which is a generalization from a fixed 2-layer neural network in exercise 5. You are welcome to implement your own network, in that case just implement **MyOwnNetwork** in ```exercise_code/networks/classification_net.py```. You can also copy things from ClassficationNet and make little adjustments to your own network. Either way, just pick one network and comment out the other one, then run the cells below for debugging.\n",
    "\n",
    "<div class=\"alert alert-warning\">\n",
    "    <h3>Note:</h3>\n",
    "    <p>Please, make sure you don't modify the ClassificationNet itself. In this way you can always have a working network to fall back on.</p>\n",
    "    <p>In order to pass this submissions, you can <b>first stick to the default ClassificationNet implementation without changing any code at all</b>. The goal of this submission is to find reasonable hyperparameters and the parameter options of the ClassificationNet are broad enough to pass.</p>\n",
    "    <p>Once you have surpassed the submission goal, you can try to implement additional activation functions in the accompanying notebook, try different weight initializations or make other adjustments by writing your own network architecture in the MyOwnNetwork class.</p>\n",
    "</div>"
   ]
  },
  {
   "cell_type": "markdown",
   "metadata": {
    "id": "gij9DxvmN5el"
   },
   "source": [
    "First, let's start with a 2-layer neural network, and overfit to one single training sample.\n",
    "\n",
    "After training, let's evaluate the training process by plotting the loss curves."
   ]
  },
  {
   "cell_type": "code",
   "execution_count": 13,
   "metadata": {
    "colab": {
     "base_uri": "https://localhost:8080/"
    },
    "executionInfo": {
     "elapsed": 20902,
     "status": "ok",
     "timestamp": 1650011761531,
     "user": {
      "displayName": "Weber Anna",
      "userId": "18154618360144454414"
     },
     "user_tz": -120
    },
    "id": "S1k3JrlsN5el",
    "outputId": "1193ba97-9871-489f-d6a5-f21a3869f09c"
   },
   "outputs": [
    {
     "name": "stdout",
     "output_type": "stream",
     "text": [
      "(Epoch 1 / 20) train loss: 2.327992; val loss: 2.333577\n",
      "(Epoch 2 / 20) train loss: 2.327992; val loss: 2.320803\n",
      "(Epoch 3 / 20) train loss: 2.201901; val loss: 2.329869\n",
      "(Epoch 4 / 20) train loss: 2.052337; val loss: 2.355061\n",
      "(Epoch 5 / 20) train loss: 1.881469; val loss: 2.387624\n",
      "(Epoch 6 / 20) train loss: 1.711020; val loss: 2.419109\n",
      "(Epoch 7 / 20) train loss: 1.556224; val loss: 2.443894\n",
      "(Epoch 8 / 20) train loss: 1.413779; val loss: 2.460766\n",
      "(Epoch 9 / 20) train loss: 1.277494; val loss: 2.472060\n",
      "(Epoch 10 / 20) train loss: 1.146821; val loss: 2.481483\n",
      "(Epoch 11 / 20) train loss: 1.022606; val loss: 2.492313\n",
      "(Epoch 12 / 20) train loss: 0.906329; val loss: 2.506576\n",
      "(Epoch 13 / 20) train loss: 0.800357; val loss: 2.524869\n",
      "(Epoch 14 / 20) train loss: 0.706310; val loss: 2.546673\n",
      "(Epoch 15 / 20) train loss: 0.624434; val loss: 2.571004\n",
      "(Epoch 16 / 20) train loss: 0.553740; val loss: 2.596932\n",
      "(Epoch 17 / 20) train loss: 0.492828; val loss: 2.623857\n",
      "(Epoch 18 / 20) train loss: 0.440498; val loss: 2.651549\n",
      "(Epoch 19 / 20) train loss: 0.395530; val loss: 2.680034\n",
      "(Epoch 20 / 20) train loss: 0.356914; val loss: 2.709408\n"
     ]
    }
   ],
   "source": [
    "from exercise_code.solver import Solver\n",
    "from exercise_code.networks.optimizer import SGD, Adam\n",
    "from exercise_code.networks import MyOwnNetwork\n",
    "\n",
    "num_layer = 2\n",
    "epochs = 20\n",
    "reg = 0.1\n",
    "batch_size = 4\n",
    "\n",
    "model = ClassificationNet(num_layer=num_layer, reg=reg)\n",
    "# model = MyOwnNetwork()\n",
    "\n",
    "loss = CrossEntropyFromLogits()\n",
    "\n",
    "# Make a new data loader with a single training image\n",
    "overfit_dataset = DATASET(\n",
    "    mode='train',\n",
    "    root=cifar_root, \n",
    "    download_url=download_url,\n",
    "    transform=compose_transform,\n",
    "    limit_files=1\n",
    ")\n",
    "dataloaders['train_overfit_single_image'] = DataLoader(\n",
    "    dataset=overfit_dataset,\n",
    "    batch_size=batch_size,\n",
    "    shuffle=True,\n",
    "    drop_last=False,\n",
    ")\n",
    "\n",
    "# Decrease validation data for only debugging\n",
    "debugging_validation_dataset = DATASET(\n",
    "    mode='val',\n",
    "    root=cifar_root, \n",
    "    download_url=download_url,\n",
    "    transform=compose_transform,\n",
    "    limit_files=100\n",
    ")\n",
    "dataloaders['val_500files'] = DataLoader(\n",
    "    dataset=debugging_validation_dataset,\n",
    "    batch_size=batch_size,\n",
    "    shuffle=True,\n",
    "    drop_last=True,\n",
    ")\n",
    "\n",
    "solver = Solver(model, dataloaders['train_overfit_single_image'], dataloaders['val_500files'], \n",
    "                learning_rate=1e-3, loss_func=loss, optimizer=Adam)\n",
    "\n",
    "solver.train(epochs=epochs)"
   ]
  },
  {
   "cell_type": "code",
   "execution_count": 14,
   "metadata": {
    "colab": {
     "base_uri": "https://localhost:8080/"
    },
    "executionInfo": {
     "elapsed": 434,
     "status": "ok",
     "timestamp": 1650011761941,
     "user": {
      "displayName": "Weber Anna",
      "userId": "18154618360144454414"
     },
     "user_tz": -120
    },
    "id": "aMc51VqHN5em",
    "outputId": "730d9eb6-6b24-4411-e6b9-c165a73a7e6e"
   },
   "outputs": [
    {
     "data": {
      "image/png": "[encoded data removed]",
      "text/plain": [
       "<Figure size 720x576 with 1 Axes>"
      ]
     },
     "metadata": {
      "needs_background": "light"
     },
     "output_type": "display_data"
    }
   ],
   "source": [
    "plt.title('Loss curves')\n",
    "plt.plot(solver.train_loss_history, '-', label='train')\n",
    "plt.plot(solver.val_loss_history, '-', label='val')\n",
    "plt.legend(loc='lower right')\n",
    "plt.xlabel('Iteration')\n",
    "plt.show()"
   ]
  },
  {
   "cell_type": "code",
   "execution_count": 15,
   "metadata": {
    "colab": {
     "base_uri": "https://localhost:8080/"
    },
    "executionInfo": {
     "elapsed": 244,
     "status": "ok",
     "timestamp": 1650011762177,
     "user": {
      "displayName": "Weber Anna",
      "userId": "18154618360144454414"
     },
     "user_tz": -120
    },
    "id": "cchvV2Q_N5em",
    "outputId": "6ba579ba-58ed-43e8-f3e7-97a51018ee4b"
   },
   "outputs": [
    {
     "name": "stdout",
     "output_type": "stream",
     "text": [
      "Training accuray: 1.00000\n",
      "Validation accuray: 0.07000\n"
     ]
    }
   ],
   "source": [
    "print(\"Training accuray: %.5f\" % (solver.get_dataset_accuracy(dataloaders['train_overfit_single_image'])))\n",
    "print(\"Validation accuray: %.5f\" % (solver.get_dataset_accuracy(dataloaders['val_500files'])))"
   ]
  },
  {
   "cell_type": "markdown",
   "metadata": {
    "id": "HeTCu8wwN5em"
   },
   "source": [
    "This time we want to overfit to a small set of training batch samples. Please observe the difference from above. "
   ]
  },
  {
   "cell_type": "code",
   "execution_count": 16,
   "metadata": {
    "colab": {
     "base_uri": "https://localhost:8080/"
    },
    "executionInfo": {
     "elapsed": 32205,
     "status": "ok",
     "timestamp": 1650011794379,
     "user": {
      "displayName": "Weber Anna",
      "userId": "18154618360144454414"
     },
     "user_tz": -120
    },
    "id": "SsIu_JaUN5em",
    "outputId": "81810746-ea3e-4a60-f3b7-dad4230c7231"
   },
   "outputs": [
    {
     "name": "stdout",
     "output_type": "stream",
     "text": [
      "(Epoch 1 / 100) train loss: 2.331938; val loss: 2.334331\n",
      "(Epoch 2 / 100) train loss: 2.325609; val loss: 2.337541\n",
      "(Epoch 3 / 100) train loss: 2.207519; val loss: 2.391639\n",
      "(Epoch 4 / 100) train loss: 2.048381; val loss: 2.439445\n",
      "(Epoch 5 / 100) train loss: 2.048479; val loss: 2.522273\n",
      "(Epoch 6 / 100) train loss: 1.925998; val loss: 2.566617\n",
      "(Epoch 7 / 100) train loss: 1.857588; val loss: 2.628791\n",
      "(Epoch 8 / 100) train loss: 1.725757; val loss: 2.711391\n",
      "(Epoch 9 / 100) train loss: 1.752357; val loss: 2.795958\n",
      "(Epoch 10 / 100) train loss: 1.810925; val loss: 2.842225\n",
      "(Epoch 11 / 100) train loss: 1.718056; val loss: 2.855684\n",
      "(Epoch 12 / 100) train loss: 1.646908; val loss: 2.979115\n",
      "(Epoch 13 / 100) train loss: 1.625130; val loss: 3.089495\n",
      "(Epoch 14 / 100) train loss: 1.672408; val loss: 3.119818\n",
      "(Epoch 15 / 100) train loss: 1.598648; val loss: 3.084452\n",
      "(Epoch 16 / 100) train loss: 1.674407; val loss: 3.100027\n",
      "(Epoch 17 / 100) train loss: 1.714083; val loss: 3.168348\n",
      "(Epoch 18 / 100) train loss: 1.656148; val loss: 3.252408\n",
      "(Epoch 19 / 100) train loss: 1.739993; val loss: 3.245475\n",
      "(Epoch 20 / 100) train loss: 1.561257; val loss: 3.253790\n",
      "(Epoch 21 / 100) train loss: 1.540376; val loss: 3.314405\n",
      "(Epoch 22 / 100) train loss: 1.646614; val loss: 3.308773\n",
      "(Epoch 23 / 100) train loss: 1.581151; val loss: 3.302904\n",
      "(Epoch 24 / 100) train loss: 1.422976; val loss: 3.371343\n",
      "(Epoch 25 / 100) train loss: 1.562293; val loss: 3.425782\n",
      "(Epoch 26 / 100) train loss: 1.647568; val loss: 3.397219\n",
      "(Epoch 27 / 100) train loss: 1.467402; val loss: 3.377734\n",
      "(Epoch 28 / 100) train loss: 1.495070; val loss: 3.354369\n",
      "(Epoch 29 / 100) train loss: 1.588650; val loss: 3.382466\n",
      "(Epoch 30 / 100) train loss: 1.483492; val loss: 3.407889\n",
      "(Epoch 31 / 100) train loss: 1.515264; val loss: 3.393643\n",
      "(Epoch 32 / 100) train loss: 1.466285; val loss: 3.401993\n",
      "(Epoch 33 / 100) train loss: 1.423159; val loss: 3.425434\n",
      "(Epoch 34 / 100) train loss: 1.400972; val loss: 3.430258\n",
      "(Epoch 35 / 100) train loss: 1.348053; val loss: 3.429814\n",
      "(Epoch 36 / 100) train loss: 1.329759; val loss: 3.433689\n",
      "(Epoch 37 / 100) train loss: 1.288834; val loss: 3.455196\n",
      "(Epoch 38 / 100) train loss: 1.348734; val loss: 3.464836\n",
      "(Epoch 39 / 100) train loss: 1.260980; val loss: 3.498036\n",
      "(Epoch 40 / 100) train loss: 1.358767; val loss: 3.473409\n",
      "(Epoch 41 / 100) train loss: 1.390493; val loss: 3.433425\n",
      "(Epoch 42 / 100) train loss: 1.292045; val loss: 3.491149\n",
      "(Epoch 43 / 100) train loss: 1.268652; val loss: 3.539978\n",
      "(Epoch 44 / 100) train loss: 1.330824; val loss: 3.513853\n",
      "(Epoch 45 / 100) train loss: 1.287729; val loss: 3.509725\n",
      "(Epoch 46 / 100) train loss: 1.290267; val loss: 3.519821\n",
      "(Epoch 47 / 100) train loss: 1.172291; val loss: 3.522474\n",
      "(Epoch 48 / 100) train loss: 1.195694; val loss: 3.491398\n",
      "(Epoch 49 / 100) train loss: 1.170439; val loss: 3.480601\n",
      "(Epoch 50 / 100) train loss: 1.119711; val loss: 3.482389\n",
      "(Epoch 51 / 100) train loss: 1.257560; val loss: 3.513039\n",
      "(Epoch 52 / 100) train loss: 1.181583; val loss: 3.600747\n",
      "(Epoch 53 / 100) train loss: 1.283340; val loss: 3.644795\n",
      "(Epoch 54 / 100) train loss: 1.265615; val loss: 3.624526\n",
      "(Epoch 55 / 100) train loss: 1.159158; val loss: 3.576834\n",
      "(Epoch 56 / 100) train loss: 1.182414; val loss: 3.551872\n",
      "(Epoch 57 / 100) train loss: 1.105850; val loss: 3.560429\n",
      "(Epoch 58 / 100) train loss: 1.130616; val loss: 3.571432\n",
      "(Epoch 59 / 100) train loss: 1.134558; val loss: 3.574873\n",
      "(Epoch 60 / 100) train loss: 1.027422; val loss: 3.568672\n",
      "(Epoch 61 / 100) train loss: 1.027777; val loss: 3.541614\n",
      "(Epoch 62 / 100) train loss: 1.071632; val loss: 3.526807\n",
      "(Epoch 63 / 100) train loss: 1.000724; val loss: 3.545189\n",
      "(Epoch 64 / 100) train loss: 1.001871; val loss: 3.569452\n",
      "(Epoch 65 / 100) train loss: 1.005035; val loss: 3.568322\n",
      "(Epoch 66 / 100) train loss: 1.012345; val loss: 3.581639\n",
      "(Epoch 67 / 100) train loss: 1.031481; val loss: 3.623874\n",
      "(Epoch 68 / 100) train loss: 1.022743; val loss: 3.655385\n",
      "(Epoch 69 / 100) train loss: 1.002597; val loss: 3.638895\n",
      "(Epoch 70 / 100) train loss: 1.047481; val loss: 3.595655\n",
      "(Epoch 71 / 100) train loss: 1.074237; val loss: 3.591181\n",
      "(Epoch 72 / 100) train loss: 1.023344; val loss: 3.627247\n",
      "(Epoch 73 / 100) train loss: 0.985536; val loss: 3.649597\n",
      "(Epoch 74 / 100) train loss: 0.956673; val loss: 3.626058\n",
      "(Epoch 75 / 100) train loss: 0.953968; val loss: 3.563884\n",
      "(Epoch 76 / 100) train loss: 0.932819; val loss: 3.543700\n",
      "(Epoch 77 / 100) train loss: 0.907463; val loss: 3.561685\n",
      "(Epoch 78 / 100) train loss: 0.920114; val loss: 3.581150\n",
      "(Epoch 79 / 100) train loss: 0.902032; val loss: 3.603120\n",
      "(Epoch 80 / 100) train loss: 0.899427; val loss: 3.566424\n",
      "(Epoch 81 / 100) train loss: 0.928899; val loss: 3.577112\n",
      "(Epoch 82 / 100) train loss: 0.924480; val loss: 3.587221\n",
      "(Epoch 83 / 100) train loss: 0.964044; val loss: 3.580696\n",
      "(Epoch 84 / 100) train loss: 0.874808; val loss: 3.583204\n",
      "(Epoch 85 / 100) train loss: 0.938830; val loss: 3.587788\n",
      "(Epoch 86 / 100) train loss: 0.853180; val loss: 3.594803\n",
      "(Epoch 87 / 100) train loss: 0.909091; val loss: 3.579225\n",
      "(Epoch 88 / 100) train loss: 0.899377; val loss: 3.540678\n",
      "(Epoch 89 / 100) train loss: 0.877273; val loss: 3.561657\n",
      "(Epoch 90 / 100) train loss: 0.851209; val loss: 3.592029\n",
      "(Epoch 91 / 100) train loss: 0.860576; val loss: 3.592714\n",
      "(Epoch 92 / 100) train loss: 0.917568; val loss: 3.586197\n",
      "(Epoch 93 / 100) train loss: 0.916384; val loss: 3.648954\n",
      "(Epoch 94 / 100) train loss: 1.027391; val loss: 3.628603\n",
      "(Epoch 95 / 100) train loss: 0.898212; val loss: 3.659187\n",
      "(Epoch 96 / 100) train loss: 0.937496; val loss: 3.673554\n",
      "(Epoch 97 / 100) train loss: 0.982593; val loss: 3.657673\n",
      "(Epoch 98 / 100) train loss: 0.895751; val loss: 3.655952\n",
      "(Epoch 99 / 100) train loss: 0.840275; val loss: 3.596174\n",
      "(Epoch 100 / 100) train loss: 0.906998; val loss: 3.558889\n"
     ]
    }
   ],
   "source": [
    "from exercise_code.networks import MyOwnNetwork\n",
    "\n",
    "num_layer = 2\n",
    "epochs = 100\n",
    "reg = 0.1\n",
    "num_samples = 10\n",
    "\n",
    "model = ClassificationNet(num_layer=num_layer, reg=reg)\n",
    "# model = MyOwnNetwork()\n",
    "\n",
    "loss = CrossEntropyFromLogits()\n",
    "\n",
    "# Make a new data loader with a our num_samples training image\n",
    "overfit_dataset = DATASET(\n",
    "    mode='train',\n",
    "    root=cifar_root, \n",
    "    download_url=download_url,\n",
    "    transform=compose_transform,\n",
    "    limit_files=num_samples\n",
    ")\n",
    "dataloaders['train_overfit_10samples'] = DataLoader(\n",
    "    dataset=overfit_dataset,\n",
    "    batch_size=batch_size,\n",
    "    shuffle=True,\n",
    "    drop_last=False,\n",
    ")\n",
    "\n",
    "solver = Solver(model, dataloaders['train_overfit_10samples'], dataloaders['val_500files'], \n",
    "                learning_rate=1e-3, loss_func=loss, optimizer=Adam)\n",
    "\n",
    "solver.train(epochs=epochs)"
   ]
  },
  {
   "cell_type": "code",
   "execution_count": 17,
   "metadata": {
    "colab": {
     "base_uri": "https://localhost:8080/"
    },
    "executionInfo": {
     "elapsed": 15,
     "status": "ok",
     "timestamp": 1650011794380,
     "user": {
      "displayName": "Weber Anna",
      "userId": "18154618360144454414"
     },
     "user_tz": -120
    },
    "id": "DmzTCYw_N5en",
    "outputId": "8076912f-608c-497c-e092-3da5e9e8ddcd"
   },
   "outputs": [
    {
     "data": {
      "image/png": "[encoded data removed]",
      "text/plain": [
       "<Figure size 720x576 with 1 Axes>"
      ]
     },
     "metadata": {
      "needs_background": "light"
     },
     "output_type": "display_data"
    }
   ],
   "source": [
    "plt.title('Loss curves')\n",
    "plt.plot(solver.train_loss_history, '-', label='train')\n",
    "plt.plot(solver.val_loss_history, '-', label='val')\n",
    "plt.legend(loc='lower right')\n",
    "plt.xlabel('Iteration')\n",
    "plt.show()"
   ]
  },
  {
   "cell_type": "code",
   "execution_count": 18,
   "metadata": {
    "colab": {
     "base_uri": "https://localhost:8080/"
    },
    "executionInfo": {
     "elapsed": 822,
     "status": "ok",
     "timestamp": 1650011795194,
     "user": {
      "displayName": "Weber Anna",
      "userId": "18154618360144454414"
     },
     "user_tz": -120
    },
    "id": "8H8xyMcaN5en",
    "outputId": "55c1d949-949d-414f-8a34-fa85faa9ed9b"
   },
   "outputs": [
    {
     "name": "stdout",
     "output_type": "stream",
     "text": [
      "Training accuray: 1.00000\n",
      "Validation accuray: 0.06000\n"
     ]
    }
   ],
   "source": [
    "print(\"Training accuray: %.5f\" % (solver.get_dataset_accuracy(dataloaders['train_overfit_10samples'])))\n",
    "print(\"Validation accuray: %.5f\" % (solver.get_dataset_accuracy(dataloaders['val_500files'])))"
   ]
  },
  {
   "cell_type": "markdown",
   "metadata": {
    "id": "7PoTJskAN5en"
   },
   "source": [
    "If you're overfitting to the training data, that means the network's implementation is correct. However, as you have more samples to overfit, your accuracy will be way lower. You can increase the number of epochs above to achieve better results.\n",
    "\n",
    "Now let's try to feed all the training and validation data into the network, but this time let's set compare a 2-layer and a 5-layer network, using the same hyperparameters.\n",
    "\n",
    "<div class=\"alert alert-warning\">\n",
    "    <h3>Note:</h3>\n",
    "    <p>This may take about 1 min per epoch as the training set is quite large. For convenience, we are now only using 1000 images for training but use the full validation set.</p>\n",
    "</div>"
   ]
  },
  {
   "cell_type": "code",
   "execution_count": 19,
   "metadata": {
    "colab": {
     "background_save": true
    },
    "id": "ayhMGBUBN5en",
    "outputId": "0f77d4ee-a8c9-4ddc-e538-c1818c306acf"
   },
   "outputs": [
    {
     "name": "stdout",
     "output_type": "stream",
     "text": [
      "(Epoch 1 / 5) train loss: 2.305701; val loss: 2.305666\n",
      "(Epoch 2 / 5) train loss: 2.278313; val loss: 2.217917\n",
      "(Epoch 3 / 5) train loss: 2.229720; val loss: 2.238025\n",
      "(Epoch 4 / 5) train loss: 2.225433; val loss: 2.224318\n",
      "(Epoch 5 / 5) train loss: 2.221545; val loss: 2.220861\n"
     ]
    }
   ],
   "source": [
    "from exercise_code.networks import MyOwnNetwork\n",
    "\n",
    "num_layer = 2\n",
    "epochs = 5\n",
    "reg = 0.01\n",
    "\n",
    "# Make a new data loader with 1000 training samples\n",
    "num_samples = 1000\n",
    "overfit_dataset = DATASET(\n",
    "    mode='train',\n",
    "    root=cifar_root, \n",
    "    download_url=download_url,\n",
    "    transform=compose_transform,\n",
    "    limit_files=num_samples\n",
    ")\n",
    "dataloaders['train_small'] = DataLoader(\n",
    "    dataset=overfit_dataset,\n",
    "    batch_size=batch_size,\n",
    "    shuffle=True,\n",
    "    drop_last=False,\n",
    ")\n",
    "\n",
    "\n",
    "# Change here if you want to use the full training set\n",
    "use_full_training_set = False\n",
    "if not use_full_training_set:\n",
    "    train_loader = dataloaders['train_small']\n",
    "else:\n",
    "    train_loader = dataloaders['train']\n",
    "    \n",
    "\n",
    "model = ClassificationNet(num_layer=num_layer, reg=reg)\n",
    "# model = MyOwnNetwork()\n",
    "\n",
    "loss = CrossEntropyFromLogits()\n",
    "\n",
    "solver = Solver(model, train_loader, dataloaders['val'], \n",
    "                learning_rate=1e-3, loss_func=loss, optimizer=Adam)\n",
    "\n",
    "solver.train(epochs=epochs)"
   ]
  },
  {
   "cell_type": "code",
   "execution_count": 20,
   "metadata": {
    "colab": {
     "background_save": true
    },
    "id": "3htGtgttN5en",
    "outputId": "6336d86c-13c1-40e5-9080-7aa5ed774959"
   },
   "outputs": [
    {
     "data": {
      "image/png": "[encoded data removed]",
      "text/plain": [
       "<Figure size 720x576 with 1 Axes>"
      ]
     },
     "metadata": {
      "needs_background": "light"
     },
     "output_type": "display_data"
    }
   ],
   "source": [
    "plt.title('Loss curves')\n",
    "plt.plot(solver.train_loss_history, '-', label='train')\n",
    "plt.plot(solver.val_loss_history, '-', label='val')\n",
    "plt.legend(loc='lower right')\n",
    "plt.xlabel('Iteration')\n",
    "plt.show()"
   ]
  },
  {
   "cell_type": "code",
   "execution_count": 21,
   "metadata": {
    "colab": {
     "background_save": true
    },
    "id": "oOVafQ7yN5eo",
    "outputId": "7207ecce-50aa-4e80-83ee-1d05529ab23a"
   },
   "outputs": [
    {
     "name": "stdout",
     "output_type": "stream",
     "text": [
      "Training accuray: 0.32000\n",
      "Validation accuray: 0.25851\n"
     ]
    }
   ],
   "source": [
    "print(\"Training accuray: %.5f\" % (solver.get_dataset_accuracy(train_loader)))\n",
    "print(\"Validation accuray: %.5f\" % (solver.get_dataset_accuracy(dataloaders['val'])))"
   ]
  },
  {
   "cell_type": "code",
   "execution_count": 22,
   "metadata": {
    "colab": {
     "background_save": true
    },
    "id": "vG9U5OmwN5eo",
    "outputId": "4aa8426b-eea9-4be8-bc08-6add66c4cf82"
   },
   "outputs": [
    {
     "name": "stdout",
     "output_type": "stream",
     "text": [
      "(Epoch 1 / 5) train loss: 2.305960; val loss: 2.305981\n",
      "(Epoch 2 / 5) train loss: 2.305057; val loss: 2.305379\n",
      "(Epoch 3 / 5) train loss: 2.305514; val loss: 2.305422\n",
      "(Epoch 4 / 5) train loss: 2.305017; val loss: 2.304771\n",
      "(Epoch 5 / 5) train loss: 2.305114; val loss: 2.304213\n"
     ]
    }
   ],
   "source": [
    "# from exercise_code.networks import MyOwnNetwork\n",
    "\n",
    "# num_layer = 5\n",
    "# epochs = 5\n",
    "# reg = 0.01\n",
    "\n",
    "# model = ClassificationNet(num_layer=num_layer, reg=reg)\n",
    "# # model = MyOwnNetwork()\n",
    "\n",
    "# # Change here if you want to use the full training set\n",
    "# use_full_training_set = True\n",
    "# if not use_full_training_set:\n",
    "#     train_loader = dataloaders['train_small']\n",
    "# else:\n",
    "#     train_loader = dataloaders['train']\n",
    "\n",
    "# loss = CrossEntropyFromLogits()\n",
    "\n",
    "# solver = Solver(model, train_loader, dataloaders['val'], \n",
    "#                 learning_rate=1e-3, loss_func=loss, optimizer=Adam)\n",
    "\n",
    "# solver.train(epochs=epochs)"
   ]
  },
  {
   "cell_type": "code",
   "execution_count": 23,
   "metadata": {
    "colab": {
     "background_save": true
    },
    "id": "08XZk2GYN5eo",
    "outputId": "3d04c7c9-a0ce-4522-c858-e9491fca8102"
   },
   "outputs": [
    {
     "data": {
      "image/png": "[encoded data removed]",
      "text/plain": [
       "<Figure size 720x576 with 1 Axes>"
      ]
     },
     "metadata": {
      "needs_background": "light"
     },
     "output_type": "display_data"
    }
   ],
   "source": [
    "plt.title('Loss curves')\n",
    "plt.plot(solver.train_loss_history, '-', label='train')\n",
    "plt.plot(solver.val_loss_history, '-', label='val')\n",
    "plt.legend(loc='lower right')\n",
    "plt.xlabel('Iteration')\n",
    "plt.show()"
   ]
  },
  {
   "cell_type": "code",
   "execution_count": 24,
   "metadata": {
    "colab": {
     "background_save": true
    },
    "id": "7-sI0yyWN5eo",
    "outputId": "29f489a2-6899-410e-9e82-8026cb77d505"
   },
   "outputs": [
    {
     "name": "stdout",
     "output_type": "stream",
     "text": [
      "Training accuray: 0.09986\n",
      "Validation accuray: 0.09986\n"
     ]
    }
   ],
   "source": [
    "print(\"Training accuray: %.5f\" % (solver.get_dataset_accuracy(train_loader)))\n",
    "print(\"Validation accuray: %.5f\" % (solver.get_dataset_accuracy(dataloaders['val'])))"
   ]
  },
  {
   "cell_type": "markdown",
   "metadata": {
    "id": "_nNdnSi4N5eo"
   },
   "source": [
    "As you can see from above, the same hyperparameter set can decrease the loss for a 2-layer network, but for 5-layer network, it hardly works.\n",
    "\n",
    "The steps above are already mentioned in the lectures as debugging steps before training a neural network. \n",
    "\n",
    "If you implement your own network, make sure you do the steps above before tuning the hyperparameters as below. "
   ]
  },
  {
   "cell_type": "markdown",
   "metadata": {
    "id": "l0pZa4weN5eo"
   },
   "source": [
    "## 2.2 Difficulty in tuning hyperparameters\n",
    "Small decisions on hyperparameters count. Usually, but not always, hyperparameters cannot be learned using well known gradient based methods (such as gradient descent), which are commonly employed to learn parameters. \n",
    "\n",
    "As mentioned before, hyperparameters need to be set before training. Tuning hyperparameters is hard, because you always have to try different combinations of the hyperparameters, train the network, do the validation and pick the best one. Besides, it is not guaranteed that you'll find the best combination.\n",
    "\n",
    "Let's do some hands on learning using the hyperparameter tuning methods covered in the lectures."
   ]
  },
  {
   "cell_type": "markdown",
   "metadata": {
    "id": "pDQl6fY6N5ep"
   },
   "source": [
    "# 3. Hyperparameter Tuning\n",
    "\n",
    "![alt text](https://blog.floydhub.com/content/images/2018/08/Screen-Shot-2018-08-22-at-17.59.25.png \"\")\n",
    "\n",
    "One of the main challenges in deep learning is finding the set of hyperparameters that performs best.\n",
    "\n",
    "So far, we have followed a manual approach by guessing hyperparameters, running the model, observing the result and maybe tweaking the hyperparameters based on this result. As you have probably noticed, this manual hyperparameter tuning is unstructured, inefficient and can become very tedious.\n",
    "\n",
    "\n",
    "A more systematic (and actually very simple) approach for hyperparameter tuning that you've already learned in the lecture  is implementing a **Grid Search**. \n",
    "\n",
    "\n",
    "\n",
    "## 3.1 Grid Search\n",
    "Grid search is a simple and naive, yet effective method to automate the hyperparameter tuning:\n",
    "\n",
    "* First, you define the set of parameters you want to tune, e.g. $\\{learning\\_rate, regularization\\_strength\\}$.\n",
    "\n",
    "* For each hyperparameter, you then define a set of possible values, e.g. $learning\\_rate = \\{0.0001, 0.001, 0.01, 0.1\\}$.\n",
    "\n",
    "* Then, you train a model for every possible combination of these hyperparameter values and afterwards select the combination that works best (e.g. in terms of accuracy on your validation set).\n",
    "\n",
    "<div class=\"alert alert-success\">\n",
    "    <h3>Task: Check Code</h3>\n",
    "    <p>Check out our <code>grid_search</code> implementation in <code>../exercise_6/exercise_code/hyperparameter_tuning.py</code>. We show a simple for loop implementation and a more sophisticated one for multiple inputs. </p>\n",
    "</div>\n",
    " \n",
    " <div class=\"alert alert-warning\">\n",
    "    <h3>Note:</h3>\n",
    "    <p>To keep things simple in the beginning, it'll be enough to just focus on the hyperparameters <code>learning_rate</code> and <code>regularization_strength</code> here, as in the example above.</p>\n",
    "</div>"
   ]
  },
  {
   "cell_type": "code",
   "execution_count": 25,
   "metadata": {
    "colab": {
     "background_save": true
    },
    "id": "BBW9Vl4rN5ep",
    "outputId": "39d57fd3-e250-4826-d0b6-89952b9ae73b"
   },
   "outputs": [
    {
     "name": "stdout",
     "output_type": "stream",
     "text": [
      "\n",
      "Evaluating Config #1 [of 3]:\n",
      " {'learning_rate': 0.01, 'reg': 0.0001}\n",
      "(Epoch 1 / 10) train loss: 2.302533; val loss: 2.301538\n",
      "(Epoch 2 / 10) train loss: 2.534126; val loss: 2.743331\n",
      "(Epoch 3 / 10) train loss: 2.729728; val loss: 2.832585\n"
     ]
    },
    {
     "name": "stderr",
     "output_type": "stream",
     "text": [
      "/Users/onecutedei/Desktop/master/i2dl/exercise_06/exercise_code/networks/layer.py:66: RuntimeWarning: overflow encountered in exp\n",
      "  outputs = 1 / (1 + np.exp(-x))\n"
     ]
    },
    {
     "name": "stdout",
     "output_type": "stream",
     "text": [
      "(Epoch 4 / 10) train loss: 2.935069; val loss: 2.802308\n",
      "(Epoch 5 / 10) train loss: 3.058363; val loss: 3.242873\n",
      "(Epoch 6 / 10) train loss: 3.184140; val loss: 3.439370\n",
      "Stopping early at epoch 5!\n",
      "\n",
      "Evaluating Config #2 [of 3]:\n",
      " {'learning_rate': 0.001, 'reg': 0.0001}\n",
      "(Epoch 1 / 10) train loss: 2.302801; val loss: 2.302354\n",
      "(Epoch 2 / 10) train loss: 2.188242; val loss: 2.071748\n",
      "(Epoch 3 / 10) train loss: 2.008429; val loss: 1.943681\n",
      "(Epoch 4 / 10) train loss: 1.904412; val loss: 1.901004\n",
      "(Epoch 5 / 10) train loss: 1.831695; val loss: 1.921237\n",
      "(Epoch 6 / 10) train loss: 1.764248; val loss: 1.883725\n",
      "(Epoch 7 / 10) train loss: 1.695108; val loss: 1.949508\n",
      "(Epoch 8 / 10) train loss: 1.646875; val loss: 1.894074\n",
      "(Epoch 9 / 10) train loss: 1.600055; val loss: 1.890539\n",
      "(Epoch 10 / 10) train loss: 1.528385; val loss: 1.913831\n",
      "\n",
      "Evaluating Config #3 [of 3]:\n",
      " {'learning_rate': 0.0001, 'reg': 0.0001}\n",
      "(Epoch 1 / 10) train loss: 2.302814; val loss: 2.302548\n",
      "(Epoch 2 / 10) train loss: 2.284957; val loss: 2.239994\n",
      "(Epoch 3 / 10) train loss: 2.210060; val loss: 2.155241\n",
      "(Epoch 4 / 10) train loss: 2.133820; val loss: 2.095641\n",
      "(Epoch 5 / 10) train loss: 2.072347; val loss: 2.044967\n",
      "(Epoch 6 / 10) train loss: 2.023180; val loss: 2.004841\n",
      "(Epoch 7 / 10) train loss: 1.979583; val loss: 1.985254\n",
      "(Epoch 8 / 10) train loss: 1.939316; val loss: 1.949413\n",
      "(Epoch 9 / 10) train loss: 1.906218; val loss: 1.937451\n",
      "(Epoch 10 / 10) train loss: 1.871783; val loss: 1.917111\n",
      "\n",
      "Search done. Best Val Loss = 1.8837246251006425\n",
      "Best Config: {'learning_rate': 0.001, 'reg': 0.0001}\n"
     ]
    }
   ],
   "source": [
    "# from exercise_code.networks import MyOwnNetwork\n",
    "\n",
    "# # Specify the used network\n",
    "# model_class = ClassificationNet\n",
    "\n",
    "# from exercise_code import hyperparameter_tuning\n",
    "# best_model, results = hyperparameter_tuning.grid_search(\n",
    "#     dataloaders['train_small'], dataloaders['val_500files'],\n",
    "#     grid_search_spaces = {\n",
    "#         \"learning_rate\": [1e-2, 1e-3, 1e-4], \n",
    "#         \"reg\": [1e-4]\n",
    "#     },\n",
    "#     model_class=model_class,\n",
    "#     epochs=10, patience=5)"
   ]
  },
  {
   "cell_type": "markdown",
   "metadata": {
    "id": "5v0g7q9xN5ep"
   },
   "source": [
    "From the results of your grid search, you might already have found some hyperparameter combinations that work better than others. A common practice is to now repeat the grid search on a more narrow domain centered around the parameters that worked best. \n",
    "\n",
    "**Conclusion Grid Search**\n",
    "\n",
    "With grid search we have automated the hyperparameter tuning to a certain degree. Another advantage is, that since the trainings of the models are independent of each other, you can parallelize the grid search, by e.g. trying out different hyperparameter configurations in parallel on different machines.\n",
    "\n",
    "However, as you have probably noticed, there is one big problem with this approach: the number of possible combinations grows exponentially with the number of hyperparameters (\"curse of dimensionality\"). As we add more hyperparameters to the grid search, the search space will explode in time complexity, making this strategy unfeasible."
   ]
  },
  {
   "cell_type": "markdown",
   "metadata": {
    "id": "m_NvhoFcN5ep"
   },
   "source": [
    "Especially when your search space contains more than 3 or 4 dimensions, it is often better to use another, similar hyperparameter tuning method that you've already learned about: random search."
   ]
  },
  {
   "cell_type": "markdown",
   "metadata": {
    "id": "rDyeiAN1N5ep"
   },
   "source": [
    "## 3.2 Random Search\n",
    "Random search is very similar to grid search, with the only difference, that instead of providing specific values for every hyperparameter, you only define a range for each hyperparameter - then, the values are sampled randomly from the provided ranges.\n",
    "\n",
    "![alt text](https://i.stack.imgur.com/cIDuR.png \"\")\n",
    "\n",
    "The figure above illustrates the difference in the hyperparameter space exploration between grid search and random search: assume you have 2 hyperparameters with each 3 values. Running a grid search results in training $3^2=9$ different models - but in the end, you've just tired out 3 values for each parameter. For random search on the other hand, after training 9 models you'll have tried out 9 different values for each hyperparameter, which often leads much faster to good results.\n",
    "\n",
    "To get a deeper understanding of random search and why it is more efficient than grid search, you should definitely check out this paper: http://www.jmlr.org/papers/volume13/bergstra12a/bergstra12a.pdf\n",
    "\n",
    "<div class=\"alert alert-success\">\n",
    "    <h3>Task: Check Code</h3>\n",
    "    <p>Check out our <code>random_search</code> implementation in <code>../exercise_6/exercise_code/hyperparameter_tuning.py</code></p>\n",
    "</div>\n",
    "\n",
    "\n",
    "*Hint: regarding the sample space of each parameter, think about the scale for which it makes most sense to sample in. For example the learning rate is usually sampled on a logarithmic scale!*\n",
    "\n",
    "*For simplicity and speed, just use the `train_batches`-dataloader!*"
   ]
  },
  {
   "cell_type": "code",
   "execution_count": 26,
   "metadata": {
    "colab": {
     "background_save": true
    },
    "id": "d64soT68N5ep",
    "outputId": "eafe47b6-33db-401e-8d4e-96573caa8048"
   },
   "outputs": [],
   "source": [
    "from exercise_code.hyperparameter_tuning import random_search\n",
    "# from exercise_code.networks import MyOwnNetwork\n",
    "\n",
    "# Specify the used network\n",
    "model_class = ClassificationNet\n",
    "\n",
    "# best_model, results = random_search(\n",
    "#     dataloaders['train_small'], dataloaders['val_500files'],\n",
    "#     random_search_spaces = {\n",
    "#         \"learning_rate\": ([1e-2, 1e-6], 'log'),\n",
    "#         \"reg\": ([1e-3, 1e-7], \"log\"),\n",
    "#         \"loss_func\": ([CrossEntropyFromLogits()], \"item\")\n",
    "#     },\n",
    "#     model_class=model_class,\n",
    "#     num_search = 1, epochs=20, patience=5)"
   ]
  },
  {
   "cell_type": "markdown",
   "metadata": {
    "id": "LayF5YYbN5eq"
   },
   "source": [
    "It's time to run it with the whole dataset, and let it search for a few hours for a nice configuration. \n",
    "\n",
    "However, to save some time, let's first implement an **early-stopping** mechanism, that you also already know from the lecture."
   ]
  },
  {
   "cell_type": "markdown",
   "metadata": {
    "id": "DCaACnn3N5eq"
   },
   "source": [
    "## 3.3 Early Stopping"
   ]
  },
  {
   "cell_type": "markdown",
   "metadata": {
    "id": "IjsO1OPLN5eq"
   },
   "source": [
    "By now you've already seen a lot of training curves:\n",
    "\n",
    "<img src=http://fouryears.eu/wp-content/uploads/2017/12/early_stopping.png></img>\n",
    "\n",
    "Usually, at some point the validation loss goes up again, which is a sign that we're overfitting to our training data. Since it actually doesn't make sense to train further at this point, it's common practice to apply \"early stopping\", i.e., cancel the training process when the validation loss doesn't improve anymore. The nice thing about this concept is, that not only it improves generalization through the prevention of overfitting, but also it saves us a lot of time - one of our most valuable resources in deep learning.\n",
    "\n",
    "Since there are natural fluctuations in the validation loss, you usually don't cancel the training process right at the first epoch when the validation-loss increases, but instead, you wait for some epochs (specified by the `patience`-parameter) and if the loss still doesn't improve, we stop.\n",
    "\n",
    "<div class=\"alert alert-success\">\n",
    "    <h3>Task: Check Code</h3>\n",
    "    <p>Please check the implementation of the early stopping mechanism in <code>../exercise_6/exercise_code/solver.py</code>.\n",
    " </p>\n",
    "</div>"
   ]
  },
  {
   "cell_type": "markdown",
   "metadata": {
    "id": "P8wWTovfN5eq"
   },
   "source": [
    "## 3.4 Let's find the perfect model!"
   ]
  },
  {
   "cell_type": "markdown",
   "metadata": {
    "id": "ksUYQAhgN5eq"
   },
   "source": [
    "Now you've set everything up and you are ready to train your model. You can use a combination of grid and random search to find proper hyperparameters. \n",
    "\n",
    "Be aware that this process will take some time, since we'll be using a much larger dataset.\n",
    "\n",
    "At the beginning, it is a good approach to do a coarse random search across a wide range of values to find promising sub-ranges of your parameter space. Afterwards, you can zoom into these ranges and perform another random search (or grid search) to finetune the configurations.\n",
    "\n",
    "To save time and resources, don't use the whole dataset at the beginning, but instead a medium large subset of the samples. Also, you don't have to train for a large number of epochs - as mentioned above: we first want to get an overview about our hyper parameters.\n",
    "\n",
    "<div class=\"alert alert-info\">\n",
    "    <h3>Task: Hyperparameters Tunning & Model Training </h3>\n",
    "        <p> Now, it is your turn to do the hyperparamater tuning. In the cell below, you can use the <code>random_search</code> function to find a good choice of parameters. Put in some reasonable ranges for the hyperparameters and evaluate them.\n",
    "    <p> <b>Note:</b> At the beginning, it's a good approach to first do a coarse random search across a <b> wide range of values</b> to find promising sub-ranges of your parameter space and use <b> a medium large subset of the dataset </b>. Afterwards, you can zoom into these ranges and do another random search (or grid search) to finetune the configurations. Use the cell below to play around and find good hyperparameters for your model!</p>\n",
    "        <p> Finally, once you've found some promising hyperparameters (or narrowed them down to promising subranges), it's time to utilize these hyperparameters to train your network on the whole dataset for a large number of epochs so that your own model can reach an acceptable performance. \n",
    "        <p> <b>Hint:</b> You may use a <code>Solver</code> class we provided before or directly use the <code>random_search</code> function (as you can also monitor the loss here) for model training.\n",
    "</div>"
   ]
  },
  {
   "cell_type": "code",
   "execution_count": 93,
   "metadata": {
    "colab": {
     "background_save": true
    },
    "id": "g2C24gzzN5eq",
    "outputId": "f9a7ca76-0471-44bc-dbb7-ac7f5d14e581"
   },
   "outputs": [
    {
     "name": "stdout",
     "output_type": "stream",
     "text": [
      "\n",
      "Evaluating Config #1 [of 100]:\n",
      " {'learning_rate': 0.001093107498099885, 'reg': 2.3329115757605197e-07, 'hidden_size': 447, 'num_layer': 5, 'dropout_prob': 0.013743350558600521, 'activation': <exercise_code.networks.layer.LeakyRelu object at 0x12f65aee0>, 'loss_func': <exercise_code.networks.loss.CrossEntropyFromLogits object at 0x12f657580>}\n",
      "(Epoch 1 / 20) train loss: 2.302586; val loss: 2.302586\n",
      "(Epoch 2 / 20) train loss: 2.302984; val loss: 2.302594\n",
      "(Epoch 3 / 20) train loss: 2.301869; val loss: 2.302418\n",
      "(Epoch 4 / 20) train loss: 2.301417; val loss: 2.301308\n",
      "(Epoch 5 / 20) train loss: 2.301451; val loss: 2.302248\n",
      "(Epoch 6 / 20) train loss: 2.343680; val loss: 2.766895\n",
      "(Epoch 7 / 20) train loss: 2.823463; val loss: 2.110130\n",
      "(Epoch 8 / 20) train loss: 2.164575; val loss: 1.984690\n",
      "(Epoch 9 / 20) train loss: 2.095489; val loss: 1.943434\n",
      "(Epoch 10 / 20) train loss: 2.013653; val loss: 1.980103\n",
      "(Epoch 11 / 20) train loss: 1.930778; val loss: 1.986505\n",
      "(Epoch 12 / 20) train loss: 1.939130; val loss: 2.022690\n",
      "(Epoch 13 / 20) train loss: 1.833681; val loss: 2.069075\n",
      "(Epoch 14 / 20) train loss: 2.256169; val loss: 1.978017\n",
      "Stopping early at epoch 13!\n",
      "\n",
      "Evaluating Config #2 [of 100]:\n",
      " {'learning_rate': 0.003330517246071855, 'reg': 1.3849839317557044e-07, 'hidden_size': 492, 'num_layer': 4, 'dropout_prob': 0.002017439268226906, 'activation': <exercise_code.networks.layer.LeakyRelu object at 0x12f65aee0>, 'loss_func': <exercise_code.networks.loss.CrossEntropyFromLogits object at 0x12f657580>}\n",
      "(Epoch 1 / 20) train loss: 2.302585; val loss: 2.302585\n",
      "(Epoch 2 / 20) train loss: 4.497793; val loss: 3.548692\n",
      "(Epoch 3 / 20) train loss: 3.324065; val loss: 2.613102\n",
      "(Epoch 4 / 20) train loss: 3.827516; val loss: 3.607368\n",
      "(Epoch 5 / 20) train loss: 4.391891; val loss: 4.562110\n",
      "(Epoch 6 / 20) train loss: nan; val loss: 11.195849\n",
      "Stopping early at epoch 5!\n",
      "\n",
      "Evaluating Config #3 [of 100]:\n",
      " {'learning_rate': 6.0437017987719594e-05, 'reg': 2.573086992078888e-07, 'hidden_size': 368, 'num_layer': 3, 'dropout_prob': 0.06705481605340628, 'activation': <exercise_code.networks.layer.LeakyRelu object at 0x12f65aee0>, 'loss_func': <exercise_code.networks.loss.CrossEntropyFromLogits object at 0x12f657580>}\n",
      "(Epoch 1 / 20) train loss: 2.302585; val loss: 2.302584\n",
      "(Epoch 2 / 20) train loss: 2.283104; val loss: 2.153351\n",
      "(Epoch 3 / 20) train loss: 2.116700; val loss: 2.036949\n",
      "(Epoch 4 / 20) train loss: 2.036927; val loss: 1.964516\n",
      "(Epoch 5 / 20) train loss: 1.949299; val loss: 1.954188\n",
      "(Epoch 6 / 20) train loss: 1.869134; val loss: 1.884381\n",
      "(Epoch 7 / 20) train loss: 1.793445; val loss: 1.864976\n",
      "(Epoch 8 / 20) train loss: 1.737198; val loss: 1.949729\n",
      "(Epoch 9 / 20) train loss: 1.684874; val loss: 1.882297\n",
      "(Epoch 10 / 20) train loss: 1.627775; val loss: 1.875947\n",
      "(Epoch 11 / 20) train loss: 1.573699; val loss: 1.926012\n",
      "(Epoch 12 / 20) train loss: 1.523267; val loss: 2.058660\n",
      "Stopping early at epoch 11!\n",
      "\n",
      "Evaluating Config #4 [of 100]:\n",
      " {'learning_rate': 0.0010319113399434982, 'reg': 1.368825735968189e-05, 'hidden_size': 260, 'num_layer': 5, 'dropout_prob': 0.04709253371619239, 'activation': <exercise_code.networks.layer.LeakyRelu object at 0x12f65aee0>, 'loss_func': <exercise_code.networks.loss.CrossEntropyFromLogits object at 0x12f657580>}\n",
      "(Epoch 1 / 20) train loss: 2.302599; val loss: 2.302599\n",
      "(Epoch 2 / 20) train loss: 2.302703; val loss: 2.302230\n",
      "(Epoch 3 / 20) train loss: 2.301969; val loss: 2.302474\n",
      "(Epoch 4 / 20) train loss: 2.301173; val loss: 2.302170\n",
      "(Epoch 5 / 20) train loss: 2.301012; val loss: 2.302150\n",
      "(Epoch 6 / 20) train loss: 2.300946; val loss: 2.302883\n",
      "(Epoch 7 / 20) train loss: 2.300483; val loss: 2.303271\n",
      "(Epoch 8 / 20) train loss: 2.300488; val loss: 2.303594\n",
      "(Epoch 9 / 20) train loss: 2.300470; val loss: 2.303579\n",
      "(Epoch 10 / 20) train loss: 2.300312; val loss: 2.303314\n",
      "Stopping early at epoch 9!\n",
      "\n",
      "Evaluating Config #5 [of 100]:\n",
      " {'learning_rate': 0.02467294809080074, 'reg': 1.6059092691285776e-07, 'hidden_size': 430, 'num_layer': 5, 'dropout_prob': 0.028634479242762124, 'activation': <exercise_code.networks.layer.LeakyRelu object at 0x12f65aee0>, 'loss_func': <exercise_code.networks.loss.CrossEntropyFromLogits object at 0x12f657580>}\n",
      "(Epoch 1 / 20) train loss: 2.302585; val loss: 2.302585\n",
      "(Epoch 2 / 20) train loss: nan; val loss: nan\n",
      "(Epoch 3 / 20) train loss: nan; val loss: nan\n",
      "(Epoch 4 / 20) train loss: nan; val loss: nan\n",
      "(Epoch 5 / 20) train loss: nan; val loss: nan\n",
      "(Epoch 6 / 20) train loss: nan; val loss: nan\n",
      "Stopping early at epoch 5!\n",
      "\n",
      "Evaluating Config #6 [of 100]:\n",
      " {'learning_rate': 6.663369801863287e-05, 'reg': 8.294590749269243e-07, 'hidden_size': 550, 'num_layer': 4, 'dropout_prob': 0.019234344959182192, 'activation': <exercise_code.networks.layer.LeakyRelu object at 0x12f65aee0>, 'loss_func': <exercise_code.networks.loss.CrossEntropyFromLogits object at 0x12f657580>}\n",
      "(Epoch 1 / 20) train loss: 2.302587; val loss: 2.302587\n",
      "(Epoch 2 / 20) train loss: 2.302612; val loss: 2.302564\n",
      "(Epoch 3 / 20) train loss: 2.302519; val loss: 2.302532\n",
      "(Epoch 4 / 20) train loss: 2.302452; val loss: 2.302516\n",
      "(Epoch 5 / 20) train loss: 2.302335; val loss: 2.302481\n",
      "(Epoch 6 / 20) train loss: 2.302189; val loss: 2.302437\n",
      "(Epoch 7 / 20) train loss: 2.299186; val loss: 2.286659\n",
      "(Epoch 8 / 20) train loss: 2.178298; val loss: 2.104980\n",
      "(Epoch 9 / 20) train loss: 2.065885; val loss: 1.988981\n",
      "(Epoch 10 / 20) train loss: 2.005524; val loss: 2.030082\n",
      "(Epoch 11 / 20) train loss: 1.966529; val loss: 1.964630\n",
      "(Epoch 12 / 20) train loss: 1.892623; val loss: 2.016663\n",
      "(Epoch 13 / 20) train loss: 1.821560; val loss: 1.996890\n",
      "(Epoch 14 / 20) train loss: 1.730672; val loss: 2.049134\n",
      "(Epoch 15 / 20) train loss: 1.626219; val loss: 2.065535\n",
      "(Epoch 16 / 20) train loss: 1.551992; val loss: 2.198601\n",
      "Stopping early at epoch 15!\n",
      "\n",
      "Evaluating Config #7 [of 100]:\n",
      " {'learning_rate': 0.0001839689075999481, 'reg': 1.2520137028889633e-05, 'hidden_size': 393, 'num_layer': 3, 'dropout_prob': 0.07014886268886768, 'activation': <exercise_code.networks.layer.LeakyRelu object at 0x12f65aee0>, 'loss_func': <exercise_code.networks.loss.CrossEntropyFromLogits object at 0x12f657580>}\n",
      "(Epoch 1 / 20) train loss: 2.302602; val loss: 2.302603\n",
      "(Epoch 2 / 20) train loss: 2.203297; val loss: 2.048001\n",
      "(Epoch 3 / 20) train loss: 2.026239; val loss: 1.991626\n",
      "(Epoch 4 / 20) train loss: 1.855316; val loss: 1.899426\n",
      "(Epoch 5 / 20) train loss: 1.726651; val loss: 1.895896\n",
      "(Epoch 6 / 20) train loss: 1.601879; val loss: 1.885361\n",
      "(Epoch 7 / 20) train loss: 1.443927; val loss: 1.932931\n",
      "(Epoch 8 / 20) train loss: 1.335225; val loss: 1.885782\n",
      "(Epoch 9 / 20) train loss: 1.178927; val loss: 2.142471\n",
      "(Epoch 10 / 20) train loss: 1.047982; val loss: 2.357564\n",
      "(Epoch 11 / 20) train loss: 0.928223; val loss: 2.315671\n",
      "Stopping early at epoch 10!\n",
      "\n",
      "Evaluating Config #8 [of 100]:\n",
      " {'learning_rate': 5.567700478013449e-05, 'reg': 2.4966554983982612e-06, 'hidden_size': 479, 'num_layer': 5, 'dropout_prob': 0.07261866206556195, 'activation': <exercise_code.networks.layer.LeakyRelu object at 0x12f65aee0>, 'loss_func': <exercise_code.networks.loss.CrossEntropyFromLogits object at 0x12f657580>}\n",
      "(Epoch 1 / 20) train loss: 2.302590; val loss: 2.302590\n",
      "(Epoch 2 / 20) train loss: 2.302597; val loss: 2.302612\n",
      "(Epoch 3 / 20) train loss: 2.302526; val loss: 2.302592\n",
      "(Epoch 4 / 20) train loss: 2.302470; val loss: 2.302539\n",
      "(Epoch 5 / 20) train loss: 2.302386; val loss: 2.302533\n",
      "(Epoch 6 / 20) train loss: 2.302276; val loss: 2.302453\n",
      "(Epoch 7 / 20) train loss: 2.302157; val loss: 2.302450\n",
      "(Epoch 8 / 20) train loss: 2.302025; val loss: 2.302376\n",
      "(Epoch 9 / 20) train loss: 2.301861; val loss: 2.302395\n",
      "(Epoch 10 / 20) train loss: 2.301682; val loss: 2.302323\n",
      "(Epoch 11 / 20) train loss: 2.301503; val loss: 2.302269\n",
      "(Epoch 12 / 20) train loss: 2.301347; val loss: 2.302174\n",
      "(Epoch 13 / 20) train loss: 2.301105; val loss: 2.302161\n",
      "(Epoch 14 / 20) train loss: 2.300935; val loss: 2.302177\n",
      "(Epoch 15 / 20) train loss: 2.300768; val loss: 2.302200\n",
      "(Epoch 16 / 20) train loss: 2.300563; val loss: 2.302404\n",
      "(Epoch 17 / 20) train loss: 2.300385; val loss: 2.302392\n",
      "(Epoch 18 / 20) train loss: 2.300229; val loss: 2.302365\n",
      "Stopping early at epoch 17!\n",
      "\n",
      "Evaluating Config #9 [of 100]:\n",
      " {'learning_rate': 0.0001816306135555062, 'reg': 5.393794365102824e-06, 'hidden_size': 335, 'num_layer': 5, 'dropout_prob': 0.016759873880828027, 'activation': <exercise_code.networks.layer.LeakyRelu object at 0x12f65aee0>, 'loss_func': <exercise_code.networks.loss.CrossEntropyFromLogits object at 0x12f657580>}\n"
     ]
    },
    {
     "name": "stdout",
     "output_type": "stream",
     "text": [
      "(Epoch 1 / 20) train loss: 2.302592; val loss: 2.302592\n",
      "(Epoch 2 / 20) train loss: 2.302640; val loss: 2.302603\n",
      "(Epoch 3 / 20) train loss: 2.302406; val loss: 2.302481\n",
      "(Epoch 4 / 20) train loss: 2.302185; val loss: 2.302406\n",
      "(Epoch 5 / 20) train loss: 2.301958; val loss: 2.302334\n",
      "(Epoch 6 / 20) train loss: 2.301621; val loss: 2.302318\n",
      "(Epoch 7 / 20) train loss: 2.301320; val loss: 2.302333\n",
      "(Epoch 8 / 20) train loss: 2.300938; val loss: 2.302285\n",
      "(Epoch 9 / 20) train loss: 2.300618; val loss: 2.302232\n",
      "(Epoch 10 / 20) train loss: 2.300331; val loss: 2.302104\n",
      "(Epoch 11 / 20) train loss: 2.235132; val loss: 2.103098\n",
      "(Epoch 12 / 20) train loss: 2.110255; val loss: 2.035066\n",
      "(Epoch 13 / 20) train loss: 2.033063; val loss: 2.013752\n",
      "(Epoch 14 / 20) train loss: 1.980456; val loss: 2.030994\n",
      "(Epoch 15 / 20) train loss: 1.914346; val loss: 1.901214\n",
      "(Epoch 16 / 20) train loss: 1.822779; val loss: 1.852044\n",
      "(Epoch 17 / 20) train loss: 1.725136; val loss: 1.890013\n",
      "(Epoch 18 / 20) train loss: 1.644159; val loss: 2.031045\n",
      "(Epoch 19 / 20) train loss: 1.558206; val loss: 2.092198\n",
      "(Epoch 20 / 20) train loss: 1.483497; val loss: 2.025480\n",
      "\n",
      "Evaluating Config #10 [of 100]:\n",
      " {'learning_rate': 0.007595457496236518, 'reg': 1.5230581938918852e-07, 'hidden_size': 484, 'num_layer': 4, 'dropout_prob': 0.034984621184623046, 'activation': <exercise_code.networks.layer.LeakyRelu object at 0x12f65aee0>, 'loss_func': <exercise_code.networks.loss.CrossEntropyFromLogits object at 0x12f657580>}\n",
      "(Epoch 1 / 20) train loss: 2.302585; val loss: 2.302585\n",
      "(Epoch 2 / 20) train loss: nan; val loss: 45.515783\n",
      "(Epoch 3 / 20) train loss: nan; val loss: 75.486924\n",
      "(Epoch 4 / 20) train loss: nan; val loss: nan\n",
      "(Epoch 5 / 20) train loss: nan; val loss: nan\n",
      "(Epoch 6 / 20) train loss: nan; val loss: nan\n",
      "Stopping early at epoch 5!\n",
      "\n",
      "Evaluating Config #11 [of 100]:\n",
      " {'learning_rate': 0.0001482233568408953, 'reg': 6.772780433087216e-07, 'hidden_size': 302, 'num_layer': 4, 'dropout_prob': 0.017064692412921422, 'activation': <exercise_code.networks.layer.LeakyRelu object at 0x12f65aee0>, 'loss_func': <exercise_code.networks.loss.CrossEntropyFromLogits object at 0x12f657580>}\n",
      "(Epoch 1 / 20) train loss: 2.302586; val loss: 2.302586\n",
      "(Epoch 2 / 20) train loss: 2.302575; val loss: 2.302444\n",
      "(Epoch 3 / 20) train loss: 2.302404; val loss: 2.302393\n",
      "(Epoch 4 / 20) train loss: 2.302212; val loss: 2.302371\n",
      "(Epoch 5 / 20) train loss: 2.299294; val loss: 2.309337\n",
      "(Epoch 6 / 20) train loss: 2.177368; val loss: 2.083827\n",
      "(Epoch 7 / 20) train loss: 2.058016; val loss: 2.010713\n",
      "(Epoch 8 / 20) train loss: 1.973635; val loss: 1.979521\n",
      "(Epoch 9 / 20) train loss: 1.857128; val loss: 1.892335\n",
      "(Epoch 10 / 20) train loss: 1.747432; val loss: 1.854030\n",
      "(Epoch 11 / 20) train loss: 1.660046; val loss: 1.917597\n",
      "(Epoch 12 / 20) train loss: 1.525971; val loss: 2.033381\n",
      "(Epoch 13 / 20) train loss: 1.430255; val loss: 1.947299\n",
      "(Epoch 14 / 20) train loss: 1.304123; val loss: 2.125688\n",
      "(Epoch 15 / 20) train loss: 1.184234; val loss: 2.313638\n",
      "Stopping early at epoch 14!\n",
      "\n",
      "Evaluating Config #12 [of 100]:\n",
      " {'learning_rate': 0.03998988820441428, 'reg': 1.4059455668150618e-06, 'hidden_size': 220, 'num_layer': 5, 'dropout_prob': 0.05452858238670778, 'activation': <exercise_code.networks.layer.LeakyRelu object at 0x12f65aee0>, 'loss_func': <exercise_code.networks.loss.CrossEntropyFromLogits object at 0x12f657580>}\n",
      "(Epoch 1 / 20) train loss: 2.302586; val loss: 2.302586\n",
      "(Epoch 2 / 20) train loss: nan; val loss: nan\n",
      "(Epoch 3 / 20) train loss: nan; val loss: nan\n",
      "(Epoch 4 / 20) train loss: nan; val loss: nan\n",
      "(Epoch 5 / 20) train loss: nan; val loss: nan\n",
      "(Epoch 6 / 20) train loss: nan; val loss: nan\n",
      "Stopping early at epoch 5!\n",
      "\n",
      "Evaluating Config #13 [of 100]:\n",
      " {'learning_rate': 8.768608808073822e-05, 'reg': 8.547207925365984e-05, 'hidden_size': 294, 'num_layer': 4, 'dropout_prob': 0.022955118549245715, 'activation': <exercise_code.networks.layer.LeakyRelu object at 0x12f65aee0>, 'loss_func': <exercise_code.networks.loss.CrossEntropyFromLogits object at 0x12f657580>}\n",
      "(Epoch 1 / 20) train loss: 2.302677; val loss: 2.302677\n",
      "(Epoch 2 / 20) train loss: 2.302703; val loss: 2.302610\n",
      "(Epoch 3 / 20) train loss: 2.302586; val loss: 2.302576\n",
      "(Epoch 4 / 20) train loss: 2.302459; val loss: 2.302595\n",
      "(Epoch 5 / 20) train loss: 2.302322; val loss: 2.302519\n",
      "(Epoch 6 / 20) train loss: 2.302172; val loss: 2.302475\n",
      "(Epoch 7 / 20) train loss: 2.298680; val loss: 2.266251\n",
      "(Epoch 8 / 20) train loss: 2.176698; val loss: 2.060053\n",
      "(Epoch 9 / 20) train loss: 2.054277; val loss: 1.972955\n",
      "(Epoch 10 / 20) train loss: 2.009224; val loss: 2.023888\n",
      "(Epoch 11 / 20) train loss: 1.959985; val loss: 2.020900\n",
      "(Epoch 12 / 20) train loss: 1.906575; val loss: 1.995510\n",
      "(Epoch 13 / 20) train loss: 1.852981; val loss: 2.063617\n",
      "(Epoch 14 / 20) train loss: 1.768309; val loss: 1.974810\n",
      "Stopping early at epoch 13!\n",
      "\n",
      "Evaluating Config #14 [of 100]:\n",
      " {'learning_rate': 0.0057728529676723175, 'reg': 1.8056279617994497e-05, 'hidden_size': 454, 'num_layer': 3, 'dropout_prob': 0.03500974460343561, 'activation': <exercise_code.networks.layer.LeakyRelu object at 0x12f65aee0>, 'loss_func': <exercise_code.networks.loss.CrossEntropyFromLogits object at 0x12f657580>}\n",
      "(Epoch 1 / 20) train loss: 2.302614; val loss: 2.302614\n",
      "(Epoch 2 / 20) train loss: 14.138786; val loss: 18.291998\n",
      "(Epoch 3 / 20) train loss: 24.601401; val loss: 21.297484\n",
      "(Epoch 4 / 20) train loss: nan; val loss: 39.373115\n",
      "(Epoch 5 / 20) train loss: nan; val loss: nan\n",
      "(Epoch 6 / 20) train loss: 38.729517; val loss: 39.977873\n",
      "Stopping early at epoch 5!\n",
      "\n",
      "Evaluating Config #15 [of 100]:\n",
      " {'learning_rate': 0.004896282032404506, 'reg': 9.171887493056809e-07, 'hidden_size': 329, 'num_layer': 3, 'dropout_prob': 0.03904417781152983, 'activation': <exercise_code.networks.layer.LeakyRelu object at 0x12f65aee0>, 'loss_func': <exercise_code.networks.loss.CrossEntropyFromLogits object at 0x12f657580>}\n",
      "(Epoch 1 / 20) train loss: 2.302585; val loss: 2.302585\n",
      "(Epoch 2 / 20) train loss: 5.005183; val loss: 5.717123\n",
      "(Epoch 3 / 20) train loss: 8.575694; val loss: 9.213201\n",
      "(Epoch 4 / 20) train loss: 10.761785; val loss: 10.029159\n",
      "(Epoch 5 / 20) train loss: 14.215626; val loss: 14.364429\n",
      "(Epoch 6 / 20) train loss: 17.098988; val loss: 33.903725\n",
      "Stopping early at epoch 5!\n",
      "\n",
      "Evaluating Config #16 [of 100]:\n",
      " {'learning_rate': 0.0003099259393662353, 'reg': 9.531429408737781e-05, 'hidden_size': 454, 'num_layer': 5, 'dropout_prob': 0.0893927409651563, 'activation': <exercise_code.networks.layer.LeakyRelu object at 0x12f65aee0>, 'loss_func': <exercise_code.networks.loss.CrossEntropyFromLogits object at 0x12f657580>}\n",
      "(Epoch 1 / 20) train loss: 2.302777; val loss: 2.302777\n",
      "(Epoch 2 / 20) train loss: 2.302884; val loss: 2.302651\n",
      "(Epoch 3 / 20) train loss: 2.302468; val loss: 2.302491\n",
      "(Epoch 4 / 20) train loss: 2.302136; val loss: 2.302281\n",
      "(Epoch 5 / 20) train loss: 2.301680; val loss: 2.302333\n",
      "(Epoch 6 / 20) train loss: 2.301296; val loss: 2.302389\n",
      "(Epoch 7 / 20) train loss: 2.300830; val loss: 2.302431\n",
      "(Epoch 8 / 20) train loss: 2.300596; val loss: 2.302706\n",
      "(Epoch 9 / 20) train loss: 2.300332; val loss: 2.303154\n",
      "Stopping early at epoch 8!\n",
      "\n",
      "Evaluating Config #17 [of 100]:\n",
      " {'learning_rate': 0.0017779308008920073, 'reg': 1.750114258173755e-05, 'hidden_size': 268, 'num_layer': 3, 'dropout_prob': 0.0868913350877828, 'activation': <exercise_code.networks.layer.LeakyRelu object at 0x12f65aee0>, 'loss_func': <exercise_code.networks.loss.CrossEntropyFromLogits object at 0x12f657580>}\n",
      "(Epoch 1 / 20) train loss: 2.302601; val loss: 2.302602\n",
      "(Epoch 2 / 20) train loss: 2.293718; val loss: 2.171867\n",
      "(Epoch 3 / 20) train loss: 2.154688; val loss: 2.044297\n",
      "(Epoch 4 / 20) train loss: 2.203800; val loss: 2.293670\n",
      "(Epoch 5 / 20) train loss: 2.016534; val loss: 2.374105\n",
      "(Epoch 6 / 20) train loss: 1.891835; val loss: 2.232649\n",
      "(Epoch 7 / 20) train loss: 1.894374; val loss: 2.199433\n",
      "(Epoch 8 / 20) train loss: 1.826156; val loss: 3.149449\n",
      "Stopping early at epoch 7!\n",
      "\n",
      "Evaluating Config #18 [of 100]:\n",
      " {'learning_rate': 0.010615612824889169, 'reg': 4.605184413766568e-06, 'hidden_size': 457, 'num_layer': 4, 'dropout_prob': 0.06576706745072729, 'activation': <exercise_code.networks.layer.LeakyRelu object at 0x12f65aee0>, 'loss_func': <exercise_code.networks.loss.CrossEntropyFromLogits object at 0x12f657580>}\n"
     ]
    },
    {
     "name": "stdout",
     "output_type": "stream",
     "text": [
      "(Epoch 1 / 20) train loss: 2.302594; val loss: 2.302593\n",
      "(Epoch 2 / 20) train loss: nan; val loss: nan\n",
      "(Epoch 3 / 20) train loss: nan; val loss: nan\n",
      "(Epoch 4 / 20) train loss: nan; val loss: nan\n",
      "(Epoch 5 / 20) train loss: nan; val loss: nan\n",
      "(Epoch 6 / 20) train loss: nan; val loss: nan\n",
      "Stopping early at epoch 5!\n",
      "\n",
      "Evaluating Config #19 [of 100]:\n",
      " {'learning_rate': 0.00500460856170029, 'reg': 4.7192214422365834e-05, 'hidden_size': 278, 'num_layer': 3, 'dropout_prob': 0.02071294161789683, 'activation': <exercise_code.networks.layer.LeakyRelu object at 0x12f65aee0>, 'loss_func': <exercise_code.networks.loss.CrossEntropyFromLogits object at 0x12f657580>}\n",
      "(Epoch 1 / 20) train loss: 2.302630; val loss: 2.302630\n",
      "(Epoch 2 / 20) train loss: 4.749224; val loss: 6.452247\n",
      "(Epoch 3 / 20) train loss: 7.353497; val loss: 12.940413\n",
      "(Epoch 4 / 20) train loss: 10.285801; val loss: 11.494373\n",
      "(Epoch 5 / 20) train loss: 10.287314; val loss: 10.077796\n",
      "(Epoch 6 / 20) train loss: 8.019011; val loss: 9.283425\n",
      "Stopping early at epoch 5!\n",
      "\n",
      "Evaluating Config #20 [of 100]:\n",
      " {'learning_rate': 9.922907075388467e-05, 'reg': 3.5772751119031345e-06, 'hidden_size': 382, 'num_layer': 3, 'dropout_prob': 0.03546537215627234, 'activation': <exercise_code.networks.layer.LeakyRelu object at 0x12f65aee0>, 'loss_func': <exercise_code.networks.loss.CrossEntropyFromLogits object at 0x12f657580>}\n",
      "(Epoch 1 / 20) train loss: 2.302589; val loss: 2.302590\n",
      "(Epoch 2 / 20) train loss: 2.242764; val loss: 2.036146\n",
      "(Epoch 3 / 20) train loss: 2.041815; val loss: 1.946493\n",
      "(Epoch 4 / 20) train loss: 1.895591; val loss: 1.854340\n",
      "(Epoch 5 / 20) train loss: 1.788421; val loss: 1.891654\n",
      "(Epoch 6 / 20) train loss: 1.702897; val loss: 1.832377\n",
      "(Epoch 7 / 20) train loss: 1.608431; val loss: 1.892131\n",
      "(Epoch 8 / 20) train loss: 1.517366; val loss: 1.951789\n",
      "(Epoch 9 / 20) train loss: 1.440608; val loss: 1.969518\n",
      "(Epoch 10 / 20) train loss: 1.338724; val loss: 1.972732\n",
      "(Epoch 11 / 20) train loss: 1.252947; val loss: 2.155414\n",
      "Stopping early at epoch 10!\n",
      "\n",
      "Evaluating Config #21 [of 100]:\n",
      " {'learning_rate': 0.031090182876810812, 'reg': 5.698608051264316e-07, 'hidden_size': 391, 'num_layer': 5, 'dropout_prob': 0.0788090412325197, 'activation': <exercise_code.networks.layer.LeakyRelu object at 0x12f65aee0>, 'loss_func': <exercise_code.networks.loss.CrossEntropyFromLogits object at 0x12f657580>}\n",
      "(Epoch 1 / 20) train loss: 2.302586; val loss: 2.302586\n",
      "(Epoch 2 / 20) train loss: nan; val loss: nan\n",
      "(Epoch 3 / 20) train loss: nan; val loss: nan\n",
      "(Epoch 4 / 20) train loss: nan; val loss: nan\n",
      "(Epoch 5 / 20) train loss: nan; val loss: nan\n",
      "(Epoch 6 / 20) train loss: nan; val loss: nan\n",
      "Stopping early at epoch 5!\n",
      "\n",
      "Evaluating Config #22 [of 100]:\n",
      " {'learning_rate': 0.003371048581935497, 'reg': 9.380112589551357e-05, 'hidden_size': 502, 'num_layer': 4, 'dropout_prob': 0.07971935986622125, 'activation': <exercise_code.networks.layer.LeakyRelu object at 0x12f65aee0>, 'loss_func': <exercise_code.networks.loss.CrossEntropyFromLogits object at 0x12f657580>}\n",
      "(Epoch 1 / 20) train loss: 2.302777; val loss: 2.302777\n",
      "(Epoch 2 / 20) train loss: 3.894307; val loss: 3.807481\n",
      "(Epoch 3 / 20) train loss: 7.766113; val loss: nan\n",
      "(Epoch 4 / 20) train loss: 14.477427; val loss: 4.800652\n",
      "(Epoch 5 / 20) train loss: 4.819492; val loss: 4.096462\n",
      "(Epoch 6 / 20) train loss: 4.215647; val loss: 3.621102\n",
      "Stopping early at epoch 5!\n",
      "\n",
      "Evaluating Config #23 [of 100]:\n",
      " {'learning_rate': 0.004010459559150934, 'reg': 5.634471514850803e-05, 'hidden_size': 302, 'num_layer': 5, 'dropout_prob': 0.05902000001227514, 'activation': <exercise_code.networks.layer.LeakyRelu object at 0x12f65aee0>, 'loss_func': <exercise_code.networks.loss.CrossEntropyFromLogits object at 0x12f657580>}\n",
      "(Epoch 1 / 20) train loss: 2.302653; val loss: 2.302653\n",
      "(Epoch 2 / 20) train loss: 2.304930; val loss: 2.300116\n",
      "(Epoch 3 / 20) train loss: 2.307146; val loss: 2.327742\n",
      "(Epoch 4 / 20) train loss: nan; val loss: 13.901890\n",
      "(Epoch 5 / 20) train loss: 5.986732; val loss: 4.714834\n",
      "(Epoch 6 / 20) train loss: 5.216770; val loss: 4.072845\n",
      "(Epoch 7 / 20) train loss: 3.549058; val loss: 4.442248\n",
      "Stopping early at epoch 6!\n",
      "\n",
      "Evaluating Config #24 [of 100]:\n",
      " {'learning_rate': 0.003428936648867639, 'reg': 3.4507551891630337e-07, 'hidden_size': 300, 'num_layer': 4, 'dropout_prob': 0.035531581431091856, 'activation': <exercise_code.networks.layer.LeakyRelu object at 0x12f65aee0>, 'loss_func': <exercise_code.networks.loss.CrossEntropyFromLogits object at 0x12f657580>}\n",
      "(Epoch 1 / 20) train loss: 2.302585; val loss: 2.302585\n",
      "(Epoch 2 / 20) train loss: 2.873315; val loss: 2.521668\n",
      "(Epoch 3 / 20) train loss: 2.649131; val loss: 3.474981\n",
      "(Epoch 4 / 20) train loss: 3.670856; val loss: 2.915276\n",
      "(Epoch 5 / 20) train loss: 2.802054; val loss: 2.921444\n",
      "(Epoch 6 / 20) train loss: 2.802165; val loss: 3.375500\n",
      "Stopping early at epoch 5!\n",
      "\n",
      "Evaluating Config #25 [of 100]:\n",
      " {'learning_rate': 0.0014426590925871795, 'reg': 1.0662396251760685e-07, 'hidden_size': 232, 'num_layer': 3, 'dropout_prob': 0.0015395804614634523, 'activation': <exercise_code.networks.layer.LeakyRelu object at 0x12f65aee0>, 'loss_func': <exercise_code.networks.loss.CrossEntropyFromLogits object at 0x12f657580>}\n",
      "(Epoch 1 / 20) train loss: 2.302585; val loss: 2.302585\n",
      "(Epoch 2 / 20) train loss: 2.291539; val loss: 1.961159\n",
      "(Epoch 3 / 20) train loss: 2.067164; val loss: 2.195410\n",
      "(Epoch 4 / 20) train loss: 1.971952; val loss: 2.005255\n",
      "(Epoch 5 / 20) train loss: 1.817663; val loss: 2.125359\n",
      "(Epoch 6 / 20) train loss: 1.780143; val loss: 1.751709\n",
      "(Epoch 7 / 20) train loss: 1.572637; val loss: 2.201952\n",
      "(Epoch 8 / 20) train loss: 1.496144; val loss: 2.396890\n",
      "(Epoch 9 / 20) train loss: 1.459756; val loss: 2.274443\n",
      "(Epoch 10 / 20) train loss: 1.190386; val loss: 3.409914\n",
      "(Epoch 11 / 20) train loss: 1.176032; val loss: 3.140459\n",
      "Stopping early at epoch 10!\n",
      "\n",
      "Evaluating Config #26 [of 100]:\n",
      " {'learning_rate': 0.0006223130275278716, 'reg': 1.0817750135359826e-06, 'hidden_size': 461, 'num_layer': 5, 'dropout_prob': 0.09405076773058149, 'activation': <exercise_code.networks.layer.LeakyRelu object at 0x12f65aee0>, 'loss_func': <exercise_code.networks.loss.CrossEntropyFromLogits object at 0x12f657580>}\n",
      "(Epoch 1 / 20) train loss: 2.302587; val loss: 2.302587\n",
      "(Epoch 2 / 20) train loss: 2.302734; val loss: 2.302425\n",
      "(Epoch 3 / 20) train loss: 2.302086; val loss: 2.302580\n",
      "(Epoch 4 / 20) train loss: 2.301591; val loss: 2.302155\n",
      "(Epoch 5 / 20) train loss: 2.301100; val loss: 2.302327\n",
      "(Epoch 6 / 20) train loss: 2.300685; val loss: 2.302339\n",
      "(Epoch 7 / 20) train loss: 2.300440; val loss: 2.302212\n",
      "(Epoch 8 / 20) train loss: 2.300482; val loss: 2.302092\n",
      "(Epoch 9 / 20) train loss: 2.300088; val loss: 2.302998\n",
      "(Epoch 10 / 20) train loss: 2.309383; val loss: 2.302364\n",
      "(Epoch 11 / 20) train loss: 2.274046; val loss: 2.192269\n",
      "(Epoch 12 / 20) train loss: 2.135862; val loss: 2.114912\n",
      "(Epoch 13 / 20) train loss: 2.029848; val loss: 1.919038\n",
      "(Epoch 14 / 20) train loss: 1.889005; val loss: 1.874307\n",
      "(Epoch 15 / 20) train loss: 1.761722; val loss: 1.884756\n",
      "(Epoch 16 / 20) train loss: 1.740334; val loss: 2.059101\n",
      "(Epoch 17 / 20) train loss: 1.597432; val loss: 2.098863\n",
      "(Epoch 18 / 20) train loss: 1.514740; val loss: 2.344528\n",
      "(Epoch 19 / 20) train loss: 1.376255; val loss: 1.894193\n",
      "Stopping early at epoch 18!\n",
      "\n",
      "Evaluating Config #27 [of 100]:\n",
      " {'learning_rate': 0.0007375099695806643, 'reg': 8.780247280093723e-05, 'hidden_size': 246, 'num_layer': 5, 'dropout_prob': 0.038234442995335786, 'activation': <exercise_code.networks.layer.LeakyRelu object at 0x12f65aee0>, 'loss_func': <exercise_code.networks.loss.CrossEntropyFromLogits object at 0x12f657580>}\n",
      "(Epoch 1 / 20) train loss: 2.302668; val loss: 2.302668\n",
      "(Epoch 2 / 20) train loss: 2.302796; val loss: 2.302269\n",
      "(Epoch 3 / 20) train loss: 2.302018; val loss: 2.302036\n",
      "(Epoch 4 / 20) train loss: 2.301414; val loss: 2.302416\n",
      "(Epoch 5 / 20) train loss: 2.300960; val loss: 2.302619\n",
      "(Epoch 6 / 20) train loss: 2.300825; val loss: 2.303333\n",
      "(Epoch 7 / 20) train loss: 2.300469; val loss: 2.303176\n",
      "(Epoch 8 / 20) train loss: 2.300410; val loss: 2.303307\n",
      "Stopping early at epoch 7!\n",
      "\n",
      "Evaluating Config #28 [of 100]:\n",
      " {'learning_rate': 0.03732562193458764, 'reg': 7.358959209214436e-05, 'hidden_size': 480, 'num_layer': 4, 'dropout_prob': 0.049188446663419975, 'activation': <exercise_code.networks.layer.LeakyRelu object at 0x12f65aee0>, 'loss_func': <exercise_code.networks.loss.CrossEntropyFromLogits object at 0x12f657580>}\n"
     ]
    },
    {
     "name": "stdout",
     "output_type": "stream",
     "text": [
      "(Epoch 1 / 20) train loss: 2.302728; val loss: 2.302728\n",
      "(Epoch 2 / 20) train loss: nan; val loss: nan\n",
      "(Epoch 3 / 20) train loss: nan; val loss: nan\n",
      "(Epoch 4 / 20) train loss: nan; val loss: nan\n",
      "(Epoch 5 / 20) train loss: nan; val loss: nan\n",
      "(Epoch 6 / 20) train loss: nan; val loss: nan\n",
      "Stopping early at epoch 5!\n",
      "\n",
      "Evaluating Config #29 [of 100]:\n",
      " {'learning_rate': 0.00023207761277199216, 'reg': 1.3271311934534543e-07, 'hidden_size': 420, 'num_layer': 3, 'dropout_prob': 0.058332978223834125, 'activation': <exercise_code.networks.layer.LeakyRelu object at 0x12f65aee0>, 'loss_func': <exercise_code.networks.loss.CrossEntropyFromLogits object at 0x12f657580>}\n",
      "(Epoch 1 / 20) train loss: 2.302585; val loss: 2.302583\n",
      "(Epoch 2 / 20) train loss: 2.204221; val loss: 2.037809\n",
      "(Epoch 3 / 20) train loss: 1.979756; val loss: 1.810317\n",
      "(Epoch 4 / 20) train loss: 1.817370; val loss: 1.834352\n",
      "(Epoch 5 / 20) train loss: 1.659173; val loss: 1.807419\n",
      "(Epoch 6 / 20) train loss: 1.510114; val loss: 1.825994\n",
      "(Epoch 7 / 20) train loss: 1.367884; val loss: 1.933573\n",
      "(Epoch 8 / 20) train loss: 1.233215; val loss: 2.190074\n",
      "(Epoch 9 / 20) train loss: 1.084917; val loss: 2.313788\n",
      "(Epoch 10 / 20) train loss: 0.927694; val loss: 2.226777\n",
      "Stopping early at epoch 9!\n",
      "\n",
      "Evaluating Config #30 [of 100]:\n",
      " {'learning_rate': 0.00735951351150997, 'reg': 4.317939474266144e-05, 'hidden_size': 238, 'num_layer': 5, 'dropout_prob': 0.07601118547622121, 'activation': <exercise_code.networks.layer.LeakyRelu object at 0x12f65aee0>, 'loss_func': <exercise_code.networks.loss.CrossEntropyFromLogits object at 0x12f657580>}\n",
      "(Epoch 1 / 20) train loss: 2.302624; val loss: 2.302624\n",
      "(Epoch 2 / 20) train loss: nan; val loss: nan\n",
      "(Epoch 3 / 20) train loss: nan; val loss: nan\n",
      "(Epoch 4 / 20) train loss: 11.905231; val loss: 6.369506\n",
      "(Epoch 5 / 20) train loss: 5.147701; val loss: 4.859872\n",
      "(Epoch 6 / 20) train loss: 4.231560; val loss: 4.133662\n",
      "Stopping early at epoch 5!\n",
      "\n",
      "Evaluating Config #31 [of 100]:\n",
      " {'learning_rate': 8.601761308900043e-05, 'reg': 6.276138344003497e-07, 'hidden_size': 292, 'num_layer': 3, 'dropout_prob': 0.00980160619960805, 'activation': <exercise_code.networks.layer.LeakyRelu object at 0x12f65aee0>, 'loss_func': <exercise_code.networks.loss.CrossEntropyFromLogits object at 0x12f657580>}\n",
      "(Epoch 1 / 20) train loss: 2.302585; val loss: 2.302584\n",
      "(Epoch 2 / 20) train loss: 2.249528; val loss: 2.105748\n",
      "(Epoch 3 / 20) train loss: 2.097220; val loss: 2.002760\n",
      "(Epoch 4 / 20) train loss: 1.986039; val loss: 1.911812\n",
      "(Epoch 5 / 20) train loss: 1.863737; val loss: 1.864274\n",
      "(Epoch 6 / 20) train loss: 1.775117; val loss: 1.860994\n",
      "(Epoch 7 / 20) train loss: 1.697358; val loss: 1.873229\n",
      "(Epoch 8 / 20) train loss: 1.623874; val loss: 1.896345\n",
      "(Epoch 9 / 20) train loss: 1.555256; val loss: 1.896314\n",
      "(Epoch 10 / 20) train loss: 1.489415; val loss: 1.921832\n",
      "(Epoch 11 / 20) train loss: 1.417601; val loss: 1.871921\n",
      "Stopping early at epoch 10!\n",
      "\n",
      "Evaluating Config #32 [of 100]:\n",
      " {'learning_rate': 0.0007694624779038309, 'reg': 2.5966601097679837e-07, 'hidden_size': 596, 'num_layer': 4, 'dropout_prob': 0.08272043133755358, 'activation': <exercise_code.networks.layer.LeakyRelu object at 0x12f65aee0>, 'loss_func': <exercise_code.networks.loss.CrossEntropyFromLogits object at 0x12f657580>}\n",
      "(Epoch 1 / 20) train loss: 2.302586; val loss: 2.302586\n",
      "(Epoch 2 / 20) train loss: 2.282838; val loss: 2.138885\n",
      "(Epoch 3 / 20) train loss: 2.159144; val loss: 2.005311\n",
      "(Epoch 4 / 20) train loss: 1.966430; val loss: 1.910103\n",
      "(Epoch 5 / 20) train loss: 1.850078; val loss: 1.929138\n",
      "(Epoch 6 / 20) train loss: 1.801188; val loss: 2.346988\n",
      "(Epoch 7 / 20) train loss: 1.632651; val loss: 2.012313\n",
      "(Epoch 8 / 20) train loss: 1.539606; val loss: 2.242352\n",
      "(Epoch 9 / 20) train loss: 1.458015; val loss: 2.507455\n",
      "Stopping early at epoch 8!\n",
      "\n",
      "Evaluating Config #33 [of 100]:\n",
      " {'learning_rate': 0.02505999679883186, 'reg': 1.1617233746309572e-05, 'hidden_size': 435, 'num_layer': 4, 'dropout_prob': 0.06853788375159162, 'activation': <exercise_code.networks.layer.LeakyRelu object at 0x12f65aee0>, 'loss_func': <exercise_code.networks.loss.CrossEntropyFromLogits object at 0x12f657580>}\n",
      "(Epoch 1 / 20) train loss: 2.302605; val loss: 2.302605\n",
      "(Epoch 2 / 20) train loss: nan; val loss: nan\n",
      "(Epoch 3 / 20) train loss: nan; val loss: nan\n",
      "(Epoch 4 / 20) train loss: nan; val loss: nan\n",
      "(Epoch 5 / 20) train loss: nan; val loss: nan\n",
      "(Epoch 6 / 20) train loss: nan; val loss: nan\n",
      "Stopping early at epoch 5!\n",
      "\n",
      "Evaluating Config #34 [of 100]:\n",
      " {'learning_rate': 0.0007145252128596051, 'reg': 2.2385553948037712e-05, 'hidden_size': 417, 'num_layer': 4, 'dropout_prob': 0.06214227949560006, 'activation': <exercise_code.networks.layer.LeakyRelu object at 0x12f65aee0>, 'loss_func': <exercise_code.networks.loss.CrossEntropyFromLogits object at 0x12f657580>}\n",
      "(Epoch 1 / 20) train loss: 2.302622; val loss: 2.302622\n",
      "(Epoch 2 / 20) train loss: 2.302790; val loss: 2.302438\n",
      "(Epoch 3 / 20) train loss: 2.299548; val loss: 2.047793\n",
      "(Epoch 4 / 20) train loss: 2.103217; val loss: 2.006518\n",
      "(Epoch 5 / 20) train loss: 1.960248; val loss: 1.891518\n",
      "(Epoch 6 / 20) train loss: 1.852505; val loss: 2.001385\n",
      "(Epoch 7 / 20) train loss: 1.755817; val loss: 2.179384\n",
      "(Epoch 8 / 20) train loss: 1.642087; val loss: 1.929873\n",
      "(Epoch 9 / 20) train loss: 1.536220; val loss: 2.092798\n",
      "(Epoch 10 / 20) train loss: 1.511696; val loss: 2.208388\n",
      "Stopping early at epoch 9!\n",
      "\n",
      "Evaluating Config #35 [of 100]:\n",
      " {'learning_rate': 0.004578306399666528, 'reg': 1.9742019431745077e-05, 'hidden_size': 342, 'num_layer': 3, 'dropout_prob': 0.06481376847511407, 'activation': <exercise_code.networks.layer.LeakyRelu object at 0x12f65aee0>, 'loss_func': <exercise_code.networks.loss.CrossEntropyFromLogits object at 0x12f657580>}\n",
      "(Epoch 1 / 20) train loss: 2.302608; val loss: 2.302608\n",
      "(Epoch 2 / 20) train loss: 4.476220; val loss: 7.775434\n",
      "(Epoch 3 / 20) train loss: 7.272708; val loss: 5.783055\n",
      "(Epoch 4 / 20) train loss: 8.193822; val loss: 7.601869\n",
      "(Epoch 5 / 20) train loss: 12.951353; val loss: 11.696517\n",
      "(Epoch 6 / 20) train loss: 12.811591; val loss: 15.555058\n",
      "Stopping early at epoch 5!\n",
      "\n",
      "Evaluating Config #36 [of 100]:\n",
      " {'learning_rate': 0.0008301394174729111, 'reg': 5.52044185742778e-06, 'hidden_size': 306, 'num_layer': 3, 'dropout_prob': 0.07628436001869637, 'activation': <exercise_code.networks.layer.LeakyRelu object at 0x12f65aee0>, 'loss_func': <exercise_code.networks.loss.CrossEntropyFromLogits object at 0x12f657580>}\n",
      "(Epoch 1 / 20) train loss: 2.302591; val loss: 2.302591\n",
      "(Epoch 2 / 20) train loss: 2.175361; val loss: 2.101781\n",
      "(Epoch 3 / 20) train loss: 1.937565; val loss: 1.950492\n",
      "(Epoch 4 / 20) train loss: 1.809354; val loss: 1.987585\n",
      "(Epoch 5 / 20) train loss: 1.647984; val loss: 1.966665\n",
      "(Epoch 6 / 20) train loss: 1.495080; val loss: 2.155252\n",
      "(Epoch 7 / 20) train loss: 1.367773; val loss: 2.167780\n",
      "(Epoch 8 / 20) train loss: 1.179465; val loss: 2.341468\n",
      "Stopping early at epoch 7!\n",
      "\n",
      "Evaluating Config #37 [of 100]:\n",
      " {'learning_rate': 0.02351586420016262, 'reg': 1.1729063370774312e-07, 'hidden_size': 222, 'num_layer': 4, 'dropout_prob': 0.07408601963460688, 'activation': <exercise_code.networks.layer.LeakyRelu object at 0x12f65aee0>, 'loss_func': <exercise_code.networks.loss.CrossEntropyFromLogits object at 0x12f657580>}\n",
      "(Epoch 1 / 20) train loss: 2.302585; val loss: 2.302585\n",
      "(Epoch 2 / 20) train loss: nan; val loss: nan\n",
      "(Epoch 3 / 20) train loss: nan; val loss: nan\n",
      "(Epoch 4 / 20) train loss: nan; val loss: nan\n",
      "(Epoch 5 / 20) train loss: nan; val loss: nan\n",
      "(Epoch 6 / 20) train loss: nan; val loss: nan\n",
      "Stopping early at epoch 5!\n",
      "\n",
      "Evaluating Config #38 [of 100]:\n",
      " {'learning_rate': 9.722889336665902e-05, 'reg': 1.5500945403433757e-07, 'hidden_size': 296, 'num_layer': 4, 'dropout_prob': 0.013284217661716191, 'activation': <exercise_code.networks.layer.LeakyRelu object at 0x12f65aee0>, 'loss_func': <exercise_code.networks.loss.CrossEntropyFromLogits object at 0x12f657580>}\n",
      "(Epoch 1 / 20) train loss: 2.302585; val loss: 2.302585\n",
      "(Epoch 2 / 20) train loss: 2.302616; val loss: 2.302565\n",
      "(Epoch 3 / 20) train loss: 2.302492; val loss: 2.302546\n",
      "(Epoch 4 / 20) train loss: 2.302378; val loss: 2.302502\n",
      "(Epoch 5 / 20) train loss: 2.302269; val loss: 2.302502\n"
     ]
    },
    {
     "name": "stdout",
     "output_type": "stream",
     "text": [
      "(Epoch 6 / 20) train loss: 2.302107; val loss: 2.302427\n",
      "(Epoch 7 / 20) train loss: 2.301723; val loss: 2.299511\n",
      "(Epoch 8 / 20) train loss: 2.198413; val loss: 2.053944\n",
      "(Epoch 9 / 20) train loss: 2.080543; val loss: 1.994112\n",
      "(Epoch 10 / 20) train loss: 2.011113; val loss: 1.998578\n",
      "(Epoch 11 / 20) train loss: 1.961559; val loss: 2.000612\n",
      "(Epoch 12 / 20) train loss: 1.906557; val loss: 2.015234\n",
      "(Epoch 13 / 20) train loss: 1.827429; val loss: 1.988641\n",
      "(Epoch 14 / 20) train loss: 1.730156; val loss: 2.036381\n",
      "(Epoch 15 / 20) train loss: 1.662835; val loss: 2.045321\n",
      "(Epoch 16 / 20) train loss: 1.567278; val loss: 1.993296\n",
      "(Epoch 17 / 20) train loss: 1.488496; val loss: 2.360765\n",
      "(Epoch 18 / 20) train loss: 1.409018; val loss: 2.443620\n",
      "Stopping early at epoch 17!\n",
      "\n",
      "Evaluating Config #39 [of 100]:\n",
      " {'learning_rate': 0.00019866179346099766, 'reg': 1.0118231591613616e-07, 'hidden_size': 467, 'num_layer': 4, 'dropout_prob': 0.045413182346511365, 'activation': <exercise_code.networks.layer.LeakyRelu object at 0x12f65aee0>, 'loss_func': <exercise_code.networks.loss.CrossEntropyFromLogits object at 0x12f657580>}\n",
      "(Epoch 1 / 20) train loss: 2.302585; val loss: 2.302585\n",
      "(Epoch 2 / 20) train loss: 2.302616; val loss: 2.302570\n",
      "(Epoch 3 / 20) train loss: 2.302377; val loss: 2.302509\n",
      "(Epoch 4 / 20) train loss: 2.302168; val loss: 2.302418\n",
      "(Epoch 5 / 20) train loss: 2.262369; val loss: 2.061918\n",
      "(Epoch 6 / 20) train loss: 2.097151; val loss: 2.048344\n",
      "(Epoch 7 / 20) train loss: 1.986319; val loss: 1.981660\n",
      "(Epoch 8 / 20) train loss: 1.852911; val loss: 1.957730\n",
      "(Epoch 9 / 20) train loss: 1.689445; val loss: 1.922002\n",
      "(Epoch 10 / 20) train loss: 1.558585; val loss: 1.792888\n",
      "(Epoch 11 / 20) train loss: 1.414493; val loss: 2.155792\n",
      "(Epoch 12 / 20) train loss: 1.273325; val loss: 1.979209\n",
      "(Epoch 13 / 20) train loss: 1.136708; val loss: 2.162359\n",
      "(Epoch 14 / 20) train loss: 0.982124; val loss: 2.345359\n",
      "(Epoch 15 / 20) train loss: 0.870390; val loss: 2.544493\n",
      "Stopping early at epoch 14!\n",
      "\n",
      "Evaluating Config #40 [of 100]:\n",
      " {'learning_rate': 0.00055045767230773, 'reg': 2.124299239183174e-06, 'hidden_size': 460, 'num_layer': 5, 'dropout_prob': 0.005885531683543966, 'activation': <exercise_code.networks.layer.LeakyRelu object at 0x12f65aee0>, 'loss_func': <exercise_code.networks.loss.CrossEntropyFromLogits object at 0x12f657580>}\n",
      "(Epoch 1 / 20) train loss: 2.302589; val loss: 2.302589\n",
      "(Epoch 2 / 20) train loss: 2.302708; val loss: 2.302507\n",
      "(Epoch 3 / 20) train loss: 2.302212; val loss: 2.302305\n",
      "(Epoch 4 / 20) train loss: 2.301755; val loss: 2.302023\n",
      "(Epoch 5 / 20) train loss: 2.301294; val loss: 2.302241\n",
      "(Epoch 6 / 20) train loss: 2.300846; val loss: 2.302254\n",
      "(Epoch 7 / 20) train loss: 2.300664; val loss: 2.302516\n",
      "(Epoch 8 / 20) train loss: 2.300223; val loss: 2.302733\n",
      "(Epoch 9 / 20) train loss: 2.300257; val loss: 2.303187\n",
      "Stopping early at epoch 8!\n",
      "\n",
      "Evaluating Config #41 [of 100]:\n",
      " {'learning_rate': 8.972491956979696e-05, 'reg': 2.728715595465931e-05, 'hidden_size': 342, 'num_layer': 4, 'dropout_prob': 0.07178737678669629, 'activation': <exercise_code.networks.layer.LeakyRelu object at 0x12f65aee0>, 'loss_func': <exercise_code.networks.loss.CrossEntropyFromLogits object at 0x12f657580>}\n",
      "(Epoch 1 / 20) train loss: 2.302620; val loss: 2.302620\n",
      "(Epoch 2 / 20) train loss: 2.302642; val loss: 2.302573\n",
      "(Epoch 3 / 20) train loss: 2.302520; val loss: 2.302569\n",
      "(Epoch 4 / 20) train loss: 2.302403; val loss: 2.302532\n",
      "(Epoch 5 / 20) train loss: 2.302263; val loss: 2.302510\n",
      "(Epoch 6 / 20) train loss: 2.302098; val loss: 2.302448\n",
      "(Epoch 7 / 20) train loss: 2.301890; val loss: 2.302406\n",
      "(Epoch 8 / 20) train loss: 2.284429; val loss: 2.240708\n",
      "(Epoch 9 / 20) train loss: 2.131407; val loss: 2.037106\n",
      "(Epoch 10 / 20) train loss: 2.033215; val loss: 2.001754\n",
      "(Epoch 11 / 20) train loss: 1.965076; val loss: 1.964483\n",
      "(Epoch 12 / 20) train loss: 1.910455; val loss: 2.005039\n",
      "(Epoch 13 / 20) train loss: 1.827760; val loss: 1.970736\n",
      "(Epoch 14 / 20) train loss: 1.746883; val loss: 2.011439\n",
      "(Epoch 15 / 20) train loss: 1.661710; val loss: 1.954721\n",
      "(Epoch 16 / 20) train loss: 1.592125; val loss: 2.042046\n",
      "(Epoch 17 / 20) train loss: 1.524258; val loss: 2.090255\n",
      "(Epoch 18 / 20) train loss: 1.444931; val loss: 2.116299\n",
      "(Epoch 19 / 20) train loss: 1.370371; val loss: 2.159668\n",
      "(Epoch 20 / 20) train loss: 1.317337; val loss: 2.204489\n",
      "Stopping early at epoch 19!\n",
      "\n",
      "Evaluating Config #42 [of 100]:\n",
      " {'learning_rate': 0.002326637801663256, 'reg': 6.454902534433718e-07, 'hidden_size': 473, 'num_layer': 4, 'dropout_prob': 0.03815599520344092, 'activation': <exercise_code.networks.layer.LeakyRelu object at 0x12f65aee0>, 'loss_func': <exercise_code.networks.loss.CrossEntropyFromLogits object at 0x12f657580>}\n",
      "(Epoch 1 / 20) train loss: 2.302586; val loss: 2.302586\n",
      "(Epoch 2 / 20) train loss: 2.975332; val loss: 2.465181\n",
      "(Epoch 3 / 20) train loss: 2.625658; val loss: 2.293600\n",
      "(Epoch 4 / 20) train loss: 2.566750; val loss: 2.201455\n",
      "(Epoch 5 / 20) train loss: 3.210732; val loss: 2.586197\n",
      "(Epoch 6 / 20) train loss: 3.642542; val loss: 2.590919\n",
      "(Epoch 7 / 20) train loss: 3.094610; val loss: 3.051217\n",
      "(Epoch 8 / 20) train loss: 3.020786; val loss: 2.571733\n",
      "(Epoch 9 / 20) train loss: 2.667119; val loss: 2.652394\n",
      "Stopping early at epoch 8!\n",
      "\n",
      "Evaluating Config #43 [of 100]:\n",
      " {'learning_rate': 0.00010772101734386286, 'reg': 2.057640242383055e-05, 'hidden_size': 449, 'num_layer': 4, 'dropout_prob': 0.05678492275333033, 'activation': <exercise_code.networks.layer.LeakyRelu object at 0x12f65aee0>, 'loss_func': <exercise_code.networks.loss.CrossEntropyFromLogits object at 0x12f657580>}\n",
      "(Epoch 1 / 20) train loss: 2.302622; val loss: 2.302622\n",
      "(Epoch 2 / 20) train loss: 2.302648; val loss: 2.302632\n",
      "(Epoch 3 / 20) train loss: 2.302524; val loss: 2.302612\n",
      "(Epoch 4 / 20) train loss: 2.302376; val loss: 2.302537\n",
      "(Epoch 5 / 20) train loss: 2.302190; val loss: 2.302543\n",
      "(Epoch 6 / 20) train loss: 2.299180; val loss: 2.286496\n",
      "(Epoch 7 / 20) train loss: 2.180826; val loss: 2.054881\n",
      "(Epoch 8 / 20) train loss: 2.055365; val loss: 2.043541\n",
      "(Epoch 9 / 20) train loss: 1.997842; val loss: 1.955442\n",
      "(Epoch 10 / 20) train loss: 1.916268; val loss: 1.904100\n",
      "(Epoch 11 / 20) train loss: 1.833431; val loss: 1.930644\n",
      "(Epoch 12 / 20) train loss: 1.754991; val loss: 1.995056\n",
      "(Epoch 13 / 20) train loss: 1.661961; val loss: 2.007531\n",
      "(Epoch 14 / 20) train loss: 1.550999; val loss: 2.001606\n",
      "(Epoch 15 / 20) train loss: 1.449726; val loss: 2.089677\n",
      "Stopping early at epoch 14!\n",
      "\n",
      "Evaluating Config #44 [of 100]:\n",
      " {'learning_rate': 0.047742586303175336, 'reg': 2.1612576257149238e-07, 'hidden_size': 277, 'num_layer': 5, 'dropout_prob': 0.08762499884199951, 'activation': <exercise_code.networks.layer.LeakyRelu object at 0x12f65aee0>, 'loss_func': <exercise_code.networks.loss.CrossEntropyFromLogits object at 0x12f657580>}\n",
      "(Epoch 1 / 20) train loss: 2.302585; val loss: 2.302585\n",
      "(Epoch 2 / 20) train loss: nan; val loss: nan\n",
      "(Epoch 3 / 20) train loss: nan; val loss: nan\n",
      "(Epoch 4 / 20) train loss: nan; val loss: nan\n",
      "(Epoch 5 / 20) train loss: nan; val loss: nan\n",
      "(Epoch 6 / 20) train loss: nan; val loss: nan\n",
      "Stopping early at epoch 5!\n",
      "\n",
      "Evaluating Config #45 [of 100]:\n",
      " {'learning_rate': 0.0001793125971232909, 'reg': 1.8542965820191716e-06, 'hidden_size': 533, 'num_layer': 4, 'dropout_prob': 0.09029554828236423, 'activation': <exercise_code.networks.layer.LeakyRelu object at 0x12f65aee0>, 'loss_func': <exercise_code.networks.loss.CrossEntropyFromLogits object at 0x12f657580>}\n",
      "(Epoch 1 / 20) train loss: 2.302589; val loss: 2.302589\n",
      "(Epoch 2 / 20) train loss: 2.302609; val loss: 2.302494\n",
      "(Epoch 3 / 20) train loss: 2.302370; val loss: 2.302434\n",
      "(Epoch 4 / 20) train loss: 2.302166; val loss: 2.302351\n",
      "(Epoch 5 / 20) train loss: 2.236548; val loss: 2.152443\n",
      "(Epoch 6 / 20) train loss: 2.087018; val loss: 2.085549\n",
      "(Epoch 7 / 20) train loss: 1.998738; val loss: 1.894724\n",
      "(Epoch 8 / 20) train loss: 1.874706; val loss: 1.880172\n",
      "(Epoch 9 / 20) train loss: 1.724824; val loss: 1.847646\n",
      "(Epoch 10 / 20) train loss: 1.627345; val loss: 1.943198\n",
      "(Epoch 11 / 20) train loss: 1.485898; val loss: 2.016948\n",
      "(Epoch 12 / 20) train loss: 1.373827; val loss: 1.921655\n",
      "(Epoch 13 / 20) train loss: 1.228598; val loss: 2.096928\n"
     ]
    },
    {
     "name": "stdout",
     "output_type": "stream",
     "text": [
      "(Epoch 14 / 20) train loss: 1.132207; val loss: 2.247597\n",
      "Stopping early at epoch 13!\n",
      "\n",
      "Evaluating Config #46 [of 100]:\n",
      " {'learning_rate': 0.0002117450801875004, 'reg': 1.5687223812078527e-05, 'hidden_size': 220, 'num_layer': 3, 'dropout_prob': 0.061951700109778844, 'activation': <exercise_code.networks.layer.LeakyRelu object at 0x12f65aee0>, 'loss_func': <exercise_code.networks.loss.CrossEntropyFromLogits object at 0x12f657580>}\n",
      "(Epoch 1 / 20) train loss: 2.302597; val loss: 2.302597\n",
      "(Epoch 2 / 20) train loss: 2.207495; val loss: 2.101244\n",
      "(Epoch 3 / 20) train loss: 2.048455; val loss: 1.966144\n",
      "(Epoch 4 / 20) train loss: 1.898986; val loss: 1.899782\n",
      "(Epoch 5 / 20) train loss: 1.762824; val loss: 1.808000\n",
      "(Epoch 6 / 20) train loss: 1.637196; val loss: 1.871410\n",
      "(Epoch 7 / 20) train loss: 1.523278; val loss: 1.881714\n",
      "(Epoch 8 / 20) train loss: 1.401757; val loss: 1.947700\n",
      "(Epoch 9 / 20) train loss: 1.285181; val loss: 2.018097\n",
      "(Epoch 10 / 20) train loss: 1.152811; val loss: 2.104794\n",
      "Stopping early at epoch 9!\n",
      "\n",
      "Evaluating Config #47 [of 100]:\n",
      " {'learning_rate': 0.0006001003687180845, 'reg': 3.088806818750119e-05, 'hidden_size': 318, 'num_layer': 3, 'dropout_prob': 0.05911697244963572, 'activation': <exercise_code.networks.layer.LeakyRelu object at 0x12f65aee0>, 'loss_func': <exercise_code.networks.loss.CrossEntropyFromLogits object at 0x12f657580>}\n",
      "(Epoch 1 / 20) train loss: 2.302619; val loss: 2.302618\n",
      "(Epoch 2 / 20) train loss: 2.175039; val loss: 1.933600\n",
      "(Epoch 3 / 20) train loss: 1.984277; val loss: 1.918240\n",
      "(Epoch 4 / 20) train loss: 1.796839; val loss: 1.947316\n",
      "(Epoch 5 / 20) train loss: 1.641009; val loss: 2.043213\n",
      "(Epoch 6 / 20) train loss: 1.499408; val loss: 1.934709\n",
      "(Epoch 7 / 20) train loss: 1.319132; val loss: 1.976760\n",
      "(Epoch 8 / 20) train loss: 1.160001; val loss: 2.275761\n",
      "Stopping early at epoch 7!\n",
      "\n",
      "Evaluating Config #48 [of 100]:\n",
      " {'learning_rate': 0.001752485188983734, 'reg': 2.0248734393160833e-05, 'hidden_size': 282, 'num_layer': 3, 'dropout_prob': 0.08506948268753287, 'activation': <exercise_code.networks.layer.LeakyRelu object at 0x12f65aee0>, 'loss_func': <exercise_code.networks.loss.CrossEntropyFromLogits object at 0x12f657580>}\n",
      "(Epoch 1 / 20) train loss: 2.302604; val loss: 2.302604\n",
      "(Epoch 2 / 20) train loss: 2.293444; val loss: 2.225978\n",
      "(Epoch 3 / 20) train loss: 2.174050; val loss: 2.492624\n",
      "(Epoch 4 / 20) train loss: 2.140486; val loss: 2.113464\n",
      "(Epoch 5 / 20) train loss: 2.052248; val loss: 2.414377\n",
      "(Epoch 6 / 20) train loss: 1.971084; val loss: 1.982524\n",
      "(Epoch 7 / 20) train loss: 1.853426; val loss: 2.532277\n",
      "(Epoch 8 / 20) train loss: 1.880836; val loss: 2.774286\n",
      "(Epoch 9 / 20) train loss: 1.795488; val loss: 2.476467\n",
      "(Epoch 10 / 20) train loss: 1.609454; val loss: 2.252689\n",
      "(Epoch 11 / 20) train loss: 1.567831; val loss: 3.373178\n",
      "Stopping early at epoch 10!\n",
      "\n",
      "Evaluating Config #49 [of 100]:\n",
      " {'learning_rate': 0.01998018713659436, 'reg': 6.928835464775332e-07, 'hidden_size': 403, 'num_layer': 5, 'dropout_prob': 0.09740068268808602, 'activation': <exercise_code.networks.layer.LeakyRelu object at 0x12f65aee0>, 'loss_func': <exercise_code.networks.loss.CrossEntropyFromLogits object at 0x12f657580>}\n",
      "(Epoch 1 / 20) train loss: 2.302586; val loss: 2.302586\n",
      "(Epoch 2 / 20) train loss: nan; val loss: nan\n",
      "(Epoch 3 / 20) train loss: nan; val loss: nan\n",
      "(Epoch 4 / 20) train loss: nan; val loss: nan\n",
      "(Epoch 5 / 20) train loss: nan; val loss: nan\n",
      "(Epoch 6 / 20) train loss: nan; val loss: nan\n",
      "Stopping early at epoch 5!\n",
      "\n",
      "Evaluating Config #50 [of 100]:\n",
      " {'learning_rate': 0.000743689318563993, 'reg': 3.350133846281644e-06, 'hidden_size': 519, 'num_layer': 4, 'dropout_prob': 0.05135071787671595, 'activation': <exercise_code.networks.layer.LeakyRelu object at 0x12f65aee0>, 'loss_func': <exercise_code.networks.loss.CrossEntropyFromLogits object at 0x12f657580>}\n",
      "(Epoch 1 / 20) train loss: 2.302592; val loss: 2.302592\n",
      "(Epoch 2 / 20) train loss: 2.302679; val loss: 2.302313\n",
      "(Epoch 3 / 20) train loss: 2.325910; val loss: 2.249834\n",
      "(Epoch 4 / 20) train loss: 2.270384; val loss: 2.164905\n",
      "(Epoch 5 / 20) train loss: 2.062024; val loss: 2.095609\n",
      "(Epoch 6 / 20) train loss: 1.923542; val loss: 1.864224\n",
      "(Epoch 7 / 20) train loss: 1.787578; val loss: 1.722866\n",
      "(Epoch 8 / 20) train loss: 1.714692; val loss: 1.860776\n",
      "(Epoch 9 / 20) train loss: 1.578859; val loss: 2.167145\n",
      "(Epoch 10 / 20) train loss: 1.475106; val loss: 2.097919\n",
      "(Epoch 11 / 20) train loss: 1.298217; val loss: 2.780962\n",
      "(Epoch 12 / 20) train loss: 1.204825; val loss: 2.388619\n",
      "Stopping early at epoch 11!\n",
      "\n",
      "Evaluating Config #51 [of 100]:\n",
      " {'learning_rate': 0.004716894318208568, 'reg': 1.4604424433908927e-05, 'hidden_size': 476, 'num_layer': 5, 'dropout_prob': 0.024007115141871063, 'activation': <exercise_code.networks.layer.LeakyRelu object at 0x12f65aee0>, 'loss_func': <exercise_code.networks.loss.CrossEntropyFromLogits object at 0x12f657580>}\n",
      "(Epoch 1 / 20) train loss: 2.302616; val loss: 2.302616\n",
      "(Epoch 2 / 20) train loss: 2.306693; val loss: 2.302605\n",
      "(Epoch 3 / 20) train loss: nan; val loss: 16.235641\n",
      "(Epoch 4 / 20) train loss: 10.957826; val loss: 7.859967\n",
      "(Epoch 5 / 20) train loss: 6.875578; val loss: 4.776388\n",
      "(Epoch 6 / 20) train loss: 3.953700; val loss: 3.953922\n",
      "(Epoch 7 / 20) train loss: 3.400220; val loss: 3.675756\n",
      "Stopping early at epoch 6!\n",
      "\n",
      "Evaluating Config #52 [of 100]:\n",
      " {'learning_rate': 0.01018171770500455, 'reg': 5.831133848845219e-07, 'hidden_size': 541, 'num_layer': 3, 'dropout_prob': 0.0751839721482169, 'activation': <exercise_code.networks.layer.LeakyRelu object at 0x12f65aee0>, 'loss_func': <exercise_code.networks.loss.CrossEntropyFromLogits object at 0x12f657580>}\n",
      "(Epoch 1 / 20) train loss: 2.302587; val loss: 2.302586\n",
      "(Epoch 2 / 20) train loss: nan; val loss: nan\n",
      "(Epoch 3 / 20) train loss: nan; val loss: nan\n",
      "(Epoch 4 / 20) train loss: nan; val loss: nan\n",
      "(Epoch 5 / 20) train loss: nan; val loss: nan\n",
      "(Epoch 6 / 20) train loss: nan; val loss: nan\n",
      "Stopping early at epoch 5!\n",
      "\n",
      "Evaluating Config #53 [of 100]:\n",
      " {'learning_rate': 0.015022643050576755, 'reg': 1.1440571522278954e-07, 'hidden_size': 224, 'num_layer': 4, 'dropout_prob': 0.07410962051814025, 'activation': <exercise_code.networks.layer.LeakyRelu object at 0x12f65aee0>, 'loss_func': <exercise_code.networks.loss.CrossEntropyFromLogits object at 0x12f657580>}\n",
      "(Epoch 1 / 20) train loss: 2.302585; val loss: 2.302585\n",
      "(Epoch 2 / 20) train loss: nan; val loss: 73.280202\n",
      "(Epoch 3 / 20) train loss: nan; val loss: nan\n",
      "(Epoch 4 / 20) train loss: nan; val loss: nan\n",
      "(Epoch 5 / 20) train loss: nan; val loss: nan\n",
      "(Epoch 6 / 20) train loss: nan; val loss: nan\n",
      "Stopping early at epoch 5!\n",
      "\n",
      "Evaluating Config #54 [of 100]:\n",
      " {'learning_rate': 0.00015547372023931255, 'reg': 1.3640974796904166e-06, 'hidden_size': 256, 'num_layer': 3, 'dropout_prob': 0.03600708762710482, 'activation': <exercise_code.networks.layer.LeakyRelu object at 0x12f65aee0>, 'loss_func': <exercise_code.networks.loss.CrossEntropyFromLogits object at 0x12f657580>}\n",
      "(Epoch 1 / 20) train loss: 2.302586; val loss: 2.302586\n",
      "(Epoch 2 / 20) train loss: 2.217097; val loss: 2.067511\n",
      "(Epoch 3 / 20) train loss: 2.047729; val loss: 1.969089\n",
      "(Epoch 4 / 20) train loss: 1.892229; val loss: 1.857714\n",
      "(Epoch 5 / 20) train loss: 1.779642; val loss: 1.850967\n",
      "(Epoch 6 / 20) train loss: 1.659641; val loss: 1.860896\n",
      "(Epoch 7 / 20) train loss: 1.536455; val loss: 2.067041\n",
      "(Epoch 8 / 20) train loss: 1.445291; val loss: 1.978855\n",
      "(Epoch 9 / 20) train loss: 1.337187; val loss: 1.996303\n",
      "(Epoch 10 / 20) train loss: 1.249120; val loss: 2.071856\n",
      "Stopping early at epoch 9!\n",
      "\n",
      "Evaluating Config #55 [of 100]:\n",
      " {'learning_rate': 0.012831359303326824, 'reg': 9.02430850815274e-05, 'hidden_size': 517, 'num_layer': 4, 'dropout_prob': 0.03839254789207296, 'activation': <exercise_code.networks.layer.LeakyRelu object at 0x12f65aee0>, 'loss_func': <exercise_code.networks.loss.CrossEntropyFromLogits object at 0x12f657580>}\n",
      "(Epoch 1 / 20) train loss: 2.302777; val loss: 2.302777\n",
      "(Epoch 2 / 20) train loss: nan; val loss: nan\n",
      "(Epoch 3 / 20) train loss: nan; val loss: nan\n",
      "(Epoch 4 / 20) train loss: nan; val loss: nan\n",
      "(Epoch 5 / 20) train loss: nan; val loss: nan\n",
      "(Epoch 6 / 20) train loss: nan; val loss: nan\n",
      "Stopping early at epoch 5!\n",
      "\n",
      "Evaluating Config #56 [of 100]:\n",
      " {'learning_rate': 0.004916402264052986, 'reg': 1.0400726375136481e-06, 'hidden_size': 416, 'num_layer': 5, 'dropout_prob': 0.033020375988065474, 'activation': <exercise_code.networks.layer.LeakyRelu object at 0x12f65aee0>, 'loss_func': <exercise_code.networks.loss.CrossEntropyFromLogits object at 0x12f657580>}\n"
     ]
    },
    {
     "name": "stdout",
     "output_type": "stream",
     "text": [
      "(Epoch 1 / 20) train loss: 2.302587; val loss: 2.302587\n",
      "(Epoch 2 / 20) train loss: nan; val loss: 86.644954\n",
      "(Epoch 3 / 20) train loss: nan; val loss: nan\n",
      "(Epoch 4 / 20) train loss: nan; val loss: 18.391116\n",
      "(Epoch 5 / 20) train loss: nan; val loss: nan\n",
      "(Epoch 6 / 20) train loss: nan; val loss: 23.546388\n",
      "Stopping early at epoch 5!\n",
      "\n",
      "Evaluating Config #57 [of 100]:\n",
      " {'learning_rate': 0.015545146963295292, 'reg': 1.2853858277349332e-06, 'hidden_size': 380, 'num_layer': 3, 'dropout_prob': 0.07469776378653456, 'activation': <exercise_code.networks.layer.LeakyRelu object at 0x12f65aee0>, 'loss_func': <exercise_code.networks.loss.CrossEntropyFromLogits object at 0x12f657580>}\n",
      "(Epoch 1 / 20) train loss: 2.302587; val loss: 2.302588\n",
      "(Epoch 2 / 20) train loss: nan; val loss: nan\n",
      "(Epoch 3 / 20) train loss: nan; val loss: nan\n",
      "(Epoch 4 / 20) train loss: nan; val loss: nan\n",
      "(Epoch 5 / 20) train loss: nan; val loss: nan\n",
      "(Epoch 6 / 20) train loss: nan; val loss: nan\n",
      "Stopping early at epoch 5!\n",
      "\n",
      "Evaluating Config #58 [of 100]:\n",
      " {'learning_rate': 0.0003319122049857139, 'reg': 9.637707508855105e-05, 'hidden_size': 307, 'num_layer': 4, 'dropout_prob': 0.08842415915137808, 'activation': <exercise_code.networks.layer.LeakyRelu object at 0x12f65aee0>, 'loss_func': <exercise_code.networks.loss.CrossEntropyFromLogits object at 0x12f657580>}\n",
      "(Epoch 1 / 20) train loss: 2.302695; val loss: 2.302695\n",
      "(Epoch 2 / 20) train loss: 2.302786; val loss: 2.302557\n",
      "(Epoch 3 / 20) train loss: 2.302367; val loss: 2.302483\n",
      "(Epoch 4 / 20) train loss: 2.302088; val loss: 2.302281\n",
      "(Epoch 5 / 20) train loss: 2.258597; val loss: 2.054895\n",
      "(Epoch 6 / 20) train loss: 2.145621; val loss: 1.974002\n",
      "(Epoch 7 / 20) train loss: 1.950304; val loss: 1.874263\n",
      "(Epoch 8 / 20) train loss: 1.828782; val loss: 1.863634\n",
      "(Epoch 9 / 20) train loss: 1.691386; val loss: 1.849143\n",
      "(Epoch 10 / 20) train loss: 1.559583; val loss: 2.009006\n",
      "(Epoch 11 / 20) train loss: 1.443959; val loss: 2.230902\n",
      "(Epoch 12 / 20) train loss: 1.297483; val loss: 2.069980\n",
      "(Epoch 13 / 20) train loss: 1.202498; val loss: 2.376577\n",
      "(Epoch 14 / 20) train loss: 1.067194; val loss: 2.443858\n",
      "Stopping early at epoch 13!\n",
      "\n",
      "Evaluating Config #59 [of 100]:\n",
      " {'learning_rate': 6.442052229886492e-05, 'reg': 3.8422027592446687e-07, 'hidden_size': 446, 'num_layer': 5, 'dropout_prob': 0.0693159720668891, 'activation': <exercise_code.networks.layer.LeakyRelu object at 0x12f65aee0>, 'loss_func': <exercise_code.networks.loss.CrossEntropyFromLogits object at 0x12f657580>}\n",
      "(Epoch 1 / 20) train loss: 2.302586; val loss: 2.302586\n",
      "(Epoch 2 / 20) train loss: 2.302589; val loss: 2.302574\n",
      "(Epoch 3 / 20) train loss: 2.302515; val loss: 2.302560\n",
      "(Epoch 4 / 20) train loss: 2.302433; val loss: 2.302533\n",
      "(Epoch 5 / 20) train loss: 2.302328; val loss: 2.302512\n",
      "(Epoch 6 / 20) train loss: 2.302205; val loss: 2.302513\n",
      "(Epoch 7 / 20) train loss: 2.302052; val loss: 2.302479\n",
      "(Epoch 8 / 20) train loss: 2.301869; val loss: 2.302430\n",
      "(Epoch 9 / 20) train loss: 2.301655; val loss: 2.302339\n",
      "(Epoch 10 / 20) train loss: 2.301444; val loss: 2.302475\n",
      "(Epoch 11 / 20) train loss: 2.301204; val loss: 2.302378\n",
      "(Epoch 12 / 20) train loss: 2.301025; val loss: 2.302326\n",
      "(Epoch 13 / 20) train loss: 2.300818; val loss: 2.302405\n",
      "(Epoch 14 / 20) train loss: 2.300548; val loss: 2.302605\n",
      "(Epoch 15 / 20) train loss: 2.300387; val loss: 2.302560\n",
      "(Epoch 16 / 20) train loss: 2.300222; val loss: 2.302495\n",
      "(Epoch 17 / 20) train loss: 2.300062; val loss: 2.302641\n",
      "Stopping early at epoch 16!\n",
      "\n",
      "Evaluating Config #60 [of 100]:\n",
      " {'learning_rate': 0.007159102742512668, 'reg': 1.1067350102882076e-07, 'hidden_size': 278, 'num_layer': 3, 'dropout_prob': 0.08596329569401481, 'activation': <exercise_code.networks.layer.LeakyRelu object at 0x12f65aee0>, 'loss_func': <exercise_code.networks.loss.CrossEntropyFromLogits object at 0x12f657580>}\n",
      "(Epoch 1 / 20) train loss: 2.302585; val loss: 2.302585\n",
      "(Epoch 2 / 20) train loss: 9.150489; val loss: 9.741567\n",
      "(Epoch 3 / 20) train loss: 18.740351; val loss: 35.341985\n",
      "(Epoch 4 / 20) train loss: 25.658212; val loss: 32.374218\n",
      "(Epoch 5 / 20) train loss: 28.253390; val loss: 30.841806\n",
      "(Epoch 6 / 20) train loss: 38.021342; val loss: 38.418317\n",
      "Stopping early at epoch 5!\n",
      "\n",
      "Evaluating Config #61 [of 100]:\n",
      " {'learning_rate': 0.0014521589877625933, 'reg': 2.6402926807733475e-07, 'hidden_size': 261, 'num_layer': 3, 'dropout_prob': 0.017331365303925907, 'activation': <exercise_code.networks.layer.LeakyRelu object at 0x12f65aee0>, 'loss_func': <exercise_code.networks.loss.CrossEntropyFromLogits object at 0x12f657580>}\n",
      "(Epoch 1 / 20) train loss: 2.302585; val loss: 2.302585\n",
      "(Epoch 2 / 20) train loss: 2.252566; val loss: 2.485587\n",
      "(Epoch 3 / 20) train loss: 2.121549; val loss: 1.904820\n",
      "(Epoch 4 / 20) train loss: 1.944765; val loss: 2.034785\n",
      "(Epoch 5 / 20) train loss: 1.907121; val loss: 2.197761\n",
      "(Epoch 6 / 20) train loss: 1.709810; val loss: 2.505389\n",
      "(Epoch 7 / 20) train loss: 1.633177; val loss: 2.750209\n",
      "(Epoch 8 / 20) train loss: 1.431038; val loss: 2.559969\n",
      "Stopping early at epoch 7!\n",
      "\n",
      "Evaluating Config #62 [of 100]:\n",
      " {'learning_rate': 0.0026449646190982072, 'reg': 5.111864199409299e-07, 'hidden_size': 266, 'num_layer': 5, 'dropout_prob': 0.07732229584926978, 'activation': <exercise_code.networks.layer.LeakyRelu object at 0x12f65aee0>, 'loss_func': <exercise_code.networks.loss.CrossEntropyFromLogits object at 0x12f657580>}\n",
      "(Epoch 1 / 20) train loss: 2.302586; val loss: 2.302586\n",
      "(Epoch 2 / 20) train loss: 2.304375; val loss: 2.304913\n",
      "(Epoch 3 / 20) train loss: 2.303133; val loss: 2.300837\n",
      "(Epoch 4 / 20) train loss: 5.060923; val loss: 6.738438\n",
      "(Epoch 5 / 20) train loss: 3.690134; val loss: 2.434362\n",
      "(Epoch 6 / 20) train loss: 2.483186; val loss: 2.512932\n",
      "(Epoch 7 / 20) train loss: 2.345028; val loss: 2.188339\n",
      "(Epoch 8 / 20) train loss: 2.202672; val loss: 2.101332\n",
      "(Epoch 9 / 20) train loss: 2.218530; val loss: 2.162694\n",
      "(Epoch 10 / 20) train loss: 2.180208; val loss: 2.003233\n",
      "(Epoch 11 / 20) train loss: 2.655717; val loss: 2.425170\n",
      "(Epoch 12 / 20) train loss: 4.092349; val loss: 4.345975\n",
      "(Epoch 13 / 20) train loss: 4.598885; val loss: 3.649093\n",
      "(Epoch 14 / 20) train loss: 2.898092; val loss: 2.601600\n",
      "(Epoch 15 / 20) train loss: 2.467458; val loss: 2.211136\n",
      "Stopping early at epoch 14!\n",
      "\n",
      "Evaluating Config #63 [of 100]:\n",
      " {'learning_rate': 0.00011313966028803317, 'reg': 1.6288069025508193e-05, 'hidden_size': 375, 'num_layer': 3, 'dropout_prob': 0.08483754447362878, 'activation': <exercise_code.networks.layer.LeakyRelu object at 0x12f65aee0>, 'loss_func': <exercise_code.networks.loss.CrossEntropyFromLogits object at 0x12f657580>}\n",
      "(Epoch 1 / 20) train loss: 2.302606; val loss: 2.302605\n",
      "(Epoch 2 / 20) train loss: 2.231044; val loss: 2.044966\n",
      "(Epoch 3 / 20) train loss: 2.049502; val loss: 1.930070\n",
      "(Epoch 4 / 20) train loss: 1.901471; val loss: 1.907011\n",
      "(Epoch 5 / 20) train loss: 1.790414; val loss: 1.822227\n",
      "(Epoch 6 / 20) train loss: 1.686379; val loss: 1.910922\n",
      "(Epoch 7 / 20) train loss: 1.618809; val loss: 1.780403\n",
      "(Epoch 8 / 20) train loss: 1.519821; val loss: 1.844303\n",
      "(Epoch 9 / 20) train loss: 1.431852; val loss: 1.818641\n",
      "(Epoch 10 / 20) train loss: 1.343917; val loss: 1.861460\n",
      "(Epoch 11 / 20) train loss: 1.242833; val loss: 2.063699\n",
      "(Epoch 12 / 20) train loss: 1.146522; val loss: 2.058163\n",
      "Stopping early at epoch 11!\n",
      "\n",
      "Evaluating Config #64 [of 100]:\n",
      " {'learning_rate': 0.00047417559171623327, 'reg': 1.1680458081614441e-05, 'hidden_size': 383, 'num_layer': 5, 'dropout_prob': 0.010909215337333822, 'activation': <exercise_code.networks.layer.LeakyRelu object at 0x12f65aee0>, 'loss_func': <exercise_code.networks.loss.CrossEntropyFromLogits object at 0x12f657580>}\n",
      "(Epoch 1 / 20) train loss: 2.302604; val loss: 2.302604\n",
      "(Epoch 2 / 20) train loss: 2.302676; val loss: 2.302517\n",
      "(Epoch 3 / 20) train loss: 2.302189; val loss: 2.302557\n",
      "(Epoch 4 / 20) train loss: 2.301723; val loss: 2.302466\n",
      "(Epoch 5 / 20) train loss: 2.301281; val loss: 2.302679\n",
      "(Epoch 6 / 20) train loss: 2.301141; val loss: 2.303138\n",
      "(Epoch 7 / 20) train loss: 2.300620; val loss: 2.302949\n",
      "(Epoch 8 / 20) train loss: 2.300469; val loss: 2.303296\n",
      "(Epoch 9 / 20) train loss: 2.267725; val loss: 2.190811\n",
      "(Epoch 10 / 20) train loss: 2.136478; val loss: 2.141920\n"
     ]
    },
    {
     "name": "stdout",
     "output_type": "stream",
     "text": [
      "(Epoch 11 / 20) train loss: 2.049432; val loss: 1.986796\n",
      "(Epoch 12 / 20) train loss: 1.975977; val loss: 1.908820\n",
      "(Epoch 13 / 20) train loss: 1.867273; val loss: 1.901738\n",
      "(Epoch 14 / 20) train loss: 1.760069; val loss: 1.923132\n",
      "(Epoch 15 / 20) train loss: 1.661112; val loss: 1.910283\n",
      "(Epoch 16 / 20) train loss: 1.558133; val loss: 2.175959\n",
      "(Epoch 17 / 20) train loss: 1.485068; val loss: 2.120866\n",
      "(Epoch 18 / 20) train loss: 1.380874; val loss: 1.974683\n",
      "Stopping early at epoch 17!\n",
      "\n",
      "Evaluating Config #65 [of 100]:\n",
      " {'learning_rate': 0.0023879039397432028, 'reg': 5.219121597718883e-06, 'hidden_size': 238, 'num_layer': 4, 'dropout_prob': 0.059491573695657045, 'activation': <exercise_code.networks.layer.LeakyRelu object at 0x12f65aee0>, 'loss_func': <exercise_code.networks.loss.CrossEntropyFromLogits object at 0x12f657580>}\n",
      "(Epoch 1 / 20) train loss: 2.302590; val loss: 2.302590\n",
      "(Epoch 2 / 20) train loss: 2.375187; val loss: 2.986368\n",
      "(Epoch 3 / 20) train loss: 2.498795; val loss: 2.183023\n",
      "(Epoch 4 / 20) train loss: 2.234074; val loss: 1.981998\n",
      "(Epoch 5 / 20) train loss: 2.134378; val loss: 1.962796\n",
      "(Epoch 6 / 20) train loss: 2.145991; val loss: 2.486170\n",
      "(Epoch 7 / 20) train loss: 2.338616; val loss: 2.515034\n",
      "(Epoch 8 / 20) train loss: 2.215217; val loss: 2.248252\n",
      "(Epoch 9 / 20) train loss: 2.281988; val loss: 3.003565\n",
      "(Epoch 10 / 20) train loss: 2.263706; val loss: 2.657012\n",
      "Stopping early at epoch 9!\n",
      "\n",
      "Evaluating Config #66 [of 100]:\n",
      " {'learning_rate': 0.02887185037967972, 'reg': 1.9388289747457262e-07, 'hidden_size': 298, 'num_layer': 4, 'dropout_prob': 0.09821143058917822, 'activation': <exercise_code.networks.layer.LeakyRelu object at 0x12f65aee0>, 'loss_func': <exercise_code.networks.loss.CrossEntropyFromLogits object at 0x12f657580>}\n",
      "(Epoch 1 / 20) train loss: 2.302585; val loss: 2.302585\n",
      "(Epoch 2 / 20) train loss: nan; val loss: nan\n",
      "(Epoch 3 / 20) train loss: nan; val loss: nan\n",
      "(Epoch 4 / 20) train loss: nan; val loss: nan\n",
      "(Epoch 5 / 20) train loss: nan; val loss: nan\n",
      "(Epoch 6 / 20) train loss: nan; val loss: nan\n",
      "Stopping early at epoch 5!\n",
      "\n",
      "Evaluating Config #67 [of 100]:\n",
      " {'learning_rate': 0.04608577806607098, 'reg': 6.613305488575197e-05, 'hidden_size': 330, 'num_layer': 5, 'dropout_prob': 0.03178010043788761, 'activation': <exercise_code.networks.layer.LeakyRelu object at 0x12f65aee0>, 'loss_func': <exercise_code.networks.loss.CrossEntropyFromLogits object at 0x12f657580>}\n",
      "(Epoch 1 / 20) train loss: 2.302674; val loss: 2.302674\n",
      "(Epoch 2 / 20) train loss: nan; val loss: nan\n",
      "(Epoch 3 / 20) train loss: nan; val loss: nan\n",
      "(Epoch 4 / 20) train loss: nan; val loss: nan\n",
      "(Epoch 5 / 20) train loss: nan; val loss: nan\n",
      "(Epoch 6 / 20) train loss: nan; val loss: nan\n",
      "Stopping early at epoch 5!\n",
      "\n",
      "Evaluating Config #68 [of 100]:\n",
      " {'learning_rate': 0.0004106920473830457, 'reg': 2.9550877874856308e-05, 'hidden_size': 209, 'num_layer': 4, 'dropout_prob': 0.004644886074933674, 'activation': <exercise_code.networks.layer.LeakyRelu object at 0x12f65aee0>, 'loss_func': <exercise_code.networks.loss.CrossEntropyFromLogits object at 0x12f657580>}\n",
      "(Epoch 1 / 20) train loss: 2.302607; val loss: 2.302607\n",
      "(Epoch 2 / 20) train loss: 2.302705; val loss: 2.302472\n",
      "(Epoch 3 / 20) train loss: 2.302283; val loss: 2.302346\n",
      "(Epoch 4 / 20) train loss: 2.226418; val loss: 2.186940\n",
      "(Epoch 5 / 20) train loss: 2.077596; val loss: 1.984883\n",
      "(Epoch 6 / 20) train loss: 1.965835; val loss: 1.876790\n",
      "(Epoch 7 / 20) train loss: 1.842162; val loss: 1.869285\n",
      "(Epoch 8 / 20) train loss: 1.713460; val loss: 1.797281\n",
      "(Epoch 9 / 20) train loss: 1.553799; val loss: 1.935259\n",
      "(Epoch 10 / 20) train loss: 1.419241; val loss: 2.106470\n",
      "(Epoch 11 / 20) train loss: 1.330646; val loss: 2.060634\n",
      "(Epoch 12 / 20) train loss: 1.170756; val loss: 2.477827\n",
      "(Epoch 13 / 20) train loss: 1.066216; val loss: 2.556708\n",
      "Stopping early at epoch 12!\n",
      "\n",
      "Evaluating Config #69 [of 100]:\n",
      " {'learning_rate': 0.017664246595008887, 'reg': 8.738750967928621e-06, 'hidden_size': 433, 'num_layer': 5, 'dropout_prob': 0.013996240866578602, 'activation': <exercise_code.networks.layer.LeakyRelu object at 0x12f65aee0>, 'loss_func': <exercise_code.networks.loss.CrossEntropyFromLogits object at 0x12f657580>}\n",
      "(Epoch 1 / 20) train loss: 2.302602; val loss: 2.302602\n",
      "(Epoch 2 / 20) train loss: nan; val loss: nan\n",
      "(Epoch 3 / 20) train loss: nan; val loss: nan\n",
      "(Epoch 4 / 20) train loss: nan; val loss: nan\n",
      "(Epoch 5 / 20) train loss: nan; val loss: nan\n",
      "(Epoch 6 / 20) train loss: nan; val loss: nan\n",
      "Stopping early at epoch 5!\n",
      "\n",
      "Evaluating Config #70 [of 100]:\n",
      " {'learning_rate': 0.009659931387763807, 'reg': 9.874092777590608e-05, 'hidden_size': 302, 'num_layer': 3, 'dropout_prob': 0.056341359101508816, 'activation': <exercise_code.networks.layer.LeakyRelu object at 0x12f65aee0>, 'loss_func': <exercise_code.networks.loss.CrossEntropyFromLogits object at 0x12f657580>}\n",
      "(Epoch 1 / 20) train loss: 2.302687; val loss: 2.302686\n",
      "(Epoch 2 / 20) train loss: 24.300084; val loss: nan\n",
      "(Epoch 3 / 20) train loss: nan; val loss: 66.833813\n",
      "(Epoch 4 / 20) train loss: nan; val loss: nan\n",
      "(Epoch 5 / 20) train loss: nan; val loss: 58.318834\n",
      "(Epoch 6 / 20) train loss: nan; val loss: 75.452405\n",
      "Stopping early at epoch 5!\n",
      "\n",
      "Evaluating Config #71 [of 100]:\n",
      " {'learning_rate': 0.0011047472134230166, 'reg': 5.197118966660172e-07, 'hidden_size': 507, 'num_layer': 4, 'dropout_prob': 0.07101961195315985, 'activation': <exercise_code.networks.layer.LeakyRelu object at 0x12f65aee0>, 'loss_func': <exercise_code.networks.loss.CrossEntropyFromLogits object at 0x12f657580>}\n",
      "(Epoch 1 / 20) train loss: 2.302586; val loss: 2.302586\n",
      "(Epoch 2 / 20) train loss: 2.302763; val loss: 2.302362\n",
      "(Epoch 3 / 20) train loss: 2.312689; val loss: 2.233707\n",
      "(Epoch 4 / 20) train loss: 2.544802; val loss: 2.228689\n",
      "(Epoch 5 / 20) train loss: 2.249193; val loss: 2.179812\n",
      "(Epoch 6 / 20) train loss: 2.120894; val loss: 2.137625\n",
      "(Epoch 7 / 20) train loss: 2.077298; val loss: 1.956783\n",
      "(Epoch 8 / 20) train loss: 1.955677; val loss: 2.107861\n",
      "(Epoch 9 / 20) train loss: 1.847610; val loss: 2.065403\n",
      "(Epoch 10 / 20) train loss: 1.763084; val loss: 1.994384\n",
      "(Epoch 11 / 20) train loss: 1.714381; val loss: 2.091210\n",
      "(Epoch 12 / 20) train loss: 1.621831; val loss: 2.206692\n",
      "Stopping early at epoch 11!\n",
      "\n",
      "Evaluating Config #72 [of 100]:\n",
      " {'learning_rate': 8.372632164985461e-05, 'reg': 1.099146239414783e-05, 'hidden_size': 458, 'num_layer': 3, 'dropout_prob': 0.0370435915499725, 'activation': <exercise_code.networks.layer.LeakyRelu object at 0x12f65aee0>, 'loss_func': <exercise_code.networks.loss.CrossEntropyFromLogits object at 0x12f657580>}\n",
      "(Epoch 1 / 20) train loss: 2.302602; val loss: 2.302602\n",
      "(Epoch 2 / 20) train loss: 2.234907; val loss: 2.068052\n",
      "(Epoch 3 / 20) train loss: 2.079255; val loss: 1.977471\n",
      "(Epoch 4 / 20) train loss: 1.950766; val loss: 1.878987\n",
      "(Epoch 5 / 20) train loss: 1.840415; val loss: 1.846486\n",
      "(Epoch 6 / 20) train loss: 1.754399; val loss: 1.795765\n",
      "(Epoch 7 / 20) train loss: 1.669857; val loss: 1.874722\n",
      "(Epoch 8 / 20) train loss: 1.582335; val loss: 1.838364\n",
      "(Epoch 9 / 20) train loss: 1.504288; val loss: 1.861834\n",
      "(Epoch 10 / 20) train loss: 1.416564; val loss: 1.912683\n",
      "(Epoch 11 / 20) train loss: 1.340270; val loss: 1.906554\n",
      "Stopping early at epoch 10!\n",
      "\n",
      "Evaluating Config #73 [of 100]:\n",
      " {'learning_rate': 0.00026582160934859265, 'reg': 5.494320351462334e-06, 'hidden_size': 438, 'num_layer': 4, 'dropout_prob': 0.00675741873425485, 'activation': <exercise_code.networks.layer.LeakyRelu object at 0x12f65aee0>, 'loss_func': <exercise_code.networks.loss.CrossEntropyFromLogits object at 0x12f657580>}\n",
      "(Epoch 1 / 20) train loss: 2.302595; val loss: 2.302595\n",
      "(Epoch 2 / 20) train loss: 2.302659; val loss: 2.302707\n",
      "(Epoch 3 / 20) train loss: 2.302354; val loss: 2.301974\n",
      "(Epoch 4 / 20) train loss: 2.207425; val loss: 2.006149\n",
      "(Epoch 5 / 20) train loss: 2.040914; val loss: 1.937590\n",
      "(Epoch 6 / 20) train loss: 1.875713; val loss: 1.881250\n",
      "(Epoch 7 / 20) train loss: 1.756242; val loss: 1.832252\n",
      "(Epoch 8 / 20) train loss: 1.637299; val loss: 1.958004\n",
      "(Epoch 9 / 20) train loss: 1.511118; val loss: 1.874972\n",
      "(Epoch 10 / 20) train loss: 1.382768; val loss: 1.939627\n",
      "(Epoch 11 / 20) train loss: 1.267015; val loss: 2.170472\n",
      "(Epoch 12 / 20) train loss: 1.067250; val loss: 2.362446\n",
      "Stopping early at epoch 11!\n",
      "\n",
      "Evaluating Config #74 [of 100]:\n",
      " {'learning_rate': 0.014261227277386018, 'reg': 3.000888947339446e-06, 'hidden_size': 373, 'num_layer': 5, 'dropout_prob': 0.006370756917610621, 'activation': <exercise_code.networks.layer.LeakyRelu object at 0x12f65aee0>, 'loss_func': <exercise_code.networks.loss.CrossEntropyFromLogits object at 0x12f657580>}\n"
     ]
    },
    {
     "name": "stdout",
     "output_type": "stream",
     "text": [
      "(Epoch 1 / 20) train loss: 2.302590; val loss: 2.302590\n",
      "(Epoch 2 / 20) train loss: nan; val loss: nan\n",
      "(Epoch 3 / 20) train loss: nan; val loss: nan\n",
      "(Epoch 4 / 20) train loss: nan; val loss: nan\n",
      "(Epoch 5 / 20) train loss: nan; val loss: nan\n",
      "(Epoch 6 / 20) train loss: nan; val loss: nan\n",
      "Stopping early at epoch 5!\n",
      "\n",
      "Evaluating Config #75 [of 100]:\n",
      " {'learning_rate': 0.000129689361998642, 'reg': 3.778277439493676e-06, 'hidden_size': 200, 'num_layer': 4, 'dropout_prob': 0.028023156336620114, 'activation': <exercise_code.networks.layer.LeakyRelu object at 0x12f65aee0>, 'loss_func': <exercise_code.networks.loss.CrossEntropyFromLogits object at 0x12f657580>}\n",
      "(Epoch 1 / 20) train loss: 2.302588; val loss: 2.302588\n",
      "(Epoch 2 / 20) train loss: 2.302591; val loss: 2.302526\n",
      "(Epoch 3 / 20) train loss: 2.302441; val loss: 2.302507\n",
      "(Epoch 4 / 20) train loss: 2.302292; val loss: 2.302462\n",
      "(Epoch 5 / 20) train loss: 2.302128; val loss: 2.302401\n",
      "(Epoch 6 / 20) train loss: 2.301949; val loss: 2.302301\n",
      "(Epoch 7 / 20) train loss: 2.292654; val loss: 2.261705\n",
      "(Epoch 8 / 20) train loss: 2.147236; val loss: 2.014290\n",
      "(Epoch 9 / 20) train loss: 2.046535; val loss: 2.005937\n",
      "(Epoch 10 / 20) train loss: 1.990658; val loss: 1.937709\n",
      "(Epoch 11 / 20) train loss: 1.918582; val loss: 1.954416\n",
      "(Epoch 12 / 20) train loss: 1.820749; val loss: 1.880684\n",
      "(Epoch 13 / 20) train loss: 1.714382; val loss: 1.970428\n",
      "(Epoch 14 / 20) train loss: 1.632436; val loss: 1.995665\n",
      "(Epoch 15 / 20) train loss: 1.556388; val loss: 2.090153\n",
      "(Epoch 16 / 20) train loss: 1.460825; val loss: 2.090376\n",
      "(Epoch 17 / 20) train loss: 1.389273; val loss: 2.140294\n",
      "Stopping early at epoch 16!\n",
      "\n",
      "Evaluating Config #76 [of 100]:\n",
      " {'learning_rate': 0.0006641106718375081, 'reg': 1.680783581227544e-06, 'hidden_size': 527, 'num_layer': 4, 'dropout_prob': 0.07635751533594652, 'activation': <exercise_code.networks.layer.LeakyRelu object at 0x12f65aee0>, 'loss_func': <exercise_code.networks.loss.CrossEntropyFromLogits object at 0x12f657580>}\n",
      "(Epoch 1 / 20) train loss: 2.302589; val loss: 2.302589\n",
      "(Epoch 2 / 20) train loss: 2.298630; val loss: 2.204571\n",
      "(Epoch 3 / 20) train loss: 2.177278; val loss: 2.141650\n",
      "(Epoch 4 / 20) train loss: 2.040234; val loss: 2.008957\n",
      "(Epoch 5 / 20) train loss: 1.877602; val loss: 2.011049\n",
      "(Epoch 6 / 20) train loss: 1.820301; val loss: 2.013077\n",
      "(Epoch 7 / 20) train loss: 1.661526; val loss: 2.234039\n",
      "(Epoch 8 / 20) train loss: 1.495029; val loss: 2.012711\n",
      "(Epoch 9 / 20) train loss: 1.424554; val loss: 2.068434\n",
      "Stopping early at epoch 8!\n",
      "\n",
      "Evaluating Config #77 [of 100]:\n",
      " {'learning_rate': 0.00045803956692809733, 'reg': 2.6555370218519584e-07, 'hidden_size': 332, 'num_layer': 3, 'dropout_prob': 0.057462006782205394, 'activation': <exercise_code.networks.layer.LeakyRelu object at 0x12f65aee0>, 'loss_func': <exercise_code.networks.loss.CrossEntropyFromLogits object at 0x12f657580>}\n",
      "(Epoch 1 / 20) train loss: 2.302586; val loss: 2.302586\n",
      "(Epoch 2 / 20) train loss: 2.185135; val loss: 1.915100\n",
      "(Epoch 3 / 20) train loss: 1.944597; val loss: 1.811432\n",
      "(Epoch 4 / 20) train loss: 1.765473; val loss: 1.943984\n",
      "(Epoch 5 / 20) train loss: 1.613435; val loss: 1.868064\n",
      "(Epoch 6 / 20) train loss: 1.455821; val loss: 1.905733\n",
      "(Epoch 7 / 20) train loss: 1.278383; val loss: 1.997430\n",
      "(Epoch 8 / 20) train loss: 1.136895; val loss: 2.199002\n",
      "Stopping early at epoch 7!\n",
      "\n",
      "Evaluating Config #78 [of 100]:\n",
      " {'learning_rate': 0.00013264488679157261, 'reg': 1.2173800777622623e-05, 'hidden_size': 365, 'num_layer': 3, 'dropout_prob': 0.01741257470556461, 'activation': <exercise_code.networks.layer.LeakyRelu object at 0x12f65aee0>, 'loss_func': <exercise_code.networks.loss.CrossEntropyFromLogits object at 0x12f657580>}\n",
      "(Epoch 1 / 20) train loss: 2.302601; val loss: 2.302601\n",
      "(Epoch 2 / 20) train loss: 2.221632; val loss: 2.030608\n",
      "(Epoch 3 / 20) train loss: 2.034406; val loss: 2.048149\n",
      "(Epoch 4 / 20) train loss: 1.899496; val loss: 1.838276\n",
      "(Epoch 5 / 20) train loss: 1.775682; val loss: 1.845512\n",
      "(Epoch 6 / 20) train loss: 1.672071; val loss: 1.875208\n",
      "(Epoch 7 / 20) train loss: 1.562184; val loss: 1.881680\n",
      "(Epoch 8 / 20) train loss: 1.438242; val loss: 1.904686\n",
      "(Epoch 9 / 20) train loss: 1.334323; val loss: 2.079120\n",
      "Stopping early at epoch 8!\n",
      "\n",
      "Evaluating Config #79 [of 100]:\n",
      " {'learning_rate': 0.0057039518200036375, 'reg': 1.784303554785119e-05, 'hidden_size': 302, 'num_layer': 5, 'dropout_prob': 0.04505056290958912, 'activation': <exercise_code.networks.layer.LeakyRelu object at 0x12f65aee0>, 'loss_func': <exercise_code.networks.loss.CrossEntropyFromLogits object at 0x12f657580>}\n",
      "(Epoch 1 / 20) train loss: 2.302607; val loss: 2.302607\n",
      "(Epoch 2 / 20) train loss: nan; val loss: 15.847460\n",
      "(Epoch 3 / 20) train loss: 11.958347; val loss: 2.879771\n",
      "(Epoch 4 / 20) train loss: 3.673953; val loss: 3.100466\n",
      "(Epoch 5 / 20) train loss: 3.763449; val loss: 2.916429\n",
      "(Epoch 6 / 20) train loss: 3.110841; val loss: 2.947022\n",
      "Stopping early at epoch 5!\n",
      "\n",
      "Evaluating Config #80 [of 100]:\n",
      " {'learning_rate': 0.03246910272280376, 'reg': 2.0024792608956912e-05, 'hidden_size': 326, 'num_layer': 4, 'dropout_prob': 0.07334402286863748, 'activation': <exercise_code.networks.layer.LeakyRelu object at 0x12f65aee0>, 'loss_func': <exercise_code.networks.loss.CrossEntropyFromLogits object at 0x12f657580>}\n",
      "(Epoch 1 / 20) train loss: 2.302609; val loss: 2.302609\n",
      "(Epoch 2 / 20) train loss: nan; val loss: nan\n",
      "(Epoch 3 / 20) train loss: nan; val loss: nan\n",
      "(Epoch 4 / 20) train loss: nan; val loss: nan\n",
      "(Epoch 5 / 20) train loss: nan; val loss: nan\n",
      "(Epoch 6 / 20) train loss: nan; val loss: nan\n",
      "Stopping early at epoch 5!\n",
      "\n",
      "Evaluating Config #81 [of 100]:\n",
      " {'learning_rate': 0.022053856325547815, 'reg': 3.056832559193657e-05, 'hidden_size': 347, 'num_layer': 4, 'dropout_prob': 0.05615032535690015, 'activation': <exercise_code.networks.layer.LeakyRelu object at 0x12f65aee0>, 'loss_func': <exercise_code.networks.loss.CrossEntropyFromLogits object at 0x12f657580>}\n",
      "(Epoch 1 / 20) train loss: 2.302625; val loss: 2.302625\n",
      "(Epoch 2 / 20) train loss: nan; val loss: nan\n",
      "(Epoch 3 / 20) train loss: nan; val loss: nan\n",
      "(Epoch 4 / 20) train loss: nan; val loss: nan\n",
      "(Epoch 5 / 20) train loss: nan; val loss: nan\n",
      "(Epoch 6 / 20) train loss: nan; val loss: nan\n",
      "Stopping early at epoch 5!\n",
      "\n",
      "Evaluating Config #82 [of 100]:\n",
      " {'learning_rate': 0.0005045733545509306, 'reg': 1.8043739469396618e-05, 'hidden_size': 464, 'num_layer': 4, 'dropout_prob': 0.011145532198928955, 'activation': <exercise_code.networks.layer.LeakyRelu object at 0x12f65aee0>, 'loss_func': <exercise_code.networks.loss.CrossEntropyFromLogits object at 0x12f657580>}\n",
      "(Epoch 1 / 20) train loss: 2.302619; val loss: 2.302619\n",
      "(Epoch 2 / 20) train loss: 2.303069; val loss: 2.302380\n",
      "(Epoch 3 / 20) train loss: 2.289568; val loss: 2.138175\n",
      "(Epoch 4 / 20) train loss: 2.117090; val loss: 1.946994\n",
      "(Epoch 5 / 20) train loss: 1.978406; val loss: 1.906557\n",
      "(Epoch 6 / 20) train loss: 1.837634; val loss: 2.050626\n",
      "(Epoch 7 / 20) train loss: 1.741788; val loss: 1.895453\n",
      "(Epoch 8 / 20) train loss: 1.556982; val loss: 2.058503\n",
      "(Epoch 9 / 20) train loss: 1.430961; val loss: 2.047932\n",
      "(Epoch 10 / 20) train loss: 1.303573; val loss: 2.544618\n",
      "(Epoch 11 / 20) train loss: 1.249651; val loss: 2.272986\n",
      "(Epoch 12 / 20) train loss: 0.972865; val loss: 2.692085\n",
      "Stopping early at epoch 11!\n",
      "\n",
      "Evaluating Config #83 [of 100]:\n",
      " {'learning_rate': 0.00046000084223848524, 'reg': 1.534522572920202e-07, 'hidden_size': 212, 'num_layer': 3, 'dropout_prob': 0.0817155456893557, 'activation': <exercise_code.networks.layer.LeakyRelu object at 0x12f65aee0>, 'loss_func': <exercise_code.networks.loss.CrossEntropyFromLogits object at 0x12f657580>}\n",
      "(Epoch 1 / 20) train loss: 2.302585; val loss: 2.302585\n",
      "(Epoch 2 / 20) train loss: 2.180561; val loss: 2.027085\n",
      "(Epoch 3 / 20) train loss: 1.956050; val loss: 1.853707\n",
      "(Epoch 4 / 20) train loss: 1.809747; val loss: 1.893543\n",
      "(Epoch 5 / 20) train loss: 1.642702; val loss: 1.910932\n",
      "(Epoch 6 / 20) train loss: 1.535377; val loss: 1.892995\n",
      "(Epoch 7 / 20) train loss: 1.389477; val loss: 2.050245\n",
      "(Epoch 8 / 20) train loss: 1.245695; val loss: 2.144767\n",
      "Stopping early at epoch 7!\n",
      "\n",
      "Evaluating Config #84 [of 100]:\n",
      " {'learning_rate': 0.014814238720271952, 'reg': 6.446122058511756e-07, 'hidden_size': 567, 'num_layer': 3, 'dropout_prob': 0.01616808197478149, 'activation': <exercise_code.networks.layer.LeakyRelu object at 0x12f65aee0>, 'loss_func': <exercise_code.networks.loss.CrossEntropyFromLogits object at 0x12f657580>}\n"
     ]
    },
    {
     "name": "stdout",
     "output_type": "stream",
     "text": [
      "(Epoch 1 / 20) train loss: 2.302586; val loss: 2.302587\n",
      "(Epoch 2 / 20) train loss: nan; val loss: nan\n",
      "(Epoch 3 / 20) train loss: nan; val loss: nan\n",
      "(Epoch 4 / 20) train loss: nan; val loss: nan\n",
      "(Epoch 5 / 20) train loss: nan; val loss: nan\n",
      "(Epoch 6 / 20) train loss: nan; val loss: nan\n",
      "Stopping early at epoch 5!\n",
      "\n",
      "Evaluating Config #85 [of 100]:\n",
      " {'learning_rate': 0.012441470291102296, 'reg': 5.58273069284145e-05, 'hidden_size': 584, 'num_layer': 5, 'dropout_prob': 0.09996336354260844, 'activation': <exercise_code.networks.layer.LeakyRelu object at 0x12f65aee0>, 'loss_func': <exercise_code.networks.loss.CrossEntropyFromLogits object at 0x12f657580>}\n",
      "(Epoch 1 / 20) train loss: 2.302743; val loss: 2.302743\n",
      "(Epoch 2 / 20) train loss: nan; val loss: nan\n",
      "(Epoch 3 / 20) train loss: nan; val loss: nan\n",
      "(Epoch 4 / 20) train loss: nan; val loss: nan\n",
      "(Epoch 5 / 20) train loss: nan; val loss: nan\n",
      "(Epoch 6 / 20) train loss: nan; val loss: nan\n",
      "Stopping early at epoch 5!\n",
      "\n",
      "Evaluating Config #86 [of 100]:\n",
      " {'learning_rate': 0.01546327261572012, 'reg': 1.7164090618430654e-05, 'hidden_size': 589, 'num_layer': 4, 'dropout_prob': 0.03628559734465697, 'activation': <exercise_code.networks.layer.LeakyRelu object at 0x12f65aee0>, 'loss_func': <exercise_code.networks.loss.CrossEntropyFromLogits object at 0x12f657580>}\n",
      "(Epoch 1 / 20) train loss: 2.302628; val loss: 2.302628\n",
      "(Epoch 2 / 20) train loss: nan; val loss: nan\n",
      "(Epoch 3 / 20) train loss: nan; val loss: nan\n",
      "(Epoch 4 / 20) train loss: nan; val loss: nan\n",
      "(Epoch 5 / 20) train loss: nan; val loss: nan\n",
      "(Epoch 6 / 20) train loss: nan; val loss: nan\n",
      "Stopping early at epoch 5!\n",
      "\n",
      "Evaluating Config #87 [of 100]:\n",
      " {'learning_rate': 0.00014218402520649952, 'reg': 2.7095160744271915e-05, 'hidden_size': 594, 'num_layer': 5, 'dropout_prob': 0.0914856019060317, 'activation': <exercise_code.networks.layer.LeakyRelu object at 0x12f65aee0>, 'loss_func': <exercise_code.networks.loss.CrossEntropyFromLogits object at 0x12f657580>}\n",
      "(Epoch 1 / 20) train loss: 2.302663; val loss: 2.302663\n",
      "(Epoch 2 / 20) train loss: 2.302678; val loss: 2.302615\n",
      "(Epoch 3 / 20) train loss: 2.302507; val loss: 2.302531\n",
      "(Epoch 4 / 20) train loss: 2.302324; val loss: 2.302502\n",
      "(Epoch 5 / 20) train loss: 2.302022; val loss: 2.302448\n",
      "(Epoch 6 / 20) train loss: 2.301759; val loss: 2.302346\n",
      "(Epoch 7 / 20) train loss: 2.301343; val loss: 2.302433\n",
      "(Epoch 8 / 20) train loss: 2.300999; val loss: 2.302697\n",
      "(Epoch 9 / 20) train loss: 2.300692; val loss: 2.302541\n",
      "(Epoch 10 / 20) train loss: 2.300234; val loss: 2.302670\n",
      "(Epoch 11 / 20) train loss: 2.299886; val loss: 2.300560\n",
      "(Epoch 12 / 20) train loss: 2.214792; val loss: 2.049886\n",
      "(Epoch 13 / 20) train loss: 2.082779; val loss: 1.992459\n",
      "(Epoch 14 / 20) train loss: 2.016155; val loss: 1.957435\n",
      "(Epoch 15 / 20) train loss: 1.969695; val loss: 2.065222\n",
      "(Epoch 16 / 20) train loss: 1.940006; val loss: 2.029838\n",
      "(Epoch 17 / 20) train loss: 1.881204; val loss: 1.986438\n",
      "(Epoch 18 / 20) train loss: 1.819461; val loss: 1.940196\n",
      "(Epoch 19 / 20) train loss: 1.720463; val loss: 2.126882\n",
      "(Epoch 20 / 20) train loss: 1.643385; val loss: 2.320750\n",
      "\n",
      "Evaluating Config #88 [of 100]:\n",
      " {'learning_rate': 0.0006480856495300094, 'reg': 2.4460299859228183e-05, 'hidden_size': 222, 'num_layer': 4, 'dropout_prob': 0.08735428250201459, 'activation': <exercise_code.networks.layer.LeakyRelu object at 0x12f65aee0>, 'loss_func': <exercise_code.networks.loss.CrossEntropyFromLogits object at 0x12f657580>}\n",
      "(Epoch 1 / 20) train loss: 2.302604; val loss: 2.302604\n",
      "(Epoch 2 / 20) train loss: 2.302772; val loss: 2.302154\n",
      "(Epoch 3 / 20) train loss: 2.286305; val loss: 2.098960\n",
      "(Epoch 4 / 20) train loss: 2.125230; val loss: 1.990920\n",
      "(Epoch 5 / 20) train loss: 1.978799; val loss: 1.904695\n",
      "(Epoch 6 / 20) train loss: 1.819255; val loss: 1.868524\n",
      "(Epoch 7 / 20) train loss: 1.682687; val loss: 1.894028\n",
      "(Epoch 8 / 20) train loss: 1.609427; val loss: 1.993021\n",
      "(Epoch 9 / 20) train loss: 1.485443; val loss: 2.305731\n",
      "(Epoch 10 / 20) train loss: 1.342239; val loss: 2.300306\n",
      "(Epoch 11 / 20) train loss: 1.265118; val loss: 2.107410\n",
      "Stopping early at epoch 10!\n",
      "\n",
      "Evaluating Config #89 [of 100]:\n",
      " {'learning_rate': 0.001430562801609734, 'reg': 1.1460760169380267e-06, 'hidden_size': 363, 'num_layer': 5, 'dropout_prob': 0.09195252449906172, 'activation': <exercise_code.networks.layer.LeakyRelu object at 0x12f65aee0>, 'loss_func': <exercise_code.networks.loss.CrossEntropyFromLogits object at 0x12f657580>}\n",
      "(Epoch 1 / 20) train loss: 2.302587; val loss: 2.302587\n",
      "(Epoch 2 / 20) train loss: 2.303560; val loss: 2.301789\n",
      "(Epoch 3 / 20) train loss: 2.301966; val loss: 2.301555\n",
      "(Epoch 4 / 20) train loss: 2.301451; val loss: 2.302198\n",
      "(Epoch 5 / 20) train loss: 2.301826; val loss: 2.302826\n",
      "(Epoch 6 / 20) train loss: 2.301729; val loss: 2.302754\n",
      "(Epoch 7 / 20) train loss: 3.543071; val loss: 2.871490\n",
      "(Epoch 8 / 20) train loss: 2.666489; val loss: 2.243410\n",
      "(Epoch 9 / 20) train loss: 2.245096; val loss: 2.030577\n",
      "(Epoch 10 / 20) train loss: 2.245236; val loss: 2.143192\n",
      "(Epoch 11 / 20) train loss: 2.148654; val loss: 2.048681\n",
      "(Epoch 12 / 20) train loss: 2.109942; val loss: 2.390683\n",
      "(Epoch 13 / 20) train loss: 2.022396; val loss: 2.000355\n",
      "(Epoch 14 / 20) train loss: 2.080865; val loss: 1.987143\n",
      "(Epoch 15 / 20) train loss: 1.936381; val loss: 2.128758\n",
      "(Epoch 16 / 20) train loss: 1.875555; val loss: 2.069971\n",
      "(Epoch 17 / 20) train loss: 1.870422; val loss: 2.121958\n",
      "(Epoch 18 / 20) train loss: 1.973357; val loss: 2.071936\n",
      "(Epoch 19 / 20) train loss: 1.805003; val loss: 2.011017\n",
      "Stopping early at epoch 18!\n",
      "\n",
      "Evaluating Config #90 [of 100]:\n",
      " {'learning_rate': 0.0003564788230338154, 'reg': 3.3974613912480975e-06, 'hidden_size': 561, 'num_layer': 3, 'dropout_prob': 0.007908444953411687, 'activation': <exercise_code.networks.layer.LeakyRelu object at 0x12f65aee0>, 'loss_func': <exercise_code.networks.loss.CrossEntropyFromLogits object at 0x12f657580>}\n",
      "(Epoch 1 / 20) train loss: 2.302592; val loss: 2.302590\n",
      "(Epoch 2 / 20) train loss: 2.178119; val loss: 1.902428\n",
      "(Epoch 3 / 20) train loss: 1.929100; val loss: 1.855762\n",
      "(Epoch 4 / 20) train loss: 1.729906; val loss: 1.860487\n",
      "(Epoch 5 / 20) train loss: 1.557045; val loss: 1.856758\n",
      "(Epoch 6 / 20) train loss: 1.364840; val loss: 2.205138\n",
      "(Epoch 7 / 20) train loss: 1.187259; val loss: 2.267951\n",
      "(Epoch 8 / 20) train loss: 1.023453; val loss: 2.691254\n",
      "Stopping early at epoch 7!\n",
      "\n",
      "Evaluating Config #91 [of 100]:\n",
      " {'learning_rate': 8.444402437232547e-05, 'reg': 4.494488282787642e-07, 'hidden_size': 535, 'num_layer': 3, 'dropout_prob': 0.08934424577298224, 'activation': <exercise_code.networks.layer.LeakyRelu object at 0x12f65aee0>, 'loss_func': <exercise_code.networks.loss.CrossEntropyFromLogits object at 0x12f657580>}\n",
      "(Epoch 1 / 20) train loss: 2.302586; val loss: 2.302587\n",
      "(Epoch 2 / 20) train loss: 2.251346; val loss: 2.048525\n",
      "(Epoch 3 / 20) train loss: 2.078523; val loss: 2.051383\n",
      "(Epoch 4 / 20) train loss: 1.909851; val loss: 1.828366\n",
      "(Epoch 5 / 20) train loss: 1.801821; val loss: 1.847277\n",
      "(Epoch 6 / 20) train loss: 1.700030; val loss: 1.845615\n",
      "(Epoch 7 / 20) train loss: 1.625435; val loss: 1.768289\n",
      "(Epoch 8 / 20) train loss: 1.518240; val loss: 1.821606\n",
      "(Epoch 9 / 20) train loss: 1.435730; val loss: 1.966260\n",
      "(Epoch 10 / 20) train loss: 1.333824; val loss: 1.873957\n",
      "(Epoch 11 / 20) train loss: 1.235314; val loss: 1.961916\n",
      "(Epoch 12 / 20) train loss: 1.154651; val loss: 1.989430\n",
      "Stopping early at epoch 11!\n",
      "\n",
      "Evaluating Config #92 [of 100]:\n",
      " {'learning_rate': 0.000398492383039515, 'reg': 4.839553121637189e-07, 'hidden_size': 225, 'num_layer': 5, 'dropout_prob': 0.028453508616558355, 'activation': <exercise_code.networks.layer.LeakyRelu object at 0x12f65aee0>, 'loss_func': <exercise_code.networks.loss.CrossEntropyFromLogits object at 0x12f657580>}\n",
      "(Epoch 1 / 20) train loss: 2.302586; val loss: 2.302586\n",
      "(Epoch 2 / 20) train loss: 2.302731; val loss: 2.302452\n",
      "(Epoch 3 / 20) train loss: 2.302306; val loss: 2.302310\n",
      "(Epoch 4 / 20) train loss: 2.301915; val loss: 2.302446\n",
      "(Epoch 5 / 20) train loss: 2.301483; val loss: 2.301968\n",
      "(Epoch 6 / 20) train loss: 2.301027; val loss: 2.302328\n",
      "(Epoch 7 / 20) train loss: 2.300712; val loss: 2.302224\n",
      "(Epoch 8 / 20) train loss: 2.300539; val loss: 2.302523\n"
     ]
    },
    {
     "name": "stdout",
     "output_type": "stream",
     "text": [
      "(Epoch 9 / 20) train loss: 2.300244; val loss: 2.302409\n",
      "(Epoch 10 / 20) train loss: 2.268786; val loss: 2.204215\n",
      "(Epoch 11 / 20) train loss: 2.134070; val loss: 2.052348\n",
      "(Epoch 12 / 20) train loss: 2.071804; val loss: 1.980721\n",
      "(Epoch 13 / 20) train loss: 1.977216; val loss: 1.965623\n",
      "(Epoch 14 / 20) train loss: 1.885721; val loss: 1.936274\n",
      "(Epoch 15 / 20) train loss: 1.782240; val loss: 1.883376\n",
      "(Epoch 16 / 20) train loss: 1.668767; val loss: 1.905200\n",
      "(Epoch 17 / 20) train loss: 1.494834; val loss: 2.101227\n",
      "(Epoch 18 / 20) train loss: 1.420201; val loss: 1.950338\n",
      "(Epoch 19 / 20) train loss: 1.240808; val loss: 2.282499\n",
      "(Epoch 20 / 20) train loss: 1.161778; val loss: 2.289253\n",
      "Stopping early at epoch 19!\n",
      "\n",
      "Evaluating Config #93 [of 100]:\n",
      " {'learning_rate': 0.0008197944529313593, 'reg': 5.8318733121622145e-05, 'hidden_size': 417, 'num_layer': 5, 'dropout_prob': 0.00236384554463297, 'activation': <exercise_code.networks.layer.LeakyRelu object at 0x12f65aee0>, 'loss_func': <exercise_code.networks.loss.CrossEntropyFromLogits object at 0x12f657580>}\n",
      "(Epoch 1 / 20) train loss: 2.302691; val loss: 2.302691\n",
      "(Epoch 2 / 20) train loss: 2.302881; val loss: 2.302341\n",
      "(Epoch 3 / 20) train loss: 2.301995; val loss: 2.302268\n",
      "(Epoch 4 / 20) train loss: 2.301359; val loss: 2.302489\n",
      "(Epoch 5 / 20) train loss: 2.301237; val loss: 2.302448\n",
      "(Epoch 6 / 20) train loss: 2.300671; val loss: 2.302926\n",
      "(Epoch 7 / 20) train loss: 2.300574; val loss: 2.302955\n",
      "(Epoch 8 / 20) train loss: 2.300241; val loss: 2.303178\n",
      "Stopping early at epoch 7!\n",
      "\n",
      "Evaluating Config #94 [of 100]:\n",
      " {'learning_rate': 0.03499530555685623, 'reg': 7.513316275038198e-07, 'hidden_size': 533, 'num_layer': 5, 'dropout_prob': 0.09753339504231004, 'activation': <exercise_code.networks.layer.LeakyRelu object at 0x12f65aee0>, 'loss_func': <exercise_code.networks.loss.CrossEntropyFromLogits object at 0x12f657580>}\n",
      "(Epoch 1 / 20) train loss: 2.302587; val loss: 2.302587\n",
      "(Epoch 2 / 20) train loss: nan; val loss: nan\n",
      "(Epoch 3 / 20) train loss: nan; val loss: nan\n",
      "(Epoch 4 / 20) train loss: nan; val loss: nan\n",
      "(Epoch 5 / 20) train loss: nan; val loss: nan\n",
      "(Epoch 6 / 20) train loss: nan; val loss: nan\n",
      "Stopping early at epoch 5!\n",
      "\n",
      "Evaluating Config #95 [of 100]:\n",
      " {'learning_rate': 0.0012635843968850302, 'reg': 3.1515375189503935e-05, 'hidden_size': 224, 'num_layer': 4, 'dropout_prob': 0.030188148468003773, 'activation': <exercise_code.networks.layer.LeakyRelu object at 0x12f65aee0>, 'loss_func': <exercise_code.networks.loss.CrossEntropyFromLogits object at 0x12f657580>}\n",
      "(Epoch 1 / 20) train loss: 2.302610; val loss: 2.302610\n",
      "(Epoch 2 / 20) train loss: 2.303021; val loss: 2.302112\n",
      "(Epoch 3 / 20) train loss: 2.385774; val loss: 2.417852\n",
      "(Epoch 4 / 20) train loss: 2.242150; val loss: 2.376705\n",
      "(Epoch 5 / 20) train loss: 2.079164; val loss: 2.073291\n",
      "(Epoch 6 / 20) train loss: 1.938609; val loss: 1.935038\n",
      "(Epoch 7 / 20) train loss: 1.827122; val loss: 1.902956\n",
      "(Epoch 8 / 20) train loss: 1.727867; val loss: 2.029303\n",
      "(Epoch 9 / 20) train loss: 1.661802; val loss: 2.193269\n",
      "(Epoch 10 / 20) train loss: 1.548675; val loss: 2.272720\n",
      "(Epoch 11 / 20) train loss: 1.511325; val loss: 2.138141\n",
      "(Epoch 12 / 20) train loss: 1.523135; val loss: 2.678161\n",
      "Stopping early at epoch 11!\n",
      "\n",
      "Evaluating Config #96 [of 100]:\n",
      " {'learning_rate': 0.017507921659358522, 'reg': 1.1847245028837947e-07, 'hidden_size': 269, 'num_layer': 4, 'dropout_prob': 0.03493665618494336, 'activation': <exercise_code.networks.layer.LeakyRelu object at 0x12f65aee0>, 'loss_func': <exercise_code.networks.loss.CrossEntropyFromLogits object at 0x12f657580>}\n",
      "(Epoch 1 / 20) train loss: 2.302585; val loss: 2.302585\n",
      "(Epoch 2 / 20) train loss: nan; val loss: nan\n",
      "(Epoch 3 / 20) train loss: nan; val loss: nan\n",
      "(Epoch 4 / 20) train loss: nan; val loss: nan\n",
      "(Epoch 5 / 20) train loss: nan; val loss: nan\n",
      "(Epoch 6 / 20) train loss: nan; val loss: nan\n",
      "Stopping early at epoch 5!\n",
      "\n",
      "Evaluating Config #97 [of 100]:\n",
      " {'learning_rate': 0.0038494053621422873, 'reg': 4.185296114925331e-06, 'hidden_size': 288, 'num_layer': 3, 'dropout_prob': 0.04801291050400507, 'activation': <exercise_code.networks.layer.LeakyRelu object at 0x12f65aee0>, 'loss_func': <exercise_code.networks.loss.CrossEntropyFromLogits object at 0x12f657580>}\n",
      "(Epoch 1 / 20) train loss: 2.302589; val loss: 2.302590\n",
      "(Epoch 2 / 20) train loss: 3.110271; val loss: 3.426913\n",
      "(Epoch 3 / 20) train loss: 4.185569; val loss: 4.829615\n",
      "(Epoch 4 / 20) train loss: 4.604440; val loss: 5.581296\n",
      "(Epoch 5 / 20) train loss: 5.182304; val loss: 6.007973\n",
      "(Epoch 6 / 20) train loss: 5.846248; val loss: 6.187574\n",
      "Stopping early at epoch 5!\n",
      "\n",
      "Evaluating Config #98 [of 100]:\n",
      " {'learning_rate': 0.00010039174465471256, 'reg': 4.867193697600631e-06, 'hidden_size': 558, 'num_layer': 4, 'dropout_prob': 0.015973960766229766, 'activation': <exercise_code.networks.layer.LeakyRelu object at 0x12f65aee0>, 'loss_func': <exercise_code.networks.loss.CrossEntropyFromLogits object at 0x12f657580>}\n",
      "(Epoch 1 / 20) train loss: 2.302596; val loss: 2.302597\n",
      "(Epoch 2 / 20) train loss: 2.302622; val loss: 2.302507\n",
      "(Epoch 3 / 20) train loss: 2.302483; val loss: 2.302479\n",
      "(Epoch 4 / 20) train loss: 2.302365; val loss: 2.302387\n",
      "(Epoch 5 / 20) train loss: 2.302140; val loss: 2.302286\n",
      "(Epoch 6 / 20) train loss: 2.262391; val loss: 2.104951\n",
      "(Epoch 7 / 20) train loss: 2.099207; val loss: 1.981153\n",
      "(Epoch 8 / 20) train loss: 2.039227; val loss: 1.996965\n",
      "(Epoch 9 / 20) train loss: 1.966112; val loss: 1.988980\n",
      "(Epoch 10 / 20) train loss: 1.897616; val loss: 1.996841\n",
      "(Epoch 11 / 20) train loss: 1.790322; val loss: 1.895217\n",
      "(Epoch 12 / 20) train loss: 1.642561; val loss: 2.209151\n",
      "(Epoch 13 / 20) train loss: 1.550089; val loss: 2.110548\n",
      "(Epoch 14 / 20) train loss: 1.406599; val loss: 2.163598\n",
      "(Epoch 15 / 20) train loss: 1.254228; val loss: 2.746900\n",
      "(Epoch 16 / 20) train loss: 1.176091; val loss: 2.589300\n",
      "Stopping early at epoch 15!\n",
      "\n",
      "Evaluating Config #99 [of 100]:\n",
      " {'learning_rate': 0.0007681607392334557, 'reg': 2.0797731089155472e-07, 'hidden_size': 546, 'num_layer': 5, 'dropout_prob': 0.07686273300249861, 'activation': <exercise_code.networks.layer.LeakyRelu object at 0x12f65aee0>, 'loss_func': <exercise_code.networks.loss.CrossEntropyFromLogits object at 0x12f657580>}\n",
      "(Epoch 1 / 20) train loss: 2.302586; val loss: 2.302586\n",
      "(Epoch 2 / 20) train loss: 2.302888; val loss: 2.301817\n",
      "(Epoch 3 / 20) train loss: 2.302243; val loss: 2.301960\n",
      "(Epoch 4 / 20) train loss: 2.301277; val loss: 2.301596\n",
      "(Epoch 5 / 20) train loss: 2.301074; val loss: 2.302559\n",
      "(Epoch 6 / 20) train loss: 2.300409; val loss: 2.302889\n",
      "(Epoch 7 / 20) train loss: 2.300422; val loss: 2.302689\n",
      "(Epoch 8 / 20) train loss: 2.300526; val loss: 2.303047\n",
      "(Epoch 9 / 20) train loss: 2.300533; val loss: 2.303211\n",
      "Stopping early at epoch 8!\n",
      "\n",
      "Evaluating Config #100 [of 100]:\n",
      " {'learning_rate': 0.0003007421532877048, 'reg': 1.9744233542224557e-05, 'hidden_size': 537, 'num_layer': 4, 'dropout_prob': 0.09636354309623767, 'activation': <exercise_code.networks.layer.LeakyRelu object at 0x12f65aee0>, 'loss_func': <exercise_code.networks.loss.CrossEntropyFromLogits object at 0x12f657580>}\n",
      "(Epoch 1 / 20) train loss: 2.302629; val loss: 2.302629\n",
      "(Epoch 2 / 20) train loss: 2.302772; val loss: 2.302541\n",
      "(Epoch 3 / 20) train loss: 2.303027; val loss: 2.237076\n",
      "(Epoch 4 / 20) train loss: 2.171286; val loss: 2.025657\n",
      "(Epoch 5 / 20) train loss: 2.009368; val loss: 1.916676\n",
      "(Epoch 6 / 20) train loss: 1.847950; val loss: 1.877517\n",
      "(Epoch 7 / 20) train loss: 1.686197; val loss: 1.885463\n",
      "(Epoch 8 / 20) train loss: 1.548686; val loss: 1.810205\n",
      "(Epoch 9 / 20) train loss: 1.410647; val loss: 1.932013\n",
      "(Epoch 10 / 20) train loss: 1.306661; val loss: 2.092623\n",
      "(Epoch 11 / 20) train loss: 1.106463; val loss: 2.417239\n",
      "(Epoch 12 / 20) train loss: 1.006089; val loss: 2.185904\n",
      "(Epoch 13 / 20) train loss: 0.878563; val loss: 2.845693\n",
      "Stopping early at epoch 12!\n",
      "\n",
      "Search done. Best Val Loss = 1.7228664199274275\n",
      "Best Config: {'learning_rate': 0.000743689318563993, 'reg': 3.350133846281644e-06, 'hidden_size': 519, 'num_layer': 4, 'dropout_prob': 0.05135071787671595, 'activation': <exercise_code.networks.layer.LeakyRelu object at 0x12f65aee0>, 'loss_func': <exercise_code.networks.loss.CrossEntropyFromLogits object at 0x12f657580>}\n"
     ]
    }
   ],
   "source": [
    "from exercise_code.networks.classification_net import ClassificationNet\n",
    "\n",
    "best_model = None\n",
    "results = {}\n",
    "\n",
    "best_model, results = random_search(\n",
    "    dataloaders['train_small'], dataloaders['val_500files'],\n",
    "    random_search_spaces = {\n",
    "        \"learning_rate\": ([5e-5, 5e-2], 'log'),\n",
    "        \"reg\": ([1e-7, 1e-4], \"log\"),\n",
    "        \"hidden_size\": ([200, 600], \"int\"),\n",
    "        \"num_layer\": ([3, 5], \"int\"),\n",
    "        \"dropout_prob\": ([0, 0.2], \"float\"),\n",
    "        \"activation\": ([LeakyRelu(slope=0.05)], \"item\"),\n",
    "        \"loss_func\": ([CrossEntropyFromLogits()], \"item\")\n",
    "    },\n",
    "    model_class=ClassificationNet,\n",
    "    num_search=10, epochs=20, patience=5)"
   ]
  },
  {
   "cell_type": "code",
   "execution_count": 98,
   "metadata": {},
   "outputs": [],
   "source": [
    "import pickle\n",
    "\n",
    "best_loss = float('inf')\n",
    "best_params = None\n",
    "for params, losses in results:\n",
    "    val_loss = losses['val_loss']\n",
    "    if val_loss < best_loss:\n",
    "        best_loss = val_loss\n",
    "        best_params = params"
   ]
  },
  {
   "cell_type": "code",
   "execution_count": 105,
   "metadata": {},
   "outputs": [
    {
     "data": {
      "text/plain": [
       "{'learning_rate': 0.000743689318563993,\n",
       " 'reg': 3.350133846281644e-06,\n",
       " 'hidden_size': 519,\n",
       " 'num_layer': 4,\n",
       " 'dropout_prob': 0.05135071787671595,\n",
       " 'activation': <exercise_code.networks.layer.LeakyRelu at 0x12f65aee0>,\n",
       " 'loss_func': <exercise_code.networks.loss.CrossEntropyFromLogits at 0x12f657580>}"
      ]
     },
     "execution_count": 105,
     "metadata": {},
     "output_type": "execute_result"
    }
   ],
   "source": [
    "if len(results) == 0:\n",
    "    # No training done, we're reloading\n",
    "    with open('randomfile', 'rb') as fp:\n",
    "        best_params = pickle.load(fp)\n",
    "best_params"
   ]
  },
  {
   "cell_type": "code",
   "execution_count": 106,
   "metadata": {},
   "outputs": [
    {
     "name": "stdout",
     "output_type": "stream",
     "text": [
      "1.7228664199274275\n"
     ]
    }
   ],
   "source": [
    "print(best_loss)"
   ]
  },
  {
   "cell_type": "code",
   "execution_count": 107,
   "metadata": {},
   "outputs": [
    {
     "ename": "PicklingError",
     "evalue": "Can't pickle <class 'exercise_code.networks.layer.LeakyRelu'>: it's not the same object as exercise_code.networks.layer.LeakyRelu",
     "output_type": "error",
     "traceback": [
      "\u001b[0;31m---------------------------------------------------------------------------\u001b[0m",
      "\u001b[0;31mPicklingError\u001b[0m                             Traceback (most recent call last)",
      "Input \u001b[0;32mIn [107]\u001b[0m, in \u001b[0;36m<cell line: 1>\u001b[0;34m()\u001b[0m\n\u001b[1;32m      1\u001b[0m \u001b[38;5;28;01mwith\u001b[39;00m \u001b[38;5;28mopen\u001b[39m(\u001b[38;5;124m'\u001b[39m\u001b[38;5;124mrandomfile\u001b[39m\u001b[38;5;124m'\u001b[39m, \u001b[38;5;124m'\u001b[39m\u001b[38;5;124mwb\u001b[39m\u001b[38;5;124m'\u001b[39m) \u001b[38;5;28;01mas\u001b[39;00m fp:\n\u001b[0;32m----> 2\u001b[0m     \u001b[43mpickle\u001b[49m\u001b[38;5;241;43m.\u001b[39;49m\u001b[43mdump\u001b[49m\u001b[43m(\u001b[49m\u001b[43mbest_params\u001b[49m\u001b[43m,\u001b[49m\u001b[43m \u001b[49m\u001b[43mfp\u001b[49m\u001b[43m)\u001b[49m\n",
      "\u001b[0;31mPicklingError\u001b[0m: Can't pickle <class 'exercise_code.networks.layer.LeakyRelu'>: it's not the same object as exercise_code.networks.layer.LeakyRelu"
     ]
    }
   ],
   "source": [
    "with open('randomfile', 'wb') as fp:\n",
    "    pickle.dump(best_params, fp)"
   ]
  },
  {
   "cell_type": "code",
   "execution_count": 111,
   "metadata": {},
   "outputs": [
    {
     "name": "stdout",
     "output_type": "stream",
     "text": [
      "(Epoch 1 / 15) train loss: 2.302592; val loss: 2.302591\n",
      "(Epoch 2 / 15) train loss: 1.959748; val loss: 1.749382\n",
      "(Epoch 3 / 15) train loss: 1.632260; val loss: 1.581223\n",
      "(Epoch 4 / 15) train loss: 1.486513; val loss: 1.512700\n",
      "(Epoch 5 / 15) train loss: 1.386078; val loss: 1.474501\n",
      "(Epoch 6 / 15) train loss: 1.294552; val loss: 1.460791\n",
      "(Epoch 7 / 15) train loss: 1.220938; val loss: 1.463856\n"
     ]
    },
    {
     "ename": "KeyboardInterrupt",
     "evalue": "",
     "output_type": "error",
     "traceback": [
      "\u001b[0;31m---------------------------------------------------------------------------\u001b[0m",
      "\u001b[0;31mKeyboardInterrupt\u001b[0m                         Traceback (most recent call last)",
      "Input \u001b[0;32mIn [111]\u001b[0m, in \u001b[0;36m<cell line: 21>\u001b[0;34m()\u001b[0m\n\u001b[1;32m     12\u001b[0m loss \u001b[38;5;241m=\u001b[39m CrossEntropyFromLogits()\n\u001b[1;32m     14\u001b[0m solver \u001b[38;5;241m=\u001b[39m Solver(\n\u001b[1;32m     15\u001b[0m     best_model, train_loader, dataloaders[\u001b[38;5;124m'\u001b[39m\u001b[38;5;124mval\u001b[39m\u001b[38;5;124m'\u001b[39m], \n\u001b[1;32m     16\u001b[0m     learning_rate\u001b[38;5;241m=\u001b[39mbest_params[\u001b[38;5;124m'\u001b[39m\u001b[38;5;124mlearning_rate\u001b[39m\u001b[38;5;124m'\u001b[39m],\n\u001b[1;32m     17\u001b[0m     loss_func\u001b[38;5;241m=\u001b[39mbest_params[\u001b[38;5;124m'\u001b[39m\u001b[38;5;124mloss_func\u001b[39m\u001b[38;5;124m'\u001b[39m],\n\u001b[1;32m     18\u001b[0m     optimizer\u001b[38;5;241m=\u001b[39mAdam\n\u001b[1;32m     19\u001b[0m )\n\u001b[0;32m---> 21\u001b[0m \u001b[43msolver\u001b[49m\u001b[38;5;241;43m.\u001b[39;49m\u001b[43mtrain\u001b[49m\u001b[43m(\u001b[49m\u001b[43mepochs\u001b[49m\u001b[38;5;241;43m=\u001b[39;49m\u001b[43mepochs\u001b[49m\u001b[43m)\u001b[49m\n",
      "File \u001b[0;32m~/Desktop/master/i2dl/exercise_06/exercise_code/solver.py:145\u001b[0m, in \u001b[0;36mSolver.train\u001b[0;34m(self, epochs, patience)\u001b[0m\n\u001b[1;32m    143\u001b[0m \u001b[38;5;66;03m# Update the model parameters.\u001b[39;00m\n\u001b[1;32m    144\u001b[0m validate \u001b[38;5;241m=\u001b[39m t \u001b[38;5;241m==\u001b[39m \u001b[38;5;241m0\u001b[39m\n\u001b[0;32m--> 145\u001b[0m train_loss \u001b[38;5;241m=\u001b[39m \u001b[38;5;28;43mself\u001b[39;49m\u001b[38;5;241;43m.\u001b[39;49m\u001b[43m_step\u001b[49m\u001b[43m(\u001b[49m\u001b[43mX\u001b[49m\u001b[43m,\u001b[49m\u001b[43m \u001b[49m\u001b[43my\u001b[49m\u001b[43m,\u001b[49m\u001b[43m \u001b[49m\u001b[43mvalidation\u001b[49m\u001b[38;5;241;43m=\u001b[39;49m\u001b[43mvalidate\u001b[49m\u001b[43m)\u001b[49m\n\u001b[1;32m    147\u001b[0m \u001b[38;5;28mself\u001b[39m\u001b[38;5;241m.\u001b[39mtrain_batch_loss\u001b[38;5;241m.\u001b[39mappend(train_loss)\n\u001b[1;32m    148\u001b[0m train_epoch_loss \u001b[38;5;241m+\u001b[39m\u001b[38;5;241m=\u001b[39m train_loss\n",
      "File \u001b[0;32m~/Desktop/master/i2dl/exercise_06/exercise_code/solver.py:117\u001b[0m, in \u001b[0;36mSolver._step\u001b[0;34m(self, X, y, validation)\u001b[0m\n\u001b[1;32m    114\u001b[0m \u001b[38;5;66;03m# Perform gradient update (only in train mode)\u001b[39;00m\n\u001b[1;32m    115\u001b[0m \u001b[38;5;28;01mif\u001b[39;00m \u001b[38;5;129;01mnot\u001b[39;00m validation:\n\u001b[1;32m    116\u001b[0m     \u001b[38;5;66;03m# Compute gradients\u001b[39;00m\n\u001b[0;32m--> 117\u001b[0m     \u001b[38;5;28;43mself\u001b[39;49m\u001b[38;5;241;43m.\u001b[39;49m\u001b[43mopt\u001b[49m\u001b[38;5;241;43m.\u001b[39;49m\u001b[43mbackward\u001b[49m\u001b[43m(\u001b[49m\u001b[43my_pred\u001b[49m\u001b[43m,\u001b[49m\u001b[43m \u001b[49m\u001b[43my\u001b[49m\u001b[43m)\u001b[49m\n\u001b[1;32m    118\u001b[0m     \u001b[38;5;66;03m# Update weights\u001b[39;00m\n\u001b[1;32m    119\u001b[0m     \u001b[38;5;28mself\u001b[39m\u001b[38;5;241m.\u001b[39mopt\u001b[38;5;241m.\u001b[39mstep()\n",
      "File \u001b[0;32m~/Desktop/master/i2dl/exercise_06/exercise_code/networks/optimizer.py:182\u001b[0m, in \u001b[0;36mAdam.backward\u001b[0;34m(self, y_pred, y_true)\u001b[0m\n\u001b[1;32m    178\u001b[0m \u001b[38;5;124;03m\"\"\"\u001b[39;00m\n\u001b[1;32m    179\u001b[0m \u001b[38;5;124;03mCompute the gradients wrt the weights of your model\u001b[39;00m\n\u001b[1;32m    180\u001b[0m \u001b[38;5;124;03m\"\"\"\u001b[39;00m\n\u001b[1;32m    181\u001b[0m dout \u001b[38;5;241m=\u001b[39m \u001b[38;5;28mself\u001b[39m\u001b[38;5;241m.\u001b[39mloss_func\u001b[38;5;241m.\u001b[39mbackward(y_pred, y_true)\n\u001b[0;32m--> 182\u001b[0m \u001b[38;5;28;43mself\u001b[39;49m\u001b[38;5;241;43m.\u001b[39;49m\u001b[43mmodel\u001b[49m\u001b[38;5;241;43m.\u001b[39;49m\u001b[43mbackward\u001b[49m\u001b[43m(\u001b[49m\u001b[43mdout\u001b[49m\u001b[43m)\u001b[49m\n",
      "File \u001b[0;32m~/Desktop/master/i2dl/exercise_06/exercise_code/networks/classification_net.py:131\u001b[0m, in \u001b[0;36mClassificationNet.backward\u001b[0;34m(self, dy)\u001b[0m\n\u001b[1;32m    128\u001b[0m dh \u001b[38;5;241m=\u001b[39m \u001b[38;5;28mself\u001b[39m\u001b[38;5;241m.\u001b[39mactivation\u001b[38;5;241m.\u001b[39mbackward(dh, cache_sigmoid)\n\u001b[1;32m    130\u001b[0m \u001b[38;5;66;03m# Affine backward\u001b[39;00m\n\u001b[0;32m--> 131\u001b[0m dh, dW, db \u001b[38;5;241m=\u001b[39m \u001b[43maffine_backward\u001b[49m\u001b[43m(\u001b[49m\u001b[43mdh\u001b[49m\u001b[43m,\u001b[49m\u001b[43m \u001b[49m\u001b[43mcache_affine\u001b[49m\u001b[43m)\u001b[49m\n\u001b[1;32m    133\u001b[0m \u001b[38;5;66;03m# Refresh the gradients\u001b[39;00m\n\u001b[1;32m    134\u001b[0m \u001b[38;5;28mself\u001b[39m\u001b[38;5;241m.\u001b[39mgrads[\u001b[38;5;124m'\u001b[39m\u001b[38;5;124mW\u001b[39m\u001b[38;5;124m'\u001b[39m \u001b[38;5;241m+\u001b[39m \u001b[38;5;28mstr\u001b[39m(i \u001b[38;5;241m+\u001b[39m \u001b[38;5;241m1\u001b[39m)] \u001b[38;5;241m=\u001b[39m dW \u001b[38;5;241m+\u001b[39m \u001b[38;5;241m2\u001b[39m \u001b[38;5;241m*\u001b[39m \u001b[38;5;28mself\u001b[39m\u001b[38;5;241m.\u001b[39mreg_strength \u001b[38;5;241m*\u001b[39m \\\n\u001b[1;32m    135\u001b[0m                                \u001b[38;5;28mself\u001b[39m\u001b[38;5;241m.\u001b[39mparams[\u001b[38;5;124m'\u001b[39m\u001b[38;5;124mW\u001b[39m\u001b[38;5;124m'\u001b[39m \u001b[38;5;241m+\u001b[39m \u001b[38;5;28mstr\u001b[39m(i \u001b[38;5;241m+\u001b[39m \u001b[38;5;241m1\u001b[39m)]\n",
      "File \u001b[0;32m~/Desktop/master/i2dl/exercise_06/exercise_code/networks/layer.py:50\u001b[0m, in \u001b[0;36maffine_backward\u001b[0;34m(dout, cache)\u001b[0m\n\u001b[1;32m     46\u001b[0m dw \u001b[38;5;241m=\u001b[39m np\u001b[38;5;241m.\u001b[39mreshape(dw, w\u001b[38;5;241m.\u001b[39mshape)\n\u001b[1;32m     48\u001b[0m db \u001b[38;5;241m=\u001b[39m np\u001b[38;5;241m.\u001b[39msum(dout, axis\u001b[38;5;241m=\u001b[39m\u001b[38;5;241m0\u001b[39m, keepdims\u001b[38;5;241m=\u001b[39m\u001b[38;5;28;01mFalse\u001b[39;00m)\n\u001b[0;32m---> 50\u001b[0m dx \u001b[38;5;241m=\u001b[39m \u001b[43mdout\u001b[49m\u001b[38;5;241;43m.\u001b[39;49m\u001b[43mdot\u001b[49m\u001b[43m(\u001b[49m\u001b[43mw\u001b[49m\u001b[38;5;241;43m.\u001b[39;49m\u001b[43mT\u001b[49m\u001b[43m)\u001b[49m\n\u001b[1;32m     51\u001b[0m dx \u001b[38;5;241m=\u001b[39m np\u001b[38;5;241m.\u001b[39mreshape(dx, x\u001b[38;5;241m.\u001b[39mshape)\n\u001b[1;32m     52\u001b[0m \u001b[38;5;28;01mreturn\u001b[39;00m dx, dw, db\n",
      "\u001b[0;31mKeyboardInterrupt\u001b[0m: "
     ]
    }
   ],
   "source": [
    "epochs = 15\n",
    "\n",
    "best_model = ClassificationNet(**{**best_params, 'learning_rate': 0.00743689318563993, 'num_layer': 5, 'dropout_prob': 0.8})\n",
    "\n",
    "# Change here if you want to use the full training set\n",
    "use_full_training_set = True\n",
    "if not use_full_training_set:\n",
    "    train_loader = dataloaders['train_small']\n",
    "else:\n",
    "    train_loader = dataloaders['train']\n",
    "\n",
    "loss = CrossEntropyFromLogits()\n",
    "\n",
    "solver = Solver(\n",
    "    best_model, train_loader, dataloaders['val'], \n",
    "    learning_rate=best_params['learning_rate'],\n",
    "    loss_func=best_params['loss_func'],\n",
    "    optimizer=Adam\n",
    ")\n",
    "\n",
    "solver.train(epochs=epochs)"
   ]
  },
  {
   "cell_type": "code",
   "execution_count": 112,
   "metadata": {},
   "outputs": [
    {
     "data": {
      "image/png": "[encoded data removed]",
      "text/plain": [
       "<Figure size 720x576 with 1 Axes>"
      ]
     },
     "metadata": {
      "needs_background": "light"
     },
     "output_type": "display_data"
    }
   ],
   "source": [
    "plt.title('Loss curves')\n",
    "plt.plot(solver.train_loss_history, '-', label='train')\n",
    "plt.plot(solver.val_loss_history, '-', label='val')\n",
    "plt.legend(loc='lower right')\n",
    "plt.xlabel('Iteration')\n",
    "plt.show()"
   ]
  },
  {
   "cell_type": "markdown",
   "metadata": {
    "id": "gmZbWaaIN5er"
   },
   "source": [
    "Now it's time to edit the ranges above and adjust them to explore regions that performed well!\n",
    "\n",
    "Also, feel free to experiment around. Other hyperparameters you can change are the network architecture, optimizer, activations functions and many more.\n",
    "\n",
    "Try to get an accuracy as high as possible, since that's all what counts for this submission!\n",
    "\n",
    "You'll pass if you reach at least **48%** accuracy on our test set - but there will also be a leaderboard of all students of this course. Can you make it to the top?"
   ]
  },
  {
   "cell_type": "markdown",
   "metadata": {
    "id": "mJZ7UXHeN5er"
   },
   "source": [
    "## 3.5 Checking the validation accuracy"
   ]
  },
  {
   "cell_type": "code",
   "execution_count": 113,
   "metadata": {
    "colab": {
     "background_save": true
    },
    "id": "qPyHczNJN5er",
    "outputId": "7cbc0fbb-2d6e-49a1-d518-83e2260ea339"
   },
   "outputs": [
    {
     "name": "stdout",
     "output_type": "stream",
     "text": [
      "Train Accuracy: 62.40317841880342%\n",
      "Validation Accuracy: 50.96153846153846%\n"
     ]
    }
   ],
   "source": [
    "labels, pred, acc = best_model.get_dataset_prediction(dataloaders['train'])\n",
    "print(\"Train Accuracy: {}%\".format(acc*100))\n",
    "labels, pred, acc = best_model.get_dataset_prediction(dataloaders['val'])\n",
    "print(\"Validation Accuracy: {}%\".format(acc*100))"
   ]
  },
  {
   "cell_type": "markdown",
   "metadata": {
    "id": "MQ_AGtp8N5er"
   },
   "source": [
    "# 4. Test your model\n",
    "When you have finished the hyperparameter tuning and you found your final model which performs well on the validation set (**you should at least get 48% accuracy on the validation set!**), it's time to run your model on the test set.\n",
    "\n",
    "<div class=\"alert alert-danger\">\n",
    "    <h3>Important</h3>\n",
    "    <p>As you have learned in the lecture, you must only use the test set once! So only run the next cell if you are completely sure that your model works well enough and that you are ready to submit. Your test set is different from the test set on our server, so results may vary a bit. Nevertheless, you will get a reasonable approximation of your model's performance if you perform the final evaluation on the test set only once.</p>\n",
    "    <p>If you are an external student that can't use our submission webpage: this test performance is your final result and if you surpassed the threshold, you have completed this exercise :). Now, train again to aim for a better number!</p>\n",
    "</div>"
   ]
  },
  {
   "cell_type": "code",
   "execution_count": null,
   "metadata": {
    "colab": {
     "background_save": true
    },
    "id": "xJ2lwiVUN5er",
    "outputId": "82f45e2a-7357-4444-d8c7-2296b7f6cb68"
   },
   "outputs": [],
   "source": [
    "# comment this part out to see your model's performance on the test set.\n",
    "# labels, pred, acc = best_model.get_dataset_prediction(dataloaders['test'])\n",
    "# print(\"Test Accuracy: {}%\".format(acc*100))"
   ]
  },
  {
   "cell_type": "markdown",
   "metadata": {
    "id": "K3MBnG7qN5er"
   },
   "source": [
    "<div class=\"alert alert-warning\">\n",
    "    <h3>Note:</h3>\n",
    "    <p>The \"real\" test set is actually the dataset we're using for testing your model, which is <b>different</b> from the test-set you're using here.</p>\n",
    "</div>"
   ]
  },
  {
   "cell_type": "markdown",
   "metadata": {
    "id": "2lOy_GulN5es"
   },
   "source": [
    "# 5. Saving your Model"
   ]
  },
  {
   "cell_type": "code",
   "execution_count": 114,
   "metadata": {
    "colab": {
     "background_save": true
    },
    "id": "icgNMAlEN5es"
   },
   "outputs": [
    {
     "ename": "PicklingError",
     "evalue": "Can't pickle <class 'exercise_code.networks.layer.LeakyRelu'>: it's not the same object as exercise_code.networks.layer.LeakyRelu",
     "output_type": "error",
     "traceback": [
      "\u001b[0;31m---------------------------------------------------------------------------\u001b[0m",
      "\u001b[0;31mPicklingError\u001b[0m                             Traceback (most recent call last)",
      "Input \u001b[0;32mIn [114]\u001b[0m, in \u001b[0;36m<cell line: 2>\u001b[0;34m()\u001b[0m\n\u001b[1;32m      1\u001b[0m \u001b[38;5;28;01mfrom\u001b[39;00m \u001b[38;5;21;01mexercise_code\u001b[39;00m\u001b[38;5;21;01m.\u001b[39;00m\u001b[38;5;21;01mtests\u001b[39;00m \u001b[38;5;28;01mimport\u001b[39;00m save_pickle\n\u001b[0;32m----> 2\u001b[0m \u001b[43msave_pickle\u001b[49m\u001b[43m(\u001b[49m\u001b[43m{\u001b[49m\u001b[38;5;124;43m\"\u001b[39;49m\u001b[38;5;124;43mcifar_fcn\u001b[39;49m\u001b[38;5;124;43m\"\u001b[39;49m\u001b[43m:\u001b[49m\u001b[43m \u001b[49m\u001b[43mbest_model\u001b[49m\u001b[43m}\u001b[49m\u001b[43m,\u001b[49m\u001b[43m \u001b[49m\u001b[38;5;124;43m\"\u001b[39;49m\u001b[38;5;124;43mcifar_fcn.p\u001b[39;49m\u001b[38;5;124;43m\"\u001b[39;49m\u001b[43m)\u001b[49m\n",
      "File \u001b[0;32m~/Desktop/master/i2dl/exercise_06/exercise_code/tests/eval_utils.py:22\u001b[0m, in \u001b[0;36msave_pickle\u001b[0;34m(data_dict, file_name)\u001b[0m\n\u001b[1;32m     20\u001b[0m \u001b[38;5;28;01mif\u001b[39;00m \u001b[38;5;129;01mnot\u001b[39;00m os\u001b[38;5;241m.\u001b[39mpath\u001b[38;5;241m.\u001b[39mexists(directory):\n\u001b[1;32m     21\u001b[0m     os\u001b[38;5;241m.\u001b[39mmakedirs(directory)\n\u001b[0;32m---> 22\u001b[0m \u001b[43mpickle\u001b[49m\u001b[38;5;241;43m.\u001b[39;49m\u001b[43mdump\u001b[49m\u001b[43m(\u001b[49m\u001b[43mdata_dict\u001b[49m\u001b[43m,\u001b[49m\u001b[43m \u001b[49m\u001b[38;5;28;43mopen\u001b[39;49m\u001b[43m(\u001b[49m\u001b[43mos\u001b[49m\u001b[38;5;241;43m.\u001b[39;49m\u001b[43mpath\u001b[49m\u001b[38;5;241;43m.\u001b[39;49m\u001b[43mjoin\u001b[49m\u001b[43m(\u001b[49m\u001b[43mdirectory\u001b[49m\u001b[43m,\u001b[49m\u001b[43m \u001b[49m\u001b[43mfile_name\u001b[49m\u001b[43m)\u001b[49m\u001b[43m,\u001b[49m\u001b[43m \u001b[49m\u001b[38;5;124;43m'\u001b[39;49m\u001b[38;5;124;43mwb\u001b[39;49m\u001b[38;5;124;43m'\u001b[39;49m\u001b[43m,\u001b[49m\u001b[43m \u001b[49m\u001b[38;5;241;43m4\u001b[39;49m\u001b[43m)\u001b[49m\u001b[43m)\u001b[49m\n",
      "\u001b[0;31mPicklingError\u001b[0m: Can't pickle <class 'exercise_code.networks.layer.LeakyRelu'>: it's not the same object as exercise_code.networks.layer.LeakyRelu"
     ]
    }
   ],
   "source": [
    "from exercise_code.tests import save_pickle\n",
    "save_pickle({\"cifar_fcn\": best_model}, \"cifar_fcn.p\")"
   ]
  },
  {
   "cell_type": "code",
   "execution_count": 85,
   "metadata": {
    "colab": {
     "background_save": true
    },
    "id": "Gd4TchGlN5es",
    "outputId": "b913c1bd-b861-47bb-c257-b30fa214e761"
   },
   "outputs": [
    {
     "name": "stdout",
     "output_type": "stream",
     "text": [
      "relevant folders: ['exercise_code', 'models']\n",
      "notebooks files: ['1.cifar10_classification.ipynb']\n",
      "Adding folder exercise_code\n",
      "Adding folder models\n",
      "Adding notebook 1.cifar10_classification.ipynb\n",
      "Zipping successful! Zip is stored under: /Users/onecutedei/Desktop/master/i2dl/output/exercise06.zip\n"
     ]
    }
   ],
   "source": [
    "from exercise_code.submit import submit_exercise\n",
    "\n",
    "submit_exercise('../output/exercise06')"
   ]
  },
  {
   "cell_type": "markdown",
   "metadata": {
    "id": "q5C_bKa5N5es"
   },
   "source": [
    "# 6. Submission Instructions\n",
    "\n",
    "Congratulations! You've just built your first image classifier! To complete the exercise, submit your final model to our submission portal - you probably know the procedure by now.\n",
    "\n",
    "1. Go on [our submission page](https://i2dl.dvl.in.tum.de/), register for an account and login. We use your matriculation number and send you an email with the login details to the associated mail account. When in doubt, login into tum-online and check your mails there. You will get an id which we'll need in the next step.\n",
    "2. Log into [our submission page](https://i2dl.dvl.in.tum.de/), with your account details and upload the zip file.\n",
    "3. Your submission will be evaluated by our system and you will get feedback about the performance of it. You will get an email with your score, as well as a message if you have surpassed the threshold or not.\n",
    "4. Within the working period, you can submit as many solutions as you want to get the best possible score.\n",
    "\n",
    "\n",
    "# 7. Submission Goals\n",
    "\n",
    "- Goal: Successfully implement a fully connected NN image classifier and tune the hyperparameters.\n",
    "\n",
    "- Passing Criteria: This time, there are no unit tests checking specific components of your code. To  pass the submission your model needs to reach at least **48% accuracy** on __our__ test dataset. The submission system will show you a number between 0 and 100 which corresponds to your accuracy.\n",
    "\n",
    "- Submission start: __June 14, 2022 16:00__\n",
    "- Submission deadline : __June 20, 2022 23:59__ \n",
    "- You can make **$\\infty$** submissions until the deadline. Your __best submission__ will be considered for the bonus."
   ]
  },
  {
   "cell_type": "markdown",
   "metadata": {},
   "source": [
    "# [Exercise Review](https://docs.google.com/forms/d/e/1FAIpQLScwZArz6ogLqBEj--ItB6unKcv0u9gWLj8bspeiATrDnFH9hA/viewform)\n",
    "We are always interested in your opinion. Now that you have finished this exercise, we would like you to give us some feedback about the time required to finish the submission and/or work through the notebooks. Please take the short time to fill out our [review form](https://docs.google.com/forms/d/e/1FAIpQLScwZArz6ogLqBEj--ItB6unKcv0u9gWLj8bspeiATrDnFH9hA/viewform) for this exercise so that we can do better next time! :)"
   ]
  }
 ],
 "metadata": {
  "colab": {
   "collapsed_sections": [
    "WKNRU4BWN5eg",
    "3MhxqP2LN5ej",
    "dbFSP4z9N5ek",
    "0TE2PxMBN5ek",
    "QUFotyERN5ek",
    "l0pZa4weN5eo",
    "rDyeiAN1N5ep",
    "DCaACnn3N5eq",
    "P8wWTovfN5eq",
    "mJZ7UXHeN5er"
   ],
   "name": "1.cifar10_classification.ipynb",
   "provenance": []
  },
  "kernelspec": {
   "display_name": "Python 3 (ipykernel)",
   "language": "python",
   "name": "python3"
  },
  "language_info": {
   "codemirror_mode": {
    "name": "ipython",
    "version": 3
   },
   "file_extension": ".py",
   "mimetype": "text/x-python",
   "name": "python",
   "nbconvert_exporter": "python",
   "pygments_lexer": "ipython3",
   "version": "3.9.13"
  }
 },
 "nbformat": 4,
 "nbformat_minor": 1
}
